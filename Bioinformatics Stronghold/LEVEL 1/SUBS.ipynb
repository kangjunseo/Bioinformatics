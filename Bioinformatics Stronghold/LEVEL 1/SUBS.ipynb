{
 "cells": [
  {
   "cell_type": "markdown",
   "id": "166635e0",
   "metadata": {},
   "source": [
    "# Finding a Motif in DNA\n",
    "## Problem\n",
    "Given two strings s and t, t is a substring of s if t is contained as a contiguous collection of symbols in s (as a result, t must be no longer than s).\n",
    "\n",
    "The position of a symbol in a string is the total number of symbols found to its left, including itself (e.g., the positions of all occurrences of 'U' in \"AUGCUUCAGAAAGGUCUUACG\" are 2, 5, 6, 15, 17, and 18). The symbol at position i of s is denoted by s[i].\n",
    "\n",
    "A substring of s can be represented as s[j:k], where j and k represent the starting and ending positions of the substring in s; for example, if s = \"AUGCUUCAGAAAGGUCUUACG\", then s[2:5] = \"UGCU\".\n",
    "\n",
    "The location of a substring s[j:k] is its beginning position j; note that t will have multiple locations in s if it occurs more than once as a substring of s (see the Sample below).\n",
    "\n",
    "Given: Two DNA strings s and t (each of length at most 1 kbp).\n",
    "\n",
    "Return: All locations of t as a substring of s.\n",
    "\n"
   ]
  },
  {
   "cell_type": "code",
   "execution_count": 15,
   "id": "d052dcc5",
   "metadata": {},
   "outputs": [
    {
     "name": "stdout",
     "output_type": "stream",
     "text": [
      "GAAAACCCTTTGCCCCCGATACGTCCGATACGATAGGTGCCGATACAGCCGATACCCGATACGCCCCCCGATACTCCGATACCCGATACTCCGATACTATATAGCCGATACACAGCCGATACGTCATACCCGATACACCGATACCCCGATACCTCCCGATACCCTATGGCCCCGATACTCCGATACTCCGATACACCCGATACCCGATACCCGATACCCGATACTTGTCCGATACACCGATACATGGACCGATACGTCCGATACTATATCCGATACACCGATACTCCGATACGTACCGATACTACCGATACTACCGATACCCGATACCCGATACCCGATACGCCGATACATCCGATACCCGATACCCGATACGCCGATACCCGATACATACCGATACGCCCGATACGCCGATACTGAGCCGATACCCGATACCACCGATACCACCGATACAATTATAGTAAATACTCCGATACGAACCGATACCACCGATACGCTCCCGATACTCCGATACTATATTTCCCGATACCCGATACAGCTGTTCCCGATACCGTACCGATACTGCCCGACCGATACCCCCGATACCCCAGTTTCCGATACGGCCGATACCGCCCGATACTTAATGACCGATACCCGATACGCCGATACTCCGATACGCGACCGATACGCCGATACCGGTGAATCCGATACATTGCCGATACCCGATACCGCGCCCGATACCTACCGATACTCTGGGAAGCCGATCCCGATACCCGATACGCCGCCGATACTCCGATACCGTCCGATACCCGATACCCGATACGCGTA CCGATACCC\n",
      "[49, 76, 138, 156, 197, 204, 211, 314, 321, 328, 352, 359, 374, 419, 520, 567, 576, 624, 692, 743, 779, 786]\n"
     ]
    }
   ],
   "source": [
    "s,t = input().split()\n",
    "list_idx = []\n",
    "for i in range(len(s)):\n",
    "    for j in range(len(t)):\n",
    "        if s[i+j] != t[j] :\n",
    "            break;\n",
    "        if j == len(t) -1 :\n",
    "            list_idx.append(i+1)\n",
    "\n",
    "print(list_idx)"
   ]
  },
  {
   "cell_type": "code",
   "execution_count": null,
   "id": "6e04c6d2",
   "metadata": {},
   "outputs": [],
   "source": []
  }
 ],
 "metadata": {
  "kernelspec": {
   "display_name": "Python 3 (ipykernel)",
   "language": "python",
   "name": "python3"
  },
  "language_info": {
   "codemirror_mode": {
    "name": "ipython",
    "version": 3
   },
   "file_extension": ".py",
   "mimetype": "text/x-python",
   "name": "python",
   "nbconvert_exporter": "python",
   "pygments_lexer": "ipython3",
   "version": "3.8.8"
  }
 },
 "nbformat": 4,
 "nbformat_minor": 5
}
