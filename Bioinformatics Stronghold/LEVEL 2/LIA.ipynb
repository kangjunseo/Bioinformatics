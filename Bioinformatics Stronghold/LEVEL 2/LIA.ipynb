{
 "cells": [
  {
   "cell_type": "markdown",
   "id": "d2a57820",
   "metadata": {},
   "source": [
    "# Independent Alleles\n",
    "## Problem\n",
    "Two events A and B are independent if Pr(A and B) is equal to Pr(A)×Pr(B). In other words, the events do not influence each other, so that we may simply calculate each of the individual probabilities separately and then multiply.\n",
    "\n",
    "More generally, random variables X and Y are independent if whenever A and B are respective events for X and Y, A and B are independent (i.e., Pr(A and B)=Pr(A)×Pr(B)).\n",
    "\n",
    "As an example of how helpful independence can be for calculating probabilities, let X and Y represent the numbers showing on two six-sided dice. Intuitively, the number of pips showing on one die should not affect the number showing on the other die. If we want to find the probability that X+Y is odd, then we don't need to draw a tree diagram and consider all possibilities. We simply first note that for X+Y to be odd, either X is even and Y is odd or X is odd and Y is even. In terms of probability, Pr(X+Y is odd)=Pr(X is even and Y is odd)+Pr(X is odd and Y is even). Using independence, this becomes [Pr(X is even)×Pr(Y is odd)]+[Pr(X is odd)×Pr(Y is even)], or (12)2+(12)2=12. You can verify this result in Figure 2, which shows all 36 outcomes for rolling two dice.\n",
    "\n",
    "** Given: Two positive integers k (k≤7) and N (N≤2k). In this problem, we begin with Tom, who in the 0th generation has genotype Aa Bb. Tom has two children in the 1st generation, each of whom has two children, and so on. Each organism always mates with an organism having genotype Aa Bb. **\n",
    "\n",
    "** Return: The probability that at least N Aa Bb organisms will belong to the k-th generation of Tom's family tree (don't count the Aa Bb mates at each level). Assume that Mendel's second law holds for the factors. **"
   ]
  },
  {
   "cell_type": "code",
   "execution_count": 25,
   "id": "bc0fabb0",
   "metadata": {},
   "outputs": [
    {
     "name": "stdout",
     "output_type": "stream",
     "text": [
      "7 35\n",
      "0.30060220579105024\n"
     ]
    }
   ],
   "source": [
    "k,N = map(int,input().split())\n",
    "M = 2**k\n",
    "sum_ = 0\n",
    "\n",
    "def fact(n):\n",
    "    if(n==1 or n==0) : return 1\n",
    "    return n * fact(n-1)\n",
    "\n",
    "def comb(n,m) :\n",
    "    return fact(n)/fact(n-m)/fact(m)\n",
    "        \n",
    "# P(at least N AaBb Organisms) = 1 - P(AaBb < N)\n",
    "for i in range(0,N) :\n",
    "    sum_ += comb(M,i)*((0.25)**i)*((0.75)**(M-i))\n",
    "    \n",
    "print(1-sum_)"
   ]
  },
  {
   "cell_type": "code",
   "execution_count": null,
   "id": "9de1bb87",
   "metadata": {},
   "outputs": [],
   "source": []
  },
  {
   "cell_type": "code",
   "execution_count": null,
   "id": "738c5eaf",
   "metadata": {},
   "outputs": [],
   "source": []
  }
 ],
 "metadata": {
  "kernelspec": {
   "display_name": "Python 3 (ipykernel)",
   "language": "python",
   "name": "python3"
  },
  "language_info": {
   "codemirror_mode": {
    "name": "ipython",
    "version": 3
   },
   "file_extension": ".py",
   "mimetype": "text/x-python",
   "name": "python",
   "nbconvert_exporter": "python",
   "pygments_lexer": "ipython3",
   "version": "3.8.8"
  }
 },
 "nbformat": 4,
 "nbformat_minor": 5
}
