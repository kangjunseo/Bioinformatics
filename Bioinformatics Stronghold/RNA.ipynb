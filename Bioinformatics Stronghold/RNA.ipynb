{
 "cells": [
  {
   "cell_type": "markdown",
   "id": "643e595a",
   "metadata": {},
   "source": [
    "# Transcribing DNA into RNA\n",
    "\n",
    "## Problem\n",
    "\n",
    "Problem\n",
    "An RNA string is a string formed from the alphabet containing 'A', 'C', 'G', and 'U'.\n",
    "\n",
    "Given a DNA string t corresponding to a coding strand, its transcribed RNA string u is formed by replacing all occurrences of 'T' in t with 'U' in u.\n",
    "\n",
    "**Given**: A DNA string t having length at most 1000 nt.\n",
    "\n",
    "**Return**: The transcribed RNA string of t."
   ]
  },
  {
   "cell_type": "code",
   "execution_count": 1,
   "id": "1c3a4387",
   "metadata": {},
   "outputs": [
    {
     "name": "stdout",
     "output_type": "stream",
     "text": [
      "GATGGAACTTGACTACGTAAATT\n",
      "GAUGGAACUUGACUACGUAAAUU\n"
     ]
    }
   ],
   "source": [
    "I = input()\n",
    "print(I.replace('T','U'))"
   ]
  },
  {
   "cell_type": "code",
   "execution_count": null,
   "id": "562420e3",
   "metadata": {},
   "outputs": [],
   "source": []
  }
 ],
 "metadata": {
  "kernelspec": {
   "display_name": "Python 3 (ipykernel)",
   "language": "python",
   "name": "python3"
  },
  "language_info": {
   "codemirror_mode": {
    "name": "ipython",
    "version": 3
   },
   "file_extension": ".py",
   "mimetype": "text/x-python",
   "name": "python",
   "nbconvert_exporter": "python",
   "pygments_lexer": "ipython3",
   "version": "3.8.8"
  }
 },
 "nbformat": 4,
 "nbformat_minor": 5
}
