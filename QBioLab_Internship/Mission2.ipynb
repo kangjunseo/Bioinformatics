{
 "cells": [
  {
   "cell_type": "code",
   "execution_count": 199,
   "id": "98aeb420-2cec-4efc-8ca8-531229e22fde",
   "metadata": {},
   "outputs": [],
   "source": [
    "import pandas as pd\n",
    "import numpy as np\n",
    "from collections import defaultdict\n",
    "import matplotlib.pyplot as plt\n",
    "from scipy import stats\n",
    "from scipy.stats import mstats\n",
    "%matplotlib inline"
   ]
  },
  {
   "cell_type": "code",
   "execution_count": 281,
   "id": "21641a89-621f-43a5-b9fb-84250df8c13b",
   "metadata": {},
   "outputs": [],
   "source": [
    "code_list = ['CLIP_35L33G','PolyA_siLin28a','PolyA_siLuc','PolyA_untreat','RPF_siLin28a','RPF_siLuc']"
   ]
  },
  {
   "cell_type": "code",
   "execution_count": 155,
   "id": "a3629973-11a1-43c2-8e19-ccddb47a79a5",
   "metadata": {},
   "outputs": [],
   "source": [
    "def sam_to_table(code):\n",
    "    read_table = defaultdict(int)\n",
    "    with open(f\"alignment/{code}/Aligned.out.sam\") as inpfile:\n",
    "        for line in inpfile:\n",
    "            if line.startswith('@'): continue # header 제거\n",
    "        \n",
    "            line_list = line.split()\n",
    "            if line_list[1]==4: continue # 잘못 read된 data 제거\n",
    "        \n",
    "            if line_list[2].startswith('ENSMUST'):\n",
    "                read_table[line_list[2].split('|')[1]]+=1\n",
    "            \n",
    "    table_df = pd.Series(read_table)\n",
    "    return table_df[table_df>= 30] # 30 read 보다 작은 경우는 filter"
   ]
  },
  {
   "cell_type": "code",
   "execution_count": 156,
   "id": "9f8c6b93-f5e4-4fb3-9c8d-69f21c5582f4",
   "metadata": {},
   "outputs": [
    {
     "name": "stdout",
     "output_type": "stream",
     "text": [
      "CLIP_35L33G fin\n",
      "PolyA_siLin28a fin\n",
      "PolyA_siLuc fin\n",
      "PolyA_untreat fin\n",
      "RPF_siLin28a fin\n",
      "RPF_siLuc fin\n"
     ]
    },
    {
     "data": {
      "text/html": [
       "<div>\n",
       "<style scoped>\n",
       "    .dataframe tbody tr th:only-of-type {\n",
       "        vertical-align: middle;\n",
       "    }\n",
       "\n",
       "    .dataframe tbody tr th {\n",
       "        vertical-align: top;\n",
       "    }\n",
       "\n",
       "    .dataframe thead th {\n",
       "        text-align: right;\n",
       "    }\n",
       "</style>\n",
       "<table border=\"1\" class=\"dataframe\">\n",
       "  <thead>\n",
       "    <tr style=\"text-align: right;\">\n",
       "      <th></th>\n",
       "      <th>CLIP_35L33G</th>\n",
       "      <th>PolyA_siLin28a</th>\n",
       "      <th>PolyA_siLuc</th>\n",
       "      <th>PolyA_untreat</th>\n",
       "      <th>RPF_siLin28a</th>\n",
       "      <th>RPF_siLuc</th>\n",
       "    </tr>\n",
       "  </thead>\n",
       "  <tbody>\n",
       "    <tr>\n",
       "      <th>ENSMUSG00000020706.14</th>\n",
       "      <td>14086.0</td>\n",
       "      <td>9134.0</td>\n",
       "      <td>8368.0</td>\n",
       "      <td>9741.0</td>\n",
       "      <td>354.0</td>\n",
       "      <td>5279.0</td>\n",
       "    </tr>\n",
       "    <tr>\n",
       "      <th>ENSMUSG00000035078.7</th>\n",
       "      <td>1185.0</td>\n",
       "      <td>753.0</td>\n",
       "      <td>586.0</td>\n",
       "      <td>879.0</td>\n",
       "      <td>86.0</td>\n",
       "      <td>610.0</td>\n",
       "    </tr>\n",
       "    <tr>\n",
       "      <th>ENSMUSG00000047126.18</th>\n",
       "      <td>20512.0</td>\n",
       "      <td>38687.0</td>\n",
       "      <td>30964.0</td>\n",
       "      <td>31553.0</td>\n",
       "      <td>1804.0</td>\n",
       "      <td>28129.0</td>\n",
       "    </tr>\n",
       "    <tr>\n",
       "      <th>ENSMUSG00000087166.10</th>\n",
       "      <td>17156.0</td>\n",
       "      <td>14536.0</td>\n",
       "      <td>17107.0</td>\n",
       "      <td>15248.0</td>\n",
       "      <td>397.0</td>\n",
       "      <td>8451.0</td>\n",
       "    </tr>\n",
       "    <tr>\n",
       "      <th>ENSMUSG00000052727.7</th>\n",
       "      <td>5178.0</td>\n",
       "      <td>4306.0</td>\n",
       "      <td>3384.0</td>\n",
       "      <td>4707.0</td>\n",
       "      <td>362.0</td>\n",
       "      <td>4915.0</td>\n",
       "    </tr>\n",
       "  </tbody>\n",
       "</table>\n",
       "</div>"
      ],
      "text/plain": [
       "                       CLIP_35L33G  PolyA_siLin28a  PolyA_siLuc  \\\n",
       "ENSMUSG00000020706.14      14086.0          9134.0       8368.0   \n",
       "ENSMUSG00000035078.7        1185.0           753.0        586.0   \n",
       "ENSMUSG00000047126.18      20512.0         38687.0      30964.0   \n",
       "ENSMUSG00000087166.10      17156.0         14536.0      17107.0   \n",
       "ENSMUSG00000052727.7        5178.0          4306.0       3384.0   \n",
       "\n",
       "                       PolyA_untreat  RPF_siLin28a  RPF_siLuc  \n",
       "ENSMUSG00000020706.14         9741.0         354.0     5279.0  \n",
       "ENSMUSG00000035078.7           879.0          86.0      610.0  \n",
       "ENSMUSG00000047126.18        31553.0        1804.0    28129.0  \n",
       "ENSMUSG00000087166.10        15248.0         397.0     8451.0  \n",
       "ENSMUSG00000052727.7          4707.0         362.0     4915.0  "
      ]
     },
     "execution_count": 156,
     "metadata": {},
     "output_type": "execute_result"
    }
   ],
   "source": [
    "total_table = sam_to_table(code_list[0])\n",
    "print(code_list[0], 'fin')\n",
    "for code in code_list[1:]:\n",
    "    total_table = pd.concat([total_table, sam_to_table(code)], axis=1)\n",
    "    print(code, 'fin')\n",
    "\n",
    "total_table.columns = code_list\n",
    "total_table.head()"
   ]
  },
  {
   "cell_type": "code",
   "execution_count": 175,
   "id": "9cf6357f-021e-4e62-bee6-7cd39b9e1c61",
   "metadata": {},
   "outputs": [],
   "source": [
    "total_table.dropna(inplace=True)\n",
    "backup_table = total_table"
   ]
  },
  {
   "cell_type": "code",
   "execution_count": 179,
   "id": "3ab6d678-0ff3-47af-825c-81faf5ce4106",
   "metadata": {},
   "outputs": [],
   "source": [
    "# EXTENDED EXPERIMENTAL PROCEDURES를 참고하여 RPF에 대해 추가 filtering\n",
    "total_table = total_table[total_table['RPF_siLin28a']>=80]\n",
    "total_table = total_table[total_table['RPF_siLuc']>=80]"
   ]
  },
  {
   "cell_type": "code",
   "execution_count": 244,
   "id": "957e2e09-0b5f-4363-afa4-8f03d1a3de97",
   "metadata": {},
   "outputs": [
    {
     "data": {
      "text/plain": [
       "(ENSMUSG00000020706.14    0.532120\n",
       " ENSMUSG00000035078.7     0.430952\n",
       " ENSMUSG00000047126.18   -0.621309\n",
       " ENSMUSG00000087166.10    0.170093\n",
       " ENSMUSG00000052727.7     0.137587\n",
       "                            ...   \n",
       " ENSMUSG00000002871.15   -2.769880\n",
       " ENSMUSG00000069439.4    -2.427606\n",
       " ENSMUSG00000022756.18   -0.267622\n",
       " ENSMUSG00000109663.2    -2.187627\n",
       " ENSMUSG00000068220.7    -2.909355\n",
       " Length: 6177, dtype: float64,\n",
       " ENSMUSG00000020706.14   -4.024807\n",
       " ENSMUSG00000035078.7    -3.188150\n",
       " ENSMUSG00000047126.18   -4.284044\n",
       " ENSMUSG00000087166.10   -4.176955\n",
       " ENSMUSG00000052727.7    -4.110749\n",
       "                            ...   \n",
       " ENSMUSG00000002871.15   -3.840125\n",
       " ENSMUSG00000069439.4    -3.173691\n",
       " ENSMUSG00000022756.18   -4.043982\n",
       " ENSMUSG00000109663.2    -2.648100\n",
       " ENSMUSG00000068220.7    -2.840768\n",
       " Length: 6177, dtype: float64)"
      ]
     },
     "execution_count": 244,
     "metadata": {},
     "output_type": "execute_result"
    }
   ],
   "source": [
    "x_axis = np.log2(total_table['CLIP_35L33G']) - np.log2(total_table['PolyA_untreat'])\n",
    "y_axis = np.log2(total_table['RPF_siLin28a']) + np.log2(total_table['PolyA_siLuc']) - np.log2(total_table['RPF_siLuc']) -np.log2(total_table['PolyA_siLin28a']) \n",
    "x_axis, y_axis"
   ]
  },
  {
   "cell_type": "code",
   "execution_count": 247,
   "id": "baa8ba60-b317-4314-a3e7-c6fb8785169b",
   "metadata": {},
   "outputs": [
    {
     "data": {
      "text/plain": [
       "Text(2.15, -4.85, 'r = 0.4612')"
      ]
     },
     "execution_count": 247,
     "metadata": {},
     "output_type": "execute_result"
    },
    {
     "data": {
      "image/png": "[encoded data removed]",
      "text/plain": [
       "<Figure size 432x288 with 1 Axes>"
      ]
     },
     "metadata": {
      "needs_background": "light"
     },
     "output_type": "display_data"
    }
   ],
   "source": [
    "plt.scatter(x_axis,y_axis, s = 1, alpha = .2, color = 'black')\n",
    "plt.title('Figure 4D')\n",
    "plt.grid()\n",
    "plt.xlabel('LIN28A CLIP enrichment(log\\u2082)')\n",
    "plt.ylabel('Ribosome density change\\n upon Lin28a knockdown (log\\u2082)')\n",
    "plt.xlim([-6,4])\n",
    "plt.ylim([-5,-1])\n",
    "coef = mstats.pearsonr(x_axis, y_axis)\n",
    "plt.text(2.15,-4.85, f'r = {round(coef[0],4)}')"
   ]
  },
  {
   "cell_type": "code",
   "execution_count": null,
   "id": "159ebb48-e259-4908-b263-7d4f84dd086b",
   "metadata": {},
   "outputs": [],
   "source": []
  },
  {
   "cell_type": "code",
   "execution_count": 288,
   "id": "e98065cc-297d-4d68-9d07-1c6176c22126",
   "metadata": {},
   "outputs": [],
   "source": [
    "def sam_to_table2(code):\n",
    "    read_table = defaultdict(int)\n",
    "    with open(f\"alignment/{code}/Aligned.out.sam\") as inpfile:\n",
    "        for line in inpfile:\n",
    "            if line.startswith('@'): continue # header 제거\n",
    "            line_list = line.split()\n",
    "            if line_list[1]==4: continue # 잘못 read된 data 제거\n",
    "            \n",
    "            if line_list[2].startswith('ENSMUST'):\n",
    "                read_table[line_list[2].split('|')[0][:18]]+=1\n",
    "            \n",
    "    table_df = pd.Series(read_table, dtype=int)\n",
    "    return table_df[table_df>= 30] # 30 read 보다 작은 경우는 filter"
   ]
  },
  {
   "cell_type": "code",
   "execution_count": 289,
   "id": "9cc27830-9395-4e1e-8add-370ce12f47db",
   "metadata": {},
   "outputs": [
    {
     "name": "stdout",
     "output_type": "stream",
     "text": [
      "CLIP_35L33G fin\n",
      "PolyA_siLin28a fin\n",
      "PolyA_siLuc fin\n",
      "PolyA_untreat fin\n",
      "RPF_siLin28a fin\n",
      "RPF_siLuc fin\n"
     ]
    },
    {
     "data": {
      "text/html": [
       "<div>\n",
       "<style scoped>\n",
       "    .dataframe tbody tr th:only-of-type {\n",
       "        vertical-align: middle;\n",
       "    }\n",
       "\n",
       "    .dataframe tbody tr th {\n",
       "        vertical-align: top;\n",
       "    }\n",
       "\n",
       "    .dataframe thead th {\n",
       "        text-align: right;\n",
       "    }\n",
       "</style>\n",
       "<table border=\"1\" class=\"dataframe\">\n",
       "  <thead>\n",
       "    <tr style=\"text-align: right;\">\n",
       "      <th></th>\n",
       "      <th>CLIP_35L33G</th>\n",
       "      <th>PolyA_siLin28a</th>\n",
       "      <th>PolyA_siLuc</th>\n",
       "      <th>PolyA_untreat</th>\n",
       "      <th>RPF_siLin28a</th>\n",
       "      <th>RPF_siLuc</th>\n",
       "    </tr>\n",
       "  </thead>\n",
       "  <tbody>\n",
       "    <tr>\n",
       "      <th>ENSMUST00000021048</th>\n",
       "      <td>9181.0</td>\n",
       "      <td>5921.0</td>\n",
       "      <td>5522.0</td>\n",
       "      <td>6085.0</td>\n",
       "      <td>199.0</td>\n",
       "      <td>3031.0</td>\n",
       "    </tr>\n",
       "    <tr>\n",
       "      <th>ENSMUST00000058679</th>\n",
       "      <td>1044.0</td>\n",
       "      <td>630.0</td>\n",
       "      <td>493.0</td>\n",
       "      <td>748.0</td>\n",
       "      <td>81.0</td>\n",
       "      <td>551.0</td>\n",
       "    </tr>\n",
       "    <tr>\n",
       "      <th>ENSMUST00000103186</th>\n",
       "      <td>9156.0</td>\n",
       "      <td>16473.0</td>\n",
       "      <td>13270.0</td>\n",
       "      <td>13798.0</td>\n",
       "      <td>782.0</td>\n",
       "      <td>12253.0</td>\n",
       "    </tr>\n",
       "    <tr>\n",
       "      <th>ENSMUST00000060766</th>\n",
       "      <td>9029.0</td>\n",
       "      <td>16378.0</td>\n",
       "      <td>13129.0</td>\n",
       "      <td>13709.0</td>\n",
       "      <td>776.0</td>\n",
       "      <td>12166.0</td>\n",
       "    </tr>\n",
       "    <tr>\n",
       "      <th>ENSMUST00000154279</th>\n",
       "      <td>8955.0</td>\n",
       "      <td>7003.0</td>\n",
       "      <td>8122.0</td>\n",
       "      <td>7338.0</td>\n",
       "      <td>158.0</td>\n",
       "      <td>3284.0</td>\n",
       "    </tr>\n",
       "  </tbody>\n",
       "</table>\n",
       "</div>"
      ],
      "text/plain": [
       "                    CLIP_35L33G  PolyA_siLin28a  PolyA_siLuc  PolyA_untreat  \\\n",
       "ENSMUST00000021048       9181.0          5921.0       5522.0         6085.0   \n",
       "ENSMUST00000058679       1044.0           630.0        493.0          748.0   \n",
       "ENSMUST00000103186       9156.0         16473.0      13270.0        13798.0   \n",
       "ENSMUST00000060766       9029.0         16378.0      13129.0        13709.0   \n",
       "ENSMUST00000154279       8955.0          7003.0       8122.0         7338.0   \n",
       "\n",
       "                    RPF_siLin28a  RPF_siLuc  \n",
       "ENSMUST00000021048         199.0     3031.0  \n",
       "ENSMUST00000058679          81.0      551.0  \n",
       "ENSMUST00000103186         782.0    12253.0  \n",
       "ENSMUST00000060766         776.0    12166.0  \n",
       "ENSMUST00000154279         158.0     3284.0  "
      ]
     },
     "execution_count": 289,
     "metadata": {},
     "output_type": "execute_result"
    }
   ],
   "source": [
    "total_table2 = sam_to_table2(code_list[0])\n",
    "print(code_list[0], 'fin')\n",
    "for code in code_list[1:]:\n",
    "    total_table2 = pd.concat([total_table2, sam_to_table2(code)], axis=1)\n",
    "    print(code, 'fin')\n",
    "\n",
    "total_table2.columns = code_list\n",
    "total_table2.head()"
   ]
  },
  {
   "cell_type": "code",
   "execution_count": 293,
   "id": "45f6fa4a-1de9-40fd-9941-7a5d79449d6c",
   "metadata": {},
   "outputs": [
    {
     "data": {
      "text/plain": [
       "Index(['ENSMUST00000021048', 'ENSMUST00000058679', 'ENSMUST00000103186',\n",
       "       'ENSMUST00000060766', 'ENSMUST00000154279', 'ENSMUST00000064762',\n",
       "       'ENSMUST00000224702', 'ENSMUST00000223693', 'ENSMUST00000044260',\n",
       "       'ENSMUST00000189257',\n",
       "       ...\n",
       "       'ENSMUST00000139498', 'ENSMUST00000220249', 'ENSMUST00000206361',\n",
       "       'ENSMUST00000206628', 'ENSMUST00000129166', 'ENSMUST00000217513',\n",
       "       'ENSMUST00000174491', 'ENSMUST00000210610', 'ENSMUST00000122119',\n",
       "       'ENSMUST00000002737'],\n",
       "      dtype='object', length=19304)"
      ]
     },
     "execution_count": 293,
     "metadata": {},
     "output_type": "execute_result"
    }
   ],
   "source": [
    "total_table2.dropna(inplace=True)\n",
    "total_table2.index"
   ]
  },
  {
   "cell_type": "code",
   "execution_count": 294,
   "id": "bfa074bf-bfdd-412d-bde6-1d4b69d87098",
   "metadata": {},
   "outputs": [
    {
     "data": {
      "text/html": [
       "<div>\n",
       "<style scoped>\n",
       "    .dataframe tbody tr th:only-of-type {\n",
       "        vertical-align: middle;\n",
       "    }\n",
       "\n",
       "    .dataframe tbody tr th {\n",
       "        vertical-align: top;\n",
       "    }\n",
       "\n",
       "    .dataframe thead th {\n",
       "        text-align: right;\n",
       "    }\n",
       "</style>\n",
       "<table border=\"1\" class=\"dataframe\">\n",
       "  <thead>\n",
       "    <tr style=\"text-align: right;\">\n",
       "      <th></th>\n",
       "      <th>CLIP_35L33G</th>\n",
       "      <th>PolyA_siLin28a</th>\n",
       "      <th>PolyA_siLuc</th>\n",
       "      <th>PolyA_untreat</th>\n",
       "      <th>RPF_siLin28a</th>\n",
       "      <th>RPF_siLuc</th>\n",
       "      <th>x_axis</th>\n",
       "      <th>y_axis</th>\n",
       "    </tr>\n",
       "  </thead>\n",
       "  <tbody>\n",
       "    <tr>\n",
       "      <th>ENSMUST00000021048</th>\n",
       "      <td>9181.0</td>\n",
       "      <td>5921.0</td>\n",
       "      <td>5522.0</td>\n",
       "      <td>6085.0</td>\n",
       "      <td>199.0</td>\n",
       "      <td>3031.0</td>\n",
       "      <td>0.593394</td>\n",
       "      <td>-4.029603</td>\n",
       "    </tr>\n",
       "    <tr>\n",
       "      <th>ENSMUST00000058679</th>\n",
       "      <td>1044.0</td>\n",
       "      <td>630.0</td>\n",
       "      <td>493.0</td>\n",
       "      <td>748.0</td>\n",
       "      <td>81.0</td>\n",
       "      <td>551.0</td>\n",
       "      <td>0.481012</td>\n",
       "      <td>-3.119823</td>\n",
       "    </tr>\n",
       "    <tr>\n",
       "      <th>ENSMUST00000103186</th>\n",
       "      <td>9156.0</td>\n",
       "      <td>16473.0</td>\n",
       "      <td>13270.0</td>\n",
       "      <td>13798.0</td>\n",
       "      <td>782.0</td>\n",
       "      <td>12253.0</td>\n",
       "      <td>-0.591670</td>\n",
       "      <td>-4.281758</td>\n",
       "    </tr>\n",
       "    <tr>\n",
       "      <th>ENSMUST00000060766</th>\n",
       "      <td>9029.0</td>\n",
       "      <td>16378.0</td>\n",
       "      <td>13129.0</td>\n",
       "      <td>13709.0</td>\n",
       "      <td>776.0</td>\n",
       "      <td>12166.0</td>\n",
       "      <td>-0.602485</td>\n",
       "      <td>-4.289657</td>\n",
       "    </tr>\n",
       "    <tr>\n",
       "      <th>ENSMUST00000154279</th>\n",
       "      <td>8955.0</td>\n",
       "      <td>7003.0</td>\n",
       "      <td>8122.0</td>\n",
       "      <td>7338.0</td>\n",
       "      <td>158.0</td>\n",
       "      <td>3284.0</td>\n",
       "      <td>0.287307</td>\n",
       "      <td>-4.163596</td>\n",
       "    </tr>\n",
       "  </tbody>\n",
       "</table>\n",
       "</div>"
      ],
      "text/plain": [
       "                    CLIP_35L33G  PolyA_siLin28a  PolyA_siLuc  PolyA_untreat  \\\n",
       "ENSMUST00000021048       9181.0          5921.0       5522.0         6085.0   \n",
       "ENSMUST00000058679       1044.0           630.0        493.0          748.0   \n",
       "ENSMUST00000103186       9156.0         16473.0      13270.0        13798.0   \n",
       "ENSMUST00000060766       9029.0         16378.0      13129.0        13709.0   \n",
       "ENSMUST00000154279       8955.0          7003.0       8122.0         7338.0   \n",
       "\n",
       "                    RPF_siLin28a  RPF_siLuc    x_axis    y_axis  \n",
       "ENSMUST00000021048         199.0     3031.0  0.593394 -4.029603  \n",
       "ENSMUST00000058679          81.0      551.0  0.481012 -3.119823  \n",
       "ENSMUST00000103186         782.0    12253.0 -0.591670 -4.281758  \n",
       "ENSMUST00000060766         776.0    12166.0 -0.602485 -4.289657  \n",
       "ENSMUST00000154279         158.0     3284.0  0.287307 -4.163596  "
      ]
     },
     "execution_count": 294,
     "metadata": {},
     "output_type": "execute_result"
    }
   ],
   "source": [
    "total_table2['x_axis'] = np.log2(total_table2['CLIP_35L33G']) - np.log2(total_table2['PolyA_untreat'])\n",
    "total_table2['y_axis'] = np.log2(total_table2['RPF_siLin28a']) + np.log2(total_table2['PolyA_siLuc']) - np.log2(total_table2['RPF_siLuc']) -np.log2(total_table2['PolyA_siLin28a']) \n",
    "total_table2.head()"
   ]
  },
  {
   "cell_type": "code",
   "execution_count": 349,
   "id": "a9cc57cc-e118-4a11-8ac4-ecea5920d45c",
   "metadata": {},
   "outputs": [
    {
     "data": {
      "text/plain": [
       "ENSMUST00000031587    1\n",
       "ENSMUST00000020673    4\n",
       "ENSMUST00000141116    4\n",
       "ENSMUST00000027837    2\n",
       "ENSMUST00000179139    0\n",
       "                     ..\n",
       "ENSMUST00000032477    0\n",
       "ENSMUST00000034510    2\n",
       "ENSMUST00000043313    3\n",
       "ENSMUST00000075447    2\n",
       "ENSMUST00000023334    0\n",
       "Length: 10923, dtype: int64"
      ]
     },
     "execution_count": 349,
     "metadata": {},
     "output_type": "execute_result"
    }
   ],
   "source": [
    "GO_table = defaultdict(int)\n",
    "with open(\"gene_ontology.tab\") as inpfile:\n",
    "        for line in inpfile:\n",
    "            if line.startswith('Entry'): continue # header 제거\n",
    "            line_list = line.split('\\t')\n",
    "            if line_list[2][:18] in total_table2.index:\n",
    "                if GO_table[line_list[2][:18]]!=0: continue\n",
    "                if line_list[3].find('0031966')!=-1:\n",
    "                    GO_table[line_list[2][:18]]=4\n",
    "                    continue \n",
    "                \n",
    "                # 교집합이 있는 것 제외하기\n",
    "                if line_list[3].find('0005634')!=-1 and line_list[3].find('0016021')!=-1:\n",
    "                    GO_table[line_list[2][:18]]=4\n",
    "                    continue\n",
    "                if line_list[3].find('0005737')!=-1 and line_list[3].find('0016021')!=-1:\n",
    "                    GO_table[line_list[2][:18]]=4\n",
    "                    continue\n",
    "                if line_list[3].find('0005634')!=-1 and line_list[3].find('0005737')!=-1:\n",
    "                    GO_table[line_list[2][:18]]=4\n",
    "                    continue\n",
    "                    \n",
    "                if line_list[3].find('0005634')!=-1: GO_table[line_list[2][:18]]=1 # nucleus\n",
    "                if line_list[3].find('0016021')!=-1: GO_table[line_list[2][:18]]=2 # integral membrane\n",
    "                if line_list[3].find('0005737')!=-1: GO_table[line_list[2][:18]]=3 # cytoplasm\n",
    "GO_df = pd.Series(GO_table)\n",
    "GO_df"
   ]
  },
  {
   "cell_type": "code",
   "execution_count": 350,
   "id": "53c81c5c-af77-49e7-8723-3faeb48f7fdb",
   "metadata": {},
   "outputs": [],
   "source": [
    "fin_table = pd.concat([total_table2,GO_df], axis=1)"
   ]
  },
  {
   "cell_type": "code",
   "execution_count": 351,
   "id": "21cea185-e8da-4a83-bcdc-4aeacc296830",
   "metadata": {},
   "outputs": [
    {
     "data": {
      "text/html": [
       "<div>\n",
       "<style scoped>\n",
       "    .dataframe tbody tr th:only-of-type {\n",
       "        vertical-align: middle;\n",
       "    }\n",
       "\n",
       "    .dataframe tbody tr th {\n",
       "        vertical-align: top;\n",
       "    }\n",
       "\n",
       "    .dataframe thead th {\n",
       "        text-align: right;\n",
       "    }\n",
       "</style>\n",
       "<table border=\"1\" class=\"dataframe\">\n",
       "  <thead>\n",
       "    <tr style=\"text-align: right;\">\n",
       "      <th></th>\n",
       "      <th>CLIP_35L33G</th>\n",
       "      <th>PolyA_siLin28a</th>\n",
       "      <th>PolyA_siLuc</th>\n",
       "      <th>PolyA_untreat</th>\n",
       "      <th>RPF_siLin28a</th>\n",
       "      <th>RPF_siLuc</th>\n",
       "      <th>x_axis</th>\n",
       "      <th>y_axis</th>\n",
       "      <th>0</th>\n",
       "    </tr>\n",
       "  </thead>\n",
       "  <tbody>\n",
       "    <tr>\n",
       "      <th>ENSMUST00000021048</th>\n",
       "      <td>9181.0</td>\n",
       "      <td>5921.0</td>\n",
       "      <td>5522.0</td>\n",
       "      <td>6085.0</td>\n",
       "      <td>199.0</td>\n",
       "      <td>3031.0</td>\n",
       "      <td>0.593394</td>\n",
       "      <td>-4.029603</td>\n",
       "      <td>0.0</td>\n",
       "    </tr>\n",
       "    <tr>\n",
       "      <th>ENSMUST00000058679</th>\n",
       "      <td>1044.0</td>\n",
       "      <td>630.0</td>\n",
       "      <td>493.0</td>\n",
       "      <td>748.0</td>\n",
       "      <td>81.0</td>\n",
       "      <td>551.0</td>\n",
       "      <td>0.481012</td>\n",
       "      <td>-3.119823</td>\n",
       "      <td>3.0</td>\n",
       "    </tr>\n",
       "    <tr>\n",
       "      <th>ENSMUST00000103186</th>\n",
       "      <td>9156.0</td>\n",
       "      <td>16473.0</td>\n",
       "      <td>13270.0</td>\n",
       "      <td>13798.0</td>\n",
       "      <td>782.0</td>\n",
       "      <td>12253.0</td>\n",
       "      <td>-0.591670</td>\n",
       "      <td>-4.281758</td>\n",
       "      <td>0.0</td>\n",
       "    </tr>\n",
       "    <tr>\n",
       "      <th>ENSMUST00000060766</th>\n",
       "      <td>9029.0</td>\n",
       "      <td>16378.0</td>\n",
       "      <td>13129.0</td>\n",
       "      <td>13709.0</td>\n",
       "      <td>776.0</td>\n",
       "      <td>12166.0</td>\n",
       "      <td>-0.602485</td>\n",
       "      <td>-4.289657</td>\n",
       "      <td>0.0</td>\n",
       "    </tr>\n",
       "    <tr>\n",
       "      <th>ENSMUST00000154279</th>\n",
       "      <td>8955.0</td>\n",
       "      <td>7003.0</td>\n",
       "      <td>8122.0</td>\n",
       "      <td>7338.0</td>\n",
       "      <td>158.0</td>\n",
       "      <td>3284.0</td>\n",
       "      <td>0.287307</td>\n",
       "      <td>-4.163596</td>\n",
       "      <td>0.0</td>\n",
       "    </tr>\n",
       "  </tbody>\n",
       "</table>\n",
       "</div>"
      ],
      "text/plain": [
       "                    CLIP_35L33G  PolyA_siLin28a  PolyA_siLuc  PolyA_untreat  \\\n",
       "ENSMUST00000021048       9181.0          5921.0       5522.0         6085.0   \n",
       "ENSMUST00000058679       1044.0           630.0        493.0          748.0   \n",
       "ENSMUST00000103186       9156.0         16473.0      13270.0        13798.0   \n",
       "ENSMUST00000060766       9029.0         16378.0      13129.0        13709.0   \n",
       "ENSMUST00000154279       8955.0          7003.0       8122.0         7338.0   \n",
       "\n",
       "                    RPF_siLin28a  RPF_siLuc    x_axis    y_axis    0  \n",
       "ENSMUST00000021048         199.0     3031.0  0.593394 -4.029603  0.0  \n",
       "ENSMUST00000058679          81.0      551.0  0.481012 -3.119823  3.0  \n",
       "ENSMUST00000103186         782.0    12253.0 -0.591670 -4.281758  0.0  \n",
       "ENSMUST00000060766         776.0    12166.0 -0.602485 -4.289657  0.0  \n",
       "ENSMUST00000154279         158.0     3284.0  0.287307 -4.163596  0.0  "
      ]
     },
     "execution_count": 351,
     "metadata": {},
     "output_type": "execute_result"
    }
   ],
   "source": [
    "fin_table.head()"
   ]
  },
  {
   "cell_type": "code",
   "execution_count": 385,
   "id": "a4412bd5-fdb7-44aa-beb9-8cd994595076",
   "metadata": {},
   "outputs": [],
   "source": [
    "N_table, I_table, C_table = fin_table[fin_table[0]==1], fin_table[fin_table[0]==2], fin_table[fin_table[0]==3]\n",
    "N_table, I_table, C_table = N_table.sample(frac=1).reset_index(drop=True)[:400], I_table.sample(frac=1).reset_index(drop=True)[:400], C_table.sample(frac=1).reset_index(drop=True)[:400] #임의의 400개 추출"
   ]
  },
  {
   "cell_type": "code",
   "execution_count": 386,
   "id": "ab83f7b1-f89f-4aea-9157-ae0f7857591f",
   "metadata": {},
   "outputs": [
    {
     "data": {
      "text/plain": [
       "<matplotlib.legend.Legend at 0x7f1d503d27f0>"
      ]
     },
     "execution_count": 386,
     "metadata": {},
     "output_type": "execute_result"
    },
    {
     "data": {
      "image/png": "[encoded data removed]",
      "text/plain": [
       "<Figure size 432x288 with 1 Axes>"
      ]
     },
     "metadata": {
      "needs_background": "light"
     },
     "output_type": "display_data"
    }
   ],
   "source": [
    "plt.scatter(x = N_table['x_axis'], y = N_table['y_axis'], s = 1, alpha = 1, color = 'blue', label = 'Nucleus')\n",
    "plt.scatter(x = I_table['x_axis'], y = I_table['y_axis'], s = 1, alpha = 1, color = 'red', label = 'Integral membrane')\n",
    "plt.scatter(x = C_table['x_axis'], y = C_table['y_axis'], s = 1, alpha = 1, color = 'green', label = 'Cytoplasm')\n",
    "plt.title('Figure 5B')\n",
    "plt.grid(axis='y')\n",
    "plt.xlabel('LIN28A CLIP enrichment(log\\u2082)')\n",
    "plt.ylabel('Ribosome density change\\n upon Lin28a knockdown (log\\u2082)')\n",
    "plt.xlim([-6,6])\n",
    "plt.ylim([-5,-1])\n",
    "plt.legend()"
   ]
  },
  {
   "cell_type": "code",
   "execution_count": null,
   "id": "62cb9d6c-a550-4139-a87d-54cb9693269f",
   "metadata": {},
   "outputs": [],
   "source": []
  }
 ],
 "metadata": {
  "kernelspec": {
   "display_name": "Python 3",
   "language": "python",
   "name": "python3"
  },
  "language_info": {
   "codemirror_mode": {
    "name": "ipython",
    "version": 3
   },
   "file_extension": ".py",
   "mimetype": "text/x-python",
   "name": "python",
   "nbconvert_exporter": "python",
   "pygments_lexer": "ipython3",
   "version": "3.9.13"
  }
 },
 "nbformat": 4,
 "nbformat_minor": 5
}
