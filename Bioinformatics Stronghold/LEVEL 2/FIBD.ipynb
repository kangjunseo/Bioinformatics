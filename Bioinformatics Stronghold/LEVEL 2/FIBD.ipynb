{
 "cells": [
  {
   "cell_type": "markdown",
   "id": "2459507f",
   "metadata": {},
   "source": [
    "# Mortal Fibonacci Rabbits\n",
    "## Problem\n",
    "Recall the definition of the Fibonacci numbers from “Rabbits and Recurrence Relations”, which followed the recurrence relation Fn=Fn−1+Fn−2 and assumed that each pair of rabbits reaches maturity in one month and produces a single pair of offspring (one male, one female) each subsequent month.\n",
    "\n",
    "Our aim is to somehow modify this recurrence relation to achieve a dynamic programming solution in the case that all rabbits die out after a fixed number of months. See Figure 4 for a depiction of a rabbit tree in which rabbits live for three months (meaning that they reproduce only twice before dying).\n",
    "\n",
    "Given: Positive integers n≤100 and m≤20.\n",
    "\n",
    "Return: The total number of pairs of rabbits that will remain after the n-th month if all rabbits live for m months.\n",
    "\n"
   ]
  },
  {
   "cell_type": "code",
   "execution_count": 16,
   "id": "cfe6f145",
   "metadata": {},
   "outputs": [
    {
     "name": "stdout",
     "output_type": "stream",
     "text": [
      "89 16\n",
      "1753129196882635810\n"
     ]
    }
   ],
   "source": [
    "n , m = map(int,input().split())\n",
    "dp = [0]*101\n",
    "birth = [0]*101\n",
    "birth[1]=1\n",
    "\n",
    "for i in range(2,n+1) :\n",
    "    dp[i] = birth[i-1] + dp[i-1]\n",
    "    birth[i] = dp[i-1]\n",
    "    if i > m :\n",
    "        dp[i]-=birth[i-m]\n",
    "    \n",
    "print(dp[n]+birth[n])"
   ]
  },
  {
   "cell_type": "code",
   "execution_count": null,
   "id": "4fa893c3",
   "metadata": {},
   "outputs": [],
   "source": []
  }
 ],
 "metadata": {
  "kernelspec": {
   "display_name": "Python 3 (ipykernel)",
   "language": "python",
   "name": "python3"
  },
  "language_info": {
   "codemirror_mode": {
    "name": "ipython",
    "version": 3
   },
   "file_extension": ".py",
   "mimetype": "text/x-python",
   "name": "python",
   "nbconvert_exporter": "python",
   "pygments_lexer": "ipython3",
   "version": "3.8.8"
  }
 },
 "nbformat": 4,
 "nbformat_minor": 5
}
