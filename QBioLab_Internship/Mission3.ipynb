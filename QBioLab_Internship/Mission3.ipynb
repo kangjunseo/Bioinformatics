{
 "cells": [
  {
   "cell_type": "code",
   "execution_count": 1,
   "id": "a5d89d03-8184-4c19-b002-f7068d4592bb",
   "metadata": {},
   "outputs": [],
   "source": [
    "import pandas as pd\n",
    "import numpy as np\n",
    "from collections import defaultdict\n",
    "import matplotlib.pyplot as plt\n",
    "%matplotlib inline"
   ]
  },
  {
   "cell_type": "code",
   "execution_count": 151,
   "id": "54a5d37a-1a61-4075-a119-28305d2cfc93",
   "metadata": {},
   "outputs": [],
   "source": [
    "def sam_to_table(code):\n",
    "    read_table = defaultdict(int)\n",
    "    with open(f\"{code}/Aligned.out.sam\") as inpfile:\n",
    "        for line in inpfile:\n",
    "            if line.startswith('@'): continue # header 제거\n",
    "        \n",
    "            line_list = line.split()\n",
    "            if line_list[1]==4: continue # 잘못 read된 data 제거\n",
    "        \n",
    "            if line_list[2].startswith('ENSMUST'):\n",
    "                read_table[line_list[2].split('|')[0]]+=1\n",
    "            \n",
    "    table_df = pd.Series(read_table)\n",
    "    return table_df[table_df>= 30] # 30 read 보다 작은 경우는 filter"
   ]
  },
  {
   "cell_type": "code",
   "execution_count": 152,
   "id": "54bbe318-9980-40e2-a640-9173df4f156b",
   "metadata": {},
   "outputs": [
    {
     "data": {
      "text/plain": [
       "ENSMUST00000240377.1    1007005\n",
       "ENSMUST00000116560.3       1341\n",
       "ENSMUST00000209469.2       1377\n",
       "ENSMUST00000237122.2       1335\n",
       "ENSMUST00000236645.2       1002\n",
       "dtype: int64"
      ]
     },
     "execution_count": 152,
     "metadata": {},
     "output_type": "execute_result"
    }
   ],
   "source": [
    "table = sam_to_table(\"RPF_siLin28a\")\n",
    "table.head()"
   ]
  },
  {
   "cell_type": "code",
   "execution_count": 141,
   "id": "08868113-0485-46d1-b607-68f69d96151b",
   "metadata": {},
   "outputs": [
    {
     "data": {
      "text/plain": [
       "9574"
      ]
     },
     "execution_count": 141,
     "metadata": {},
     "output_type": "execute_result"
    }
   ],
   "source": [
    "table = table.sort_values(ascending=False)\n",
    "table.head()\n",
    "len(table)"
   ]
  },
  {
   "cell_type": "code",
   "execution_count": 119,
   "id": "f74f9fc6-49a6-4b5a-96c8-8bb5b6cf4ac5",
   "metadata": {},
   "outputs": [],
   "source": [
    "path = \"/home/qbio1/kangjunseo/tutorials/ref_gene/gencode.vM29.primary_assembly.annotation.gtf\""
   ]
  },
  {
   "cell_type": "code",
   "execution_count": 31,
   "id": "2e01e626-6f0e-44cb-9d6f-2ad12ef3fc00",
   "metadata": {},
   "outputs": [],
   "source": [
    "def read_specific_transcript(code, trans):\n",
    "    read_table = defaultdict(int)\n",
    "    with open(f\"{code}/Aligned.out.sam\") as inpfile:\n",
    "        for line in inpfile:\n",
    "            if line.startswith('@'): continue # header 제거\n",
    "            \n",
    "            line_list = line.split()\n",
    "            if line_list[1]==4: continue # 잘못 read된 data 제거\n",
    "        \n",
    "            if line_list[2].startswith(trans):\n",
    "                read_table[int(line_list[3])]+=1\n",
    "            \n",
    "    table_df = pd.Series(read_table)\n",
    "    return table_df"
   ]
  },
  {
   "cell_type": "code",
   "execution_count": 250,
   "id": "4de6a8b2-d403-4ebd-a048-9810632b75d6",
   "metadata": {},
   "outputs": [
    {
     "data": {
      "text/plain": [
       "3434    1\n",
       "dtype: int64"
      ]
     },
     "execution_count": 250,
     "metadata": {},
     "output_type": "execute_result"
    }
   ],
   "source": [
    "RST = read_specific_transcript(\"RPF_siLin28a\",\"ENSMUST00000239545.1\")\n",
    "RST.head()"
   ]
  },
  {
   "cell_type": "code",
   "execution_count": 251,
   "id": "792147e7-580a-49b6-a3f8-d8249cf7b6ae",
   "metadata": {},
   "outputs": [
    {
     "data": {
      "text/plain": [
       "3434    1\n",
       "dtype: int64"
      ]
     },
     "execution_count": 251,
     "metadata": {},
     "output_type": "execute_result"
    }
   ],
   "source": [
    "RST.sort_values(ascending=False).head()"
   ]
  },
  {
   "cell_type": "code",
   "execution_count": 252,
   "id": "acf8b119-e1ed-494d-aa0f-3c15b30debf8",
   "metadata": {
    "tags": []
   },
   "outputs": [
    {
     "data": {
      "text/plain": [
       "<AxesSubplot:>"
      ]
     },
     "execution_count": 252,
     "metadata": {},
     "output_type": "execute_result"
    },
    {
     "data": {
      "image/png": "[encoded data removed]",
      "text/plain": [
       "<Figure size 432x288 with 1 Axes>"
      ]
     },
     "metadata": {
      "needs_background": "light"
     },
     "output_type": "display_data"
    }
   ],
   "source": [
    "RST = RST.sort_index()\n",
    "RST.plot()"
   ]
  },
  {
   "cell_type": "code",
   "execution_count": 46,
   "id": "ccef56ef-a8d5-47f8-8c82-186ccd701279",
   "metadata": {},
   "outputs": [
    {
     "data": {
      "text/plain": [
       "ENSMUST00000082390.1       25977\n",
       "ENSMUST00000044200.11        707\n",
       "ENSMUST00000204185.2         288\n",
       "ENSMUST00000058030.10        780\n",
       "ENSMUST00000240377.1     6432837\n",
       "dtype: int64"
      ]
     },
     "execution_count": 46,
     "metadata": {},
     "output_type": "execute_result"
    }
   ],
   "source": [
    "table2 = sam_to_table(\"RPF_siLuc\")\n",
    "table2.head()"
   ]
  },
  {
   "cell_type": "code",
   "execution_count": 47,
   "id": "bd5f2b85-95ac-4bcc-8841-1a8d1ed45249",
   "metadata": {},
   "outputs": [
    {
     "data": {
      "text/plain": [
       "ENSMUST00000240377.1     6432837\n",
       "ENSMUST00000082402.1       63193\n",
       "ENSMUST00000024739.14      62942\n",
       "ENSMUST00000094361.11      61914\n",
       "ENSMUST00000021698.13      59815\n",
       "dtype: int64"
      ]
     },
     "execution_count": 47,
     "metadata": {},
     "output_type": "execute_result"
    }
   ],
   "source": [
    "table2.sort_values(ascending=False).head()"
   ]
  },
  {
   "cell_type": "code",
   "execution_count": 57,
   "id": "0a2b2cad-273f-4189-be9d-15e59133caf3",
   "metadata": {
    "tags": []
   },
   "outputs": [
    {
     "data": {
      "text/plain": [
       "1    2148\n",
       "2     113\n",
       "3      56\n",
       "4      24\n",
       "5      31\n",
       "dtype: int64"
      ]
     },
     "execution_count": 57,
     "metadata": {},
     "output_type": "execute_result"
    }
   ],
   "source": [
    "RST2 = read_specific_transcript(\"RPF_siLuc\",\"ENSMUST00000240377.1\")\n",
    "RST2.sort_index().head()"
   ]
  },
  {
   "cell_type": "code",
   "execution_count": 56,
   "id": "24d9993f-2d70-423b-b0b9-1d4126f69761",
   "metadata": {
    "tags": []
   },
   "outputs": [
    {
     "name": "stdout",
     "output_type": "stream",
     "text": [
      "1848\n"
     ]
    },
    {
     "data": {
      "image/png": "[encoded data removed]",
      "text/plain": [
       "<Figure size 432x288 with 1 Axes>"
      ]
     },
     "metadata": {
      "needs_background": "light"
     },
     "output_type": "display_data"
    }
   ],
   "source": [
    "RST2.sort_index()[:].plot()\n",
    "print(9092-7244)"
   ]
  },
  {
   "cell_type": "markdown",
   "id": "de9f348a-ad9f-415a-af90-526b89b8a9aa",
   "metadata": {},
   "source": [
    "## 1.GTF File Parsing\n",
    "\n",
    "### Informations we need\n",
    "- column 3 : feature type\n",
    "- column 4 : genomic start loc\n",
    "- column 5 : genomic end loc\n",
    "- column 7 : genomic strand(+/-)\n",
    "- column 9 : additional info\n",
    "    - gene_id\n",
    "    - transcript_id\n",
    "    - gene_type\n",
    "    - level\n",
    "    \n",
    "### Filtering\n",
    "- non coding genes\n",
    "- gene level not 1\n",
    "- (+) strand"
   ]
  },
  {
   "cell_type": "code",
   "execution_count": 182,
   "id": "cd3f5ec9-5161-4340-905b-eb22b3f7e180",
   "metadata": {},
   "outputs": [
    {
     "data": {
      "text/html": [
       "<div>\n",
       "<style scoped>\n",
       "    .dataframe tbody tr th:only-of-type {\n",
       "        vertical-align: middle;\n",
       "    }\n",
       "\n",
       "    .dataframe tbody tr th {\n",
       "        vertical-align: top;\n",
       "    }\n",
       "\n",
       "    .dataframe thead th {\n",
       "        text-align: right;\n",
       "    }\n",
       "</style>\n",
       "<table border=\"1\" class=\"dataframe\">\n",
       "  <thead>\n",
       "    <tr style=\"text-align: right;\">\n",
       "      <th></th>\n",
       "      <th>chr</th>\n",
       "      <th>ann</th>\n",
       "      <th>feature</th>\n",
       "      <th>start</th>\n",
       "      <th>end</th>\n",
       "      <th>score</th>\n",
       "      <th>strand</th>\n",
       "      <th>phase</th>\n",
       "      <th>add</th>\n",
       "    </tr>\n",
       "  </thead>\n",
       "  <tbody>\n",
       "    <tr>\n",
       "      <th>0</th>\n",
       "      <td>chr1</td>\n",
       "      <td>HAVANA</td>\n",
       "      <td>transcript</td>\n",
       "      <td>3143476</td>\n",
       "      <td>3144545</td>\n",
       "      <td>.</td>\n",
       "      <td>+</td>\n",
       "      <td>.</td>\n",
       "      <td>gene_id \"ENSMUSG00000102693.2\"; transcript_id ...</td>\n",
       "    </tr>\n",
       "    <tr>\n",
       "      <th>1</th>\n",
       "      <td>chr1</td>\n",
       "      <td>HAVANA</td>\n",
       "      <td>exon</td>\n",
       "      <td>3143476</td>\n",
       "      <td>3144545</td>\n",
       "      <td>.</td>\n",
       "      <td>+</td>\n",
       "      <td>.</td>\n",
       "      <td>gene_id \"ENSMUSG00000102693.2\"; transcript_id ...</td>\n",
       "    </tr>\n",
       "    <tr>\n",
       "      <th>2</th>\n",
       "      <td>chr1</td>\n",
       "      <td>ENSEMBL</td>\n",
       "      <td>gene</td>\n",
       "      <td>3172239</td>\n",
       "      <td>3172348</td>\n",
       "      <td>.</td>\n",
       "      <td>+</td>\n",
       "      <td>.</td>\n",
       "      <td>gene_id \"ENSMUSG00000064842.3\"; gene_type \"snR...</td>\n",
       "    </tr>\n",
       "    <tr>\n",
       "      <th>3</th>\n",
       "      <td>chr1</td>\n",
       "      <td>ENSEMBL</td>\n",
       "      <td>transcript</td>\n",
       "      <td>3172239</td>\n",
       "      <td>3172348</td>\n",
       "      <td>.</td>\n",
       "      <td>+</td>\n",
       "      <td>.</td>\n",
       "      <td>gene_id \"ENSMUSG00000064842.3\"; transcript_id ...</td>\n",
       "    </tr>\n",
       "    <tr>\n",
       "      <th>4</th>\n",
       "      <td>chr1</td>\n",
       "      <td>ENSEMBL</td>\n",
       "      <td>exon</td>\n",
       "      <td>3172239</td>\n",
       "      <td>3172348</td>\n",
       "      <td>.</td>\n",
       "      <td>+</td>\n",
       "      <td>.</td>\n",
       "      <td>gene_id \"ENSMUSG00000064842.3\"; transcript_id ...</td>\n",
       "    </tr>\n",
       "  </tbody>\n",
       "</table>\n",
       "</div>"
      ],
      "text/plain": [
       "    chr      ann     feature    start      end score strand phase  \\\n",
       "0  chr1   HAVANA  transcript  3143476  3144545     .      +     .   \n",
       "1  chr1   HAVANA        exon  3143476  3144545     .      +     .   \n",
       "2  chr1  ENSEMBL        gene  3172239  3172348     .      +     .   \n",
       "3  chr1  ENSEMBL  transcript  3172239  3172348     .      +     .   \n",
       "4  chr1  ENSEMBL        exon  3172239  3172348     .      +     .   \n",
       "\n",
       "                                                 add  \n",
       "0  gene_id \"ENSMUSG00000102693.2\"; transcript_id ...  \n",
       "1  gene_id \"ENSMUSG00000102693.2\"; transcript_id ...  \n",
       "2  gene_id \"ENSMUSG00000064842.3\"; gene_type \"snR...  \n",
       "3  gene_id \"ENSMUSG00000064842.3\"; transcript_id ...  \n",
       "4  gene_id \"ENSMUSG00000064842.3\"; transcript_id ...  "
      ]
     },
     "execution_count": 182,
     "metadata": {},
     "output_type": "execute_result"
    }
   ],
   "source": [
    "GTF_df = pd.read_csv(path, header=5, delimiter='\\t')\n",
    "GTF_df.columns=['chr','ann','feature','start','end','score','strand','phase','add']\n",
    "GTF_df.head()"
   ]
  },
  {
   "cell_type": "code",
   "execution_count": 185,
   "id": "b53922f8-e697-4424-a9b3-d9872fe1b493",
   "metadata": {},
   "outputs": [
    {
     "data": {
      "text/html": [
       "<div>\n",
       "<style scoped>\n",
       "    .dataframe tbody tr th:only-of-type {\n",
       "        vertical-align: middle;\n",
       "    }\n",
       "\n",
       "    .dataframe tbody tr th {\n",
       "        vertical-align: top;\n",
       "    }\n",
       "\n",
       "    .dataframe thead th {\n",
       "        text-align: right;\n",
       "    }\n",
       "</style>\n",
       "<table border=\"1\" class=\"dataframe\">\n",
       "  <thead>\n",
       "    <tr style=\"text-align: right;\">\n",
       "      <th></th>\n",
       "      <th>feature</th>\n",
       "      <th>start</th>\n",
       "      <th>end</th>\n",
       "      <th>strand</th>\n",
       "      <th>add</th>\n",
       "    </tr>\n",
       "  </thead>\n",
       "  <tbody>\n",
       "    <tr>\n",
       "      <th>0</th>\n",
       "      <td>transcript</td>\n",
       "      <td>3143476</td>\n",
       "      <td>3144545</td>\n",
       "      <td>+</td>\n",
       "      <td>gene_id \"ENSMUSG00000102693.2\"; transcript_id ...</td>\n",
       "    </tr>\n",
       "    <tr>\n",
       "      <th>1</th>\n",
       "      <td>exon</td>\n",
       "      <td>3143476</td>\n",
       "      <td>3144545</td>\n",
       "      <td>+</td>\n",
       "      <td>gene_id \"ENSMUSG00000102693.2\"; transcript_id ...</td>\n",
       "    </tr>\n",
       "    <tr>\n",
       "      <th>2</th>\n",
       "      <td>gene</td>\n",
       "      <td>3172239</td>\n",
       "      <td>3172348</td>\n",
       "      <td>+</td>\n",
       "      <td>gene_id \"ENSMUSG00000064842.3\"; gene_type \"snR...</td>\n",
       "    </tr>\n",
       "    <tr>\n",
       "      <th>3</th>\n",
       "      <td>transcript</td>\n",
       "      <td>3172239</td>\n",
       "      <td>3172348</td>\n",
       "      <td>+</td>\n",
       "      <td>gene_id \"ENSMUSG00000064842.3\"; transcript_id ...</td>\n",
       "    </tr>\n",
       "    <tr>\n",
       "      <th>4</th>\n",
       "      <td>exon</td>\n",
       "      <td>3172239</td>\n",
       "      <td>3172348</td>\n",
       "      <td>+</td>\n",
       "      <td>gene_id \"ENSMUSG00000064842.3\"; transcript_id ...</td>\n",
       "    </tr>\n",
       "  </tbody>\n",
       "</table>\n",
       "</div>"
      ],
      "text/plain": [
       "      feature    start      end strand  \\\n",
       "0  transcript  3143476  3144545      +   \n",
       "1        exon  3143476  3144545      +   \n",
       "2        gene  3172239  3172348      +   \n",
       "3  transcript  3172239  3172348      +   \n",
       "4        exon  3172239  3172348      +   \n",
       "\n",
       "                                                 add  \n",
       "0  gene_id \"ENSMUSG00000102693.2\"; transcript_id ...  \n",
       "1  gene_id \"ENSMUSG00000102693.2\"; transcript_id ...  \n",
       "2  gene_id \"ENSMUSG00000064842.3\"; gene_type \"snR...  \n",
       "3  gene_id \"ENSMUSG00000064842.3\"; transcript_id ...  \n",
       "4  gene_id \"ENSMUSG00000064842.3\"; transcript_id ...  "
      ]
     },
     "execution_count": 185,
     "metadata": {},
     "output_type": "execute_result"
    }
   ],
   "source": [
    "GTF_df_compact = GTF_df.drop(columns=['chr','ann','score','phase'])\n",
    "GTF_df_compact.head()"
   ]
  },
  {
   "cell_type": "code",
   "execution_count": 203,
   "id": "0351e3c2-d395-45cb-9db4-b5cd69e30c1a",
   "metadata": {},
   "outputs": [],
   "source": [
    "def parse_add(add):\n",
    "    ret_dict = {'transcript_id':'NaN'}\n",
    "    valid = ['gene_id','transcript_id','gene_type','gene_name','level']\n",
    "    for row in add.split(';'):\n",
    "        kv_pair = row.split()\n",
    "        if len(kv_pair)<=1 : continue\n",
    "        if kv_pair[0] in valid:\n",
    "            ret_dict[kv_pair[0]]=kv_pair[1]\n",
    "    return [val.replace('\"','') for val in ret_dict.values()]"
   ]
  },
  {
   "cell_type": "code",
   "execution_count": 226,
   "id": "3d84a21f-c2b2-441b-9012-88fe88237f17",
   "metadata": {},
   "outputs": [
    {
     "data": {
      "text/html": [
       "<div>\n",
       "<style scoped>\n",
       "    .dataframe tbody tr th:only-of-type {\n",
       "        vertical-align: middle;\n",
       "    }\n",
       "\n",
       "    .dataframe tbody tr th {\n",
       "        vertical-align: top;\n",
       "    }\n",
       "\n",
       "    .dataframe thead th {\n",
       "        text-align: right;\n",
       "    }\n",
       "</style>\n",
       "<table border=\"1\" class=\"dataframe\">\n",
       "  <thead>\n",
       "    <tr style=\"text-align: right;\">\n",
       "      <th></th>\n",
       "      <th>0</th>\n",
       "      <th>1</th>\n",
       "      <th>2</th>\n",
       "      <th>3</th>\n",
       "      <th>4</th>\n",
       "    </tr>\n",
       "  </thead>\n",
       "  <tbody>\n",
       "    <tr>\n",
       "      <th>0</th>\n",
       "      <td>ENSMUST00000193812.2</td>\n",
       "      <td>ENSMUSG00000102693.2</td>\n",
       "      <td>TEC</td>\n",
       "      <td>4933401J01Rik</td>\n",
       "      <td>2</td>\n",
       "    </tr>\n",
       "    <tr>\n",
       "      <th>1</th>\n",
       "      <td>ENSMUST00000193812.2</td>\n",
       "      <td>ENSMUSG00000102693.2</td>\n",
       "      <td>TEC</td>\n",
       "      <td>4933401J01Rik</td>\n",
       "      <td>2</td>\n",
       "    </tr>\n",
       "    <tr>\n",
       "      <th>2</th>\n",
       "      <td>NaN</td>\n",
       "      <td>ENSMUSG00000064842.3</td>\n",
       "      <td>snRNA</td>\n",
       "      <td>Gm26206</td>\n",
       "      <td>3</td>\n",
       "    </tr>\n",
       "    <tr>\n",
       "      <th>3</th>\n",
       "      <td>ENSMUST00000082908.3</td>\n",
       "      <td>ENSMUSG00000064842.3</td>\n",
       "      <td>snRNA</td>\n",
       "      <td>Gm26206</td>\n",
       "      <td>3</td>\n",
       "    </tr>\n",
       "    <tr>\n",
       "      <th>4</th>\n",
       "      <td>ENSMUST00000082908.3</td>\n",
       "      <td>ENSMUSG00000064842.3</td>\n",
       "      <td>snRNA</td>\n",
       "      <td>Gm26206</td>\n",
       "      <td>3</td>\n",
       "    </tr>\n",
       "  </tbody>\n",
       "</table>\n",
       "</div>"
      ],
      "text/plain": [
       "                      0                     1      2              3  4\n",
       "0  ENSMUST00000193812.2  ENSMUSG00000102693.2    TEC  4933401J01Rik  2\n",
       "1  ENSMUST00000193812.2  ENSMUSG00000102693.2    TEC  4933401J01Rik  2\n",
       "2                   NaN  ENSMUSG00000064842.3  snRNA        Gm26206  3\n",
       "3  ENSMUST00000082908.3  ENSMUSG00000064842.3  snRNA        Gm26206  3\n",
       "4  ENSMUST00000082908.3  ENSMUSG00000064842.3  snRNA        Gm26206  3"
      ]
     },
     "execution_count": 226,
     "metadata": {},
     "output_type": "execute_result"
    }
   ],
   "source": [
    "add_table = []\n",
    "for row in GTF_df['add']:\n",
    "    add_table.append(parse_add(row))\n",
    "add_df = pd.DataFrame(add_table)\n",
    "add_df.head()"
   ]
  },
  {
   "cell_type": "code",
   "execution_count": 234,
   "id": "24299d61-6fae-4cec-9431-79436598a21c",
   "metadata": {},
   "outputs": [
    {
     "data": {
      "text/html": [
       "<div>\n",
       "<style scoped>\n",
       "    .dataframe tbody tr th:only-of-type {\n",
       "        vertical-align: middle;\n",
       "    }\n",
       "\n",
       "    .dataframe tbody tr th {\n",
       "        vertical-align: top;\n",
       "    }\n",
       "\n",
       "    .dataframe thead th {\n",
       "        text-align: right;\n",
       "    }\n",
       "</style>\n",
       "<table border=\"1\" class=\"dataframe\">\n",
       "  <thead>\n",
       "    <tr style=\"text-align: right;\">\n",
       "      <th></th>\n",
       "      <th>feature</th>\n",
       "      <th>start</th>\n",
       "      <th>end</th>\n",
       "      <th>strand</th>\n",
       "      <th>transcript_id</th>\n",
       "      <th>gene_id</th>\n",
       "      <th>gene_type</th>\n",
       "      <th>gene_name</th>\n",
       "      <th>level</th>\n",
       "    </tr>\n",
       "  </thead>\n",
       "  <tbody>\n",
       "    <tr>\n",
       "      <th>0</th>\n",
       "      <td>transcript</td>\n",
       "      <td>3143476</td>\n",
       "      <td>3144545</td>\n",
       "      <td>+</td>\n",
       "      <td>ENSMUST00000193812.2</td>\n",
       "      <td>ENSMUSG00000102693.2</td>\n",
       "      <td>TEC</td>\n",
       "      <td>4933401J01Rik</td>\n",
       "      <td>2</td>\n",
       "    </tr>\n",
       "    <tr>\n",
       "      <th>1</th>\n",
       "      <td>exon</td>\n",
       "      <td>3143476</td>\n",
       "      <td>3144545</td>\n",
       "      <td>+</td>\n",
       "      <td>ENSMUST00000193812.2</td>\n",
       "      <td>ENSMUSG00000102693.2</td>\n",
       "      <td>TEC</td>\n",
       "      <td>4933401J01Rik</td>\n",
       "      <td>2</td>\n",
       "    </tr>\n",
       "    <tr>\n",
       "      <th>2</th>\n",
       "      <td>gene</td>\n",
       "      <td>3172239</td>\n",
       "      <td>3172348</td>\n",
       "      <td>+</td>\n",
       "      <td>NaN</td>\n",
       "      <td>ENSMUSG00000064842.3</td>\n",
       "      <td>snRNA</td>\n",
       "      <td>Gm26206</td>\n",
       "      <td>3</td>\n",
       "    </tr>\n",
       "    <tr>\n",
       "      <th>3</th>\n",
       "      <td>transcript</td>\n",
       "      <td>3172239</td>\n",
       "      <td>3172348</td>\n",
       "      <td>+</td>\n",
       "      <td>ENSMUST00000082908.3</td>\n",
       "      <td>ENSMUSG00000064842.3</td>\n",
       "      <td>snRNA</td>\n",
       "      <td>Gm26206</td>\n",
       "      <td>3</td>\n",
       "    </tr>\n",
       "    <tr>\n",
       "      <th>4</th>\n",
       "      <td>exon</td>\n",
       "      <td>3172239</td>\n",
       "      <td>3172348</td>\n",
       "      <td>+</td>\n",
       "      <td>ENSMUST00000082908.3</td>\n",
       "      <td>ENSMUSG00000064842.3</td>\n",
       "      <td>snRNA</td>\n",
       "      <td>Gm26206</td>\n",
       "      <td>3</td>\n",
       "    </tr>\n",
       "  </tbody>\n",
       "</table>\n",
       "</div>"
      ],
      "text/plain": [
       "      feature    start      end strand         transcript_id  \\\n",
       "0  transcript  3143476  3144545      +  ENSMUST00000193812.2   \n",
       "1        exon  3143476  3144545      +  ENSMUST00000193812.2   \n",
       "2        gene  3172239  3172348      +                   NaN   \n",
       "3  transcript  3172239  3172348      +  ENSMUST00000082908.3   \n",
       "4        exon  3172239  3172348      +  ENSMUST00000082908.3   \n",
       "\n",
       "                gene_id gene_type      gene_name level  \n",
       "0  ENSMUSG00000102693.2       TEC  4933401J01Rik     2  \n",
       "1  ENSMUSG00000102693.2       TEC  4933401J01Rik     2  \n",
       "2  ENSMUSG00000064842.3     snRNA        Gm26206     3  \n",
       "3  ENSMUSG00000064842.3     snRNA        Gm26206     3  \n",
       "4  ENSMUSG00000064842.3     snRNA        Gm26206     3  "
      ]
     },
     "execution_count": 234,
     "metadata": {},
     "output_type": "execute_result"
    }
   ],
   "source": [
    "GTF_df2 = pd.concat([GTF_df_compact,add_df], axis=1)\n",
    "GTF_df2 = GTF_df2.drop(columns=['add'])\n",
    "GTF_df2.columns = ['feature','start','end','strand','transcript_id','gene_id','gene_type','gene_name','level']\n",
    "GTF_df2.head()"
   ]
  },
  {
   "cell_type": "code",
   "execution_count": 236,
   "id": "76444965-308c-465e-99fa-d048787ef371",
   "metadata": {},
   "outputs": [
    {
     "data": {
      "text/html": [
       "<div>\n",
       "<style scoped>\n",
       "    .dataframe tbody tr th:only-of-type {\n",
       "        vertical-align: middle;\n",
       "    }\n",
       "\n",
       "    .dataframe tbody tr th {\n",
       "        vertical-align: top;\n",
       "    }\n",
       "\n",
       "    .dataframe thead th {\n",
       "        text-align: right;\n",
       "    }\n",
       "</style>\n",
       "<table border=\"1\" class=\"dataframe\">\n",
       "  <thead>\n",
       "    <tr style=\"text-align: right;\">\n",
       "      <th></th>\n",
       "      <th>feature</th>\n",
       "      <th>start</th>\n",
       "      <th>end</th>\n",
       "      <th>strand</th>\n",
       "      <th>transcript_id</th>\n",
       "      <th>gene_id</th>\n",
       "      <th>gene_type</th>\n",
       "      <th>gene_name</th>\n",
       "      <th>level</th>\n",
       "      <th>length</th>\n",
       "    </tr>\n",
       "  </thead>\n",
       "  <tbody>\n",
       "    <tr>\n",
       "      <th>5</th>\n",
       "      <td>gene</td>\n",
       "      <td>3276124</td>\n",
       "      <td>3741721</td>\n",
       "      <td>-</td>\n",
       "      <td>NaN</td>\n",
       "      <td>ENSMUSG00000051951.6</td>\n",
       "      <td>protein_coding</td>\n",
       "      <td>Xkr4</td>\n",
       "      <td>2</td>\n",
       "      <td>465598</td>\n",
       "    </tr>\n",
       "    <tr>\n",
       "      <th>6</th>\n",
       "      <td>transcript</td>\n",
       "      <td>3276124</td>\n",
       "      <td>3286567</td>\n",
       "      <td>-</td>\n",
       "      <td>ENSMUST00000162897.2</td>\n",
       "      <td>ENSMUSG00000051951.6</td>\n",
       "      <td>protein_coding</td>\n",
       "      <td>Xkr4</td>\n",
       "      <td>2</td>\n",
       "      <td>10444</td>\n",
       "    </tr>\n",
       "    <tr>\n",
       "      <th>7</th>\n",
       "      <td>exon</td>\n",
       "      <td>3283832</td>\n",
       "      <td>3286567</td>\n",
       "      <td>-</td>\n",
       "      <td>ENSMUST00000162897.2</td>\n",
       "      <td>ENSMUSG00000051951.6</td>\n",
       "      <td>protein_coding</td>\n",
       "      <td>Xkr4</td>\n",
       "      <td>2</td>\n",
       "      <td>2736</td>\n",
       "    </tr>\n",
       "    <tr>\n",
       "      <th>8</th>\n",
       "      <td>exon</td>\n",
       "      <td>3276124</td>\n",
       "      <td>3277540</td>\n",
       "      <td>-</td>\n",
       "      <td>ENSMUST00000162897.2</td>\n",
       "      <td>ENSMUSG00000051951.6</td>\n",
       "      <td>protein_coding</td>\n",
       "      <td>Xkr4</td>\n",
       "      <td>2</td>\n",
       "      <td>1417</td>\n",
       "    </tr>\n",
       "    <tr>\n",
       "      <th>9</th>\n",
       "      <td>transcript</td>\n",
       "      <td>3276746</td>\n",
       "      <td>3285855</td>\n",
       "      <td>-</td>\n",
       "      <td>ENSMUST00000159265.2</td>\n",
       "      <td>ENSMUSG00000051951.6</td>\n",
       "      <td>protein_coding</td>\n",
       "      <td>Xkr4</td>\n",
       "      <td>2</td>\n",
       "      <td>9110</td>\n",
       "    </tr>\n",
       "  </tbody>\n",
       "</table>\n",
       "</div>"
      ],
      "text/plain": [
       "      feature    start      end strand         transcript_id  \\\n",
       "5        gene  3276124  3741721      -                   NaN   \n",
       "6  transcript  3276124  3286567      -  ENSMUST00000162897.2   \n",
       "7        exon  3283832  3286567      -  ENSMUST00000162897.2   \n",
       "8        exon  3276124  3277540      -  ENSMUST00000162897.2   \n",
       "9  transcript  3276746  3285855      -  ENSMUST00000159265.2   \n",
       "\n",
       "                gene_id       gene_type gene_name level  length  \n",
       "5  ENSMUSG00000051951.6  protein_coding      Xkr4     2  465598  \n",
       "6  ENSMUSG00000051951.6  protein_coding      Xkr4     2   10444  \n",
       "7  ENSMUSG00000051951.6  protein_coding      Xkr4     2    2736  \n",
       "8  ENSMUSG00000051951.6  protein_coding      Xkr4     2    1417  \n",
       "9  ENSMUSG00000051951.6  protein_coding      Xkr4     2    9110  "
      ]
     },
     "execution_count": 236,
     "metadata": {},
     "output_type": "execute_result"
    }
   ],
   "source": [
    "GTF_df2 = GTF_df2[GTF_df2['gene_type']=='protein_coding']\n",
    "GTF_df2 = GTF_df2[(GTF_df2['level']=='1')|(GTF_df2['level']=='2')]\n",
    "GTF_df2['length'] = GTF_df2['end']-GTF_df2['start']+1"
   ]
  },
  {
   "cell_type": "code",
   "execution_count": 237,
   "id": "da94c850-c238-4768-a75c-8572e963537a",
   "metadata": {},
   "outputs": [
    {
     "data": {
      "text/html": [
       "<div>\n",
       "<style scoped>\n",
       "    .dataframe tbody tr th:only-of-type {\n",
       "        vertical-align: middle;\n",
       "    }\n",
       "\n",
       "    .dataframe tbody tr th {\n",
       "        vertical-align: top;\n",
       "    }\n",
       "\n",
       "    .dataframe thead th {\n",
       "        text-align: right;\n",
       "    }\n",
       "</style>\n",
       "<table border=\"1\" class=\"dataframe\">\n",
       "  <thead>\n",
       "    <tr style=\"text-align: right;\">\n",
       "      <th></th>\n",
       "      <th>feature</th>\n",
       "      <th>start</th>\n",
       "      <th>end</th>\n",
       "      <th>strand</th>\n",
       "      <th>transcript_id</th>\n",
       "      <th>gene_id</th>\n",
       "      <th>gene_type</th>\n",
       "      <th>gene_name</th>\n",
       "      <th>level</th>\n",
       "      <th>length</th>\n",
       "    </tr>\n",
       "  </thead>\n",
       "  <tbody>\n",
       "    <tr>\n",
       "      <th>354</th>\n",
       "      <td>gene</td>\n",
       "      <td>4878011</td>\n",
       "      <td>4918633</td>\n",
       "      <td>+</td>\n",
       "      <td>NaN</td>\n",
       "      <td>ENSMUSG00000025903.15</td>\n",
       "      <td>protein_coding</td>\n",
       "      <td>Lypla1</td>\n",
       "      <td>2</td>\n",
       "      <td>40623</td>\n",
       "    </tr>\n",
       "    <tr>\n",
       "      <th>355</th>\n",
       "      <td>transcript</td>\n",
       "      <td>4878011</td>\n",
       "      <td>4918633</td>\n",
       "      <td>+</td>\n",
       "      <td>ENSMUST00000134384.8</td>\n",
       "      <td>ENSMUSG00000025903.15</td>\n",
       "      <td>protein_coding</td>\n",
       "      <td>Lypla1</td>\n",
       "      <td>2</td>\n",
       "      <td>40623</td>\n",
       "    </tr>\n",
       "    <tr>\n",
       "      <th>356</th>\n",
       "      <td>exon</td>\n",
       "      <td>4878011</td>\n",
       "      <td>4878205</td>\n",
       "      <td>+</td>\n",
       "      <td>ENSMUST00000134384.8</td>\n",
       "      <td>ENSMUSG00000025903.15</td>\n",
       "      <td>protein_coding</td>\n",
       "      <td>Lypla1</td>\n",
       "      <td>2</td>\n",
       "      <td>195</td>\n",
       "    </tr>\n",
       "    <tr>\n",
       "      <th>357</th>\n",
       "      <td>CDS</td>\n",
       "      <td>4878137</td>\n",
       "      <td>4878205</td>\n",
       "      <td>+</td>\n",
       "      <td>ENSMUST00000134384.8</td>\n",
       "      <td>ENSMUSG00000025903.15</td>\n",
       "      <td>protein_coding</td>\n",
       "      <td>Lypla1</td>\n",
       "      <td>2</td>\n",
       "      <td>69</td>\n",
       "    </tr>\n",
       "    <tr>\n",
       "      <th>358</th>\n",
       "      <td>start_codon</td>\n",
       "      <td>4878137</td>\n",
       "      <td>4878139</td>\n",
       "      <td>+</td>\n",
       "      <td>ENSMUST00000134384.8</td>\n",
       "      <td>ENSMUSG00000025903.15</td>\n",
       "      <td>protein_coding</td>\n",
       "      <td>Lypla1</td>\n",
       "      <td>2</td>\n",
       "      <td>3</td>\n",
       "    </tr>\n",
       "  </tbody>\n",
       "</table>\n",
       "</div>"
      ],
      "text/plain": [
       "         feature    start      end strand         transcript_id  \\\n",
       "354         gene  4878011  4918633      +                   NaN   \n",
       "355   transcript  4878011  4918633      +  ENSMUST00000134384.8   \n",
       "356         exon  4878011  4878205      +  ENSMUST00000134384.8   \n",
       "357          CDS  4878137  4878205      +  ENSMUST00000134384.8   \n",
       "358  start_codon  4878137  4878139      +  ENSMUST00000134384.8   \n",
       "\n",
       "                   gene_id       gene_type gene_name level  length  \n",
       "354  ENSMUSG00000025903.15  protein_coding    Lypla1     2   40623  \n",
       "355  ENSMUSG00000025903.15  protein_coding    Lypla1     2   40623  \n",
       "356  ENSMUSG00000025903.15  protein_coding    Lypla1     2     195  \n",
       "357  ENSMUSG00000025903.15  protein_coding    Lypla1     2      69  \n",
       "358  ENSMUSG00000025903.15  protein_coding    Lypla1     2       3  "
      ]
     },
     "execution_count": 237,
     "metadata": {},
     "output_type": "execute_result"
    }
   ],
   "source": [
    "GTF_df2_plus = GTF_df2[GTF_df2['strand']=='+']\n",
    "GTF_df2_plus.head()"
   ]
  },
  {
   "cell_type": "code",
   "execution_count": 238,
   "id": "fb8fc72f-da00-487a-a0b8-eb4d588c31b6",
   "metadata": {},
   "outputs": [
    {
     "data": {
      "text/html": [
       "<div>\n",
       "<style scoped>\n",
       "    .dataframe tbody tr th:only-of-type {\n",
       "        vertical-align: middle;\n",
       "    }\n",
       "\n",
       "    .dataframe tbody tr th {\n",
       "        vertical-align: top;\n",
       "    }\n",
       "\n",
       "    .dataframe thead th {\n",
       "        text-align: right;\n",
       "    }\n",
       "</style>\n",
       "<table border=\"1\" class=\"dataframe\">\n",
       "  <thead>\n",
       "    <tr style=\"text-align: right;\">\n",
       "      <th></th>\n",
       "      <th>feature</th>\n",
       "      <th>start</th>\n",
       "      <th>end</th>\n",
       "      <th>strand</th>\n",
       "      <th>transcript_id</th>\n",
       "      <th>gene_id</th>\n",
       "      <th>gene_type</th>\n",
       "      <th>gene_name</th>\n",
       "      <th>level</th>\n",
       "      <th>length</th>\n",
       "    </tr>\n",
       "  </thead>\n",
       "  <tbody>\n",
       "    <tr>\n",
       "      <th>357</th>\n",
       "      <td>CDS</td>\n",
       "      <td>4878137</td>\n",
       "      <td>4878205</td>\n",
       "      <td>+</td>\n",
       "      <td>ENSMUST00000134384.8</td>\n",
       "      <td>ENSMUSG00000025903.15</td>\n",
       "      <td>protein_coding</td>\n",
       "      <td>Lypla1</td>\n",
       "      <td>2</td>\n",
       "      <td>69</td>\n",
       "    </tr>\n",
       "    <tr>\n",
       "      <th>360</th>\n",
       "      <td>CDS</td>\n",
       "      <td>4878678</td>\n",
       "      <td>4878709</td>\n",
       "      <td>+</td>\n",
       "      <td>ENSMUST00000134384.8</td>\n",
       "      <td>ENSMUSG00000025903.15</td>\n",
       "      <td>protein_coding</td>\n",
       "      <td>Lypla1</td>\n",
       "      <td>2</td>\n",
       "      <td>32</td>\n",
       "    </tr>\n",
       "    <tr>\n",
       "      <th>362</th>\n",
       "      <td>CDS</td>\n",
       "      <td>4898807</td>\n",
       "      <td>4898872</td>\n",
       "      <td>+</td>\n",
       "      <td>ENSMUST00000134384.8</td>\n",
       "      <td>ENSMUSG00000025903.15</td>\n",
       "      <td>protein_coding</td>\n",
       "      <td>Lypla1</td>\n",
       "      <td>2</td>\n",
       "      <td>66</td>\n",
       "    </tr>\n",
       "    <tr>\n",
       "      <th>364</th>\n",
       "      <td>CDS</td>\n",
       "      <td>4900491</td>\n",
       "      <td>4900538</td>\n",
       "      <td>+</td>\n",
       "      <td>ENSMUST00000134384.8</td>\n",
       "      <td>ENSMUSG00000025903.15</td>\n",
       "      <td>protein_coding</td>\n",
       "      <td>Lypla1</td>\n",
       "      <td>2</td>\n",
       "      <td>48</td>\n",
       "    </tr>\n",
       "    <tr>\n",
       "      <th>366</th>\n",
       "      <td>CDS</td>\n",
       "      <td>4902534</td>\n",
       "      <td>4902604</td>\n",
       "      <td>+</td>\n",
       "      <td>ENSMUST00000134384.8</td>\n",
       "      <td>ENSMUSG00000025903.15</td>\n",
       "      <td>protein_coding</td>\n",
       "      <td>Lypla1</td>\n",
       "      <td>2</td>\n",
       "      <td>71</td>\n",
       "    </tr>\n",
       "  </tbody>\n",
       "</table>\n",
       "</div>"
      ],
      "text/plain": [
       "    feature    start      end strand         transcript_id  \\\n",
       "357     CDS  4878137  4878205      +  ENSMUST00000134384.8   \n",
       "360     CDS  4878678  4878709      +  ENSMUST00000134384.8   \n",
       "362     CDS  4898807  4898872      +  ENSMUST00000134384.8   \n",
       "364     CDS  4900491  4900538      +  ENSMUST00000134384.8   \n",
       "366     CDS  4902534  4902604      +  ENSMUST00000134384.8   \n",
       "\n",
       "                   gene_id       gene_type gene_name level  length  \n",
       "357  ENSMUSG00000025903.15  protein_coding    Lypla1     2      69  \n",
       "360  ENSMUSG00000025903.15  protein_coding    Lypla1     2      32  \n",
       "362  ENSMUSG00000025903.15  protein_coding    Lypla1     2      66  \n",
       "364  ENSMUSG00000025903.15  protein_coding    Lypla1     2      48  \n",
       "366  ENSMUSG00000025903.15  protein_coding    Lypla1     2      71  "
      ]
     },
     "execution_count": 238,
     "metadata": {},
     "output_type": "execute_result"
    }
   ],
   "source": [
    "GTF_df2_plus_CDS = GTF_df2_plus[GTF_df2_plus['feature']=='CDS']\n",
    "GTF_df2_plus_CDS.head()"
   ]
  },
  {
   "cell_type": "code",
   "execution_count": 239,
   "id": "768cc573-62e8-4c31-b9ec-dbbe3bba6c6e",
   "metadata": {},
   "outputs": [
    {
     "data": {
      "text/html": [
       "<div>\n",
       "<style scoped>\n",
       "    .dataframe tbody tr th:only-of-type {\n",
       "        vertical-align: middle;\n",
       "    }\n",
       "\n",
       "    .dataframe tbody tr th {\n",
       "        vertical-align: top;\n",
       "    }\n",
       "\n",
       "    .dataframe thead th {\n",
       "        text-align: right;\n",
       "    }\n",
       "</style>\n",
       "<table border=\"1\" class=\"dataframe\">\n",
       "  <thead>\n",
       "    <tr style=\"text-align: right;\">\n",
       "      <th></th>\n",
       "      <th>length</th>\n",
       "    </tr>\n",
       "    <tr>\n",
       "      <th>transcript_id</th>\n",
       "      <th></th>\n",
       "    </tr>\n",
       "  </thead>\n",
       "  <tbody>\n",
       "    <tr>\n",
       "      <th>ENSMUST00000183034.5</th>\n",
       "      <td>23151</td>\n",
       "    </tr>\n",
       "    <tr>\n",
       "      <th>ENSMUST00000239545.1</th>\n",
       "      <td>22572</td>\n",
       "    </tr>\n",
       "    <tr>\n",
       "      <th>ENSMUST00000097785.10</th>\n",
       "      <td>22179</td>\n",
       "    </tr>\n",
       "    <tr>\n",
       "      <th>ENSMUST00000143764.9</th>\n",
       "      <td>20985</td>\n",
       "    </tr>\n",
       "    <tr>\n",
       "      <th>ENSMUST00000143031.8</th>\n",
       "      <td>20610</td>\n",
       "    </tr>\n",
       "    <tr>\n",
       "      <th>...</th>\n",
       "      <td>...</td>\n",
       "    </tr>\n",
       "    <tr>\n",
       "      <th>ENSMUST00000201484.4</th>\n",
       "      <td>3</td>\n",
       "    </tr>\n",
       "    <tr>\n",
       "      <th>ENSMUST00000140136.9</th>\n",
       "      <td>3</td>\n",
       "    </tr>\n",
       "    <tr>\n",
       "      <th>ENSMUST00000202527.4</th>\n",
       "      <td>3</td>\n",
       "    </tr>\n",
       "    <tr>\n",
       "      <th>ENSMUST00000202071.2</th>\n",
       "      <td>3</td>\n",
       "    </tr>\n",
       "    <tr>\n",
       "      <th>ENSMUST00000142898.2</th>\n",
       "      <td>3</td>\n",
       "    </tr>\n",
       "  </tbody>\n",
       "</table>\n",
       "<p>30978 rows × 1 columns</p>\n",
       "</div>"
      ],
      "text/plain": [
       "                       length\n",
       "transcript_id                \n",
       "ENSMUST00000183034.5    23151\n",
       "ENSMUST00000239545.1    22572\n",
       "ENSMUST00000097785.10   22179\n",
       "ENSMUST00000143764.9    20985\n",
       "ENSMUST00000143031.8    20610\n",
       "...                       ...\n",
       "ENSMUST00000201484.4        3\n",
       "ENSMUST00000140136.9        3\n",
       "ENSMUST00000202527.4        3\n",
       "ENSMUST00000202071.2        3\n",
       "ENSMUST00000142898.2        3\n",
       "\n",
       "[30978 rows x 1 columns]"
      ]
     },
     "execution_count": 239,
     "metadata": {},
     "output_type": "execute_result"
    }
   ],
   "source": [
    "GTF_df2_plus_CDS[['transcript_id','length']].groupby(by=['transcript_id']).sum().sort_values(by=['length'], ascending=False)"
   ]
  },
  {
   "cell_type": "code",
   "execution_count": null,
   "id": "81fbbed7-eeb8-4676-bccd-66c85b569cb7",
   "metadata": {},
   "outputs": [],
   "source": []
  }
 ],
 "metadata": {
  "kernelspec": {
   "display_name": "Python 3",
   "language": "python",
   "name": "python3"
  },
  "language_info": {
   "codemirror_mode": {
    "name": "ipython",
    "version": 3
   },
   "file_extension": ".py",
   "mimetype": "text/x-python",
   "name": "python",
   "nbconvert_exporter": "python",
   "pygments_lexer": "ipython3",
   "version": "3.9.13"
  }
 },
 "nbformat": 4,
 "nbformat_minor": 5
}
