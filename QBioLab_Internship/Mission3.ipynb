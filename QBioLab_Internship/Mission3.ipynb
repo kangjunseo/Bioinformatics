{
 "cells": [
  {
   "cell_type": "code",
   "execution_count": 1,
   "id": "a5d89d03-8184-4c19-b002-f7068d4592bb",
   "metadata": {},
   "outputs": [],
   "source": [
    "import pandas as pd\n",
    "import numpy as np\n",
    "from collections import defaultdict\n",
    "import matplotlib.pyplot as plt\n",
    "%matplotlib inline"
   ]
  },
  {
   "cell_type": "code",
   "execution_count": 151,
   "id": "54a5d37a-1a61-4075-a119-28305d2cfc93",
   "metadata": {},
   "outputs": [],
   "source": [
    "def sam_to_table(code):\n",
    "    read_table = defaultdict(int)\n",
    "    with open(f\"{code}/Aligned.out.sam\") as inpfile:\n",
    "        for line in inpfile:\n",
    "            if line.startswith('@'): continue # header 제거\n",
    "        \n",
    "            line_list = line.split()\n",
    "            if line_list[1]==4: continue # 잘못 read된 data 제거\n",
    "        \n",
    "            if line_list[2].startswith('ENSMUST'):\n",
    "                read_table[line_list[2].split('|')[0]]+=1\n",
    "            \n",
    "    table_df = pd.Series(read_table)\n",
    "    return table_df[table_df>= 30] # 30 read 보다 작은 경우는 filter"
   ]
  },
  {
   "cell_type": "code",
   "execution_count": 152,
   "id": "54bbe318-9980-40e2-a640-9173df4f156b",
   "metadata": {},
   "outputs": [
    {
     "data": {
      "text/plain": [
       "ENSMUST00000240377.1    1007005\n",
       "ENSMUST00000116560.3       1341\n",
       "ENSMUST00000209469.2       1377\n",
       "ENSMUST00000237122.2       1335\n",
       "ENSMUST00000236645.2       1002\n",
       "dtype: int64"
      ]
     },
     "execution_count": 152,
     "metadata": {},
     "output_type": "execute_result"
    }
   ],
   "source": [
    "table = sam_to_table(\"RPF_siLin28a\")\n",
    "table.head()"
   ]
  },
  {
   "cell_type": "code",
   "execution_count": 141,
   "id": "08868113-0485-46d1-b607-68f69d96151b",
   "metadata": {},
   "outputs": [
    {
     "data": {
      "text/plain": [
       "9574"
      ]
     },
     "execution_count": 141,
     "metadata": {},
     "output_type": "execute_result"
    }
   ],
   "source": [
    "table = table.sort_values(ascending=False)\n",
    "table.head()\n",
    "len(table)"
   ]
  },
  {
   "cell_type": "code",
   "execution_count": 119,
   "id": "f74f9fc6-49a6-4b5a-96c8-8bb5b6cf4ac5",
   "metadata": {},
   "outputs": [],
   "source": [
    "path = \"/home/qbio1/kangjunseo/tutorials/ref_gene/gencode.vM29.primary_assembly.annotation.gtf\""
   ]
  },
  {
   "cell_type": "code",
   "execution_count": 31,
   "id": "2e01e626-6f0e-44cb-9d6f-2ad12ef3fc00",
   "metadata": {},
   "outputs": [],
   "source": [
    "def read_specific_transcript(code, trans):\n",
    "    read_table = defaultdict(int)\n",
    "    with open(f\"{code}/Aligned.out.sam\") as inpfile:\n",
    "        for line in inpfile:\n",
    "            if line.startswith('@'): continue # header 제거\n",
    "            \n",
    "            line_list = line.split()\n",
    "            if line_list[1]==4: continue # 잘못 read된 data 제거\n",
    "        \n",
    "            if line_list[2].startswith(trans):\n",
    "                read_table[int(line_list[3])]+=1\n",
    "            \n",
    "    table_df = pd.Series(read_table)\n",
    "    return table_df"
   ]
  },
  {
   "cell_type": "code",
   "execution_count": 114,
   "id": "4de6a8b2-d403-4ebd-a048-9810632b75d6",
   "metadata": {},
   "outputs": [
    {
     "name": "stderr",
     "output_type": "stream",
     "text": [
      "/tmp/ipykernel_734766/446982360.py:13: FutureWarning: The default dtype for empty Series will be 'object' instead of 'float64' in a future version. Specify a dtype explicitly to silence this warning.\n",
      "  table_df = pd.Series(read_table)\n"
     ]
    },
    {
     "data": {
      "text/plain": [
       "Series([], dtype: float64)"
      ]
     },
     "execution_count": 114,
     "metadata": {},
     "output_type": "execute_result"
    }
   ],
   "source": [
    "RST = read_specific_transcript(\"RPF_siLin28a\",\"ENSMUSG00000026131.21\")\n",
    "RST.head()"
   ]
  },
  {
   "cell_type": "code",
   "execution_count": 115,
   "id": "792147e7-580a-49b6-a3f8-d8249cf7b6ae",
   "metadata": {},
   "outputs": [
    {
     "data": {
      "text/plain": [
       "Series([], dtype: float64)"
      ]
     },
     "execution_count": 115,
     "metadata": {},
     "output_type": "execute_result"
    }
   ],
   "source": [
    "RST.sort_values(ascending=False).head()"
   ]
  },
  {
   "cell_type": "code",
   "execution_count": 53,
   "id": "acf8b119-e1ed-494d-aa0f-3c15b30debf8",
   "metadata": {
    "tags": []
   },
   "outputs": [
    {
     "data": {
      "text/plain": [
       "<AxesSubplot:>"
      ]
     },
     "execution_count": 53,
     "metadata": {},
     "output_type": "execute_result"
    },
    {
     "data": {
      "image/png": "[encoded data removed]",
      "text/plain": [
       "<Figure size 432x288 with 1 Axes>"
      ]
     },
     "metadata": {
      "needs_background": "light"
     },
     "output_type": "display_data"
    }
   ],
   "source": [
    "RST = RST.sort_index()\n",
    "RST.plot()"
   ]
  },
  {
   "cell_type": "code",
   "execution_count": 46,
   "id": "ccef56ef-a8d5-47f8-8c82-186ccd701279",
   "metadata": {},
   "outputs": [
    {
     "data": {
      "text/plain": [
       "ENSMUST00000082390.1       25977\n",
       "ENSMUST00000044200.11        707\n",
       "ENSMUST00000204185.2         288\n",
       "ENSMUST00000058030.10        780\n",
       "ENSMUST00000240377.1     6432837\n",
       "dtype: int64"
      ]
     },
     "execution_count": 46,
     "metadata": {},
     "output_type": "execute_result"
    }
   ],
   "source": [
    "table2 = sam_to_table(\"RPF_siLuc\")\n",
    "table2.head()"
   ]
  },
  {
   "cell_type": "code",
   "execution_count": 47,
   "id": "bd5f2b85-95ac-4bcc-8841-1a8d1ed45249",
   "metadata": {},
   "outputs": [
    {
     "data": {
      "text/plain": [
       "ENSMUST00000240377.1     6432837\n",
       "ENSMUST00000082402.1       63193\n",
       "ENSMUST00000024739.14      62942\n",
       "ENSMUST00000094361.11      61914\n",
       "ENSMUST00000021698.13      59815\n",
       "dtype: int64"
      ]
     },
     "execution_count": 47,
     "metadata": {},
     "output_type": "execute_result"
    }
   ],
   "source": [
    "table2.sort_values(ascending=False).head()"
   ]
  },
  {
   "cell_type": "code",
   "execution_count": 57,
   "id": "0a2b2cad-273f-4189-be9d-15e59133caf3",
   "metadata": {
    "tags": []
   },
   "outputs": [
    {
     "data": {
      "text/plain": [
       "1    2148\n",
       "2     113\n",
       "3      56\n",
       "4      24\n",
       "5      31\n",
       "dtype: int64"
      ]
     },
     "execution_count": 57,
     "metadata": {},
     "output_type": "execute_result"
    }
   ],
   "source": [
    "RST2 = read_specific_transcript(\"RPF_siLuc\",\"ENSMUST00000240377.1\")\n",
    "RST2.sort_index().head()"
   ]
  },
  {
   "cell_type": "code",
   "execution_count": 56,
   "id": "24d9993f-2d70-423b-b0b9-1d4126f69761",
   "metadata": {
    "tags": []
   },
   "outputs": [
    {
     "name": "stdout",
     "output_type": "stream",
     "text": [
      "1848\n"
     ]
    },
    {
     "data": {
      "image/png": "[encoded data removed]",
      "text/plain": [
       "<Figure size 432x288 with 1 Axes>"
      ]
     },
     "metadata": {
      "needs_background": "light"
     },
     "output_type": "display_data"
    }
   ],
   "source": [
    "RST2.sort_index()[:].plot()\n",
    "print(9092-7244)"
   ]
  },
  {
   "cell_type": "markdown",
   "id": "de9f348a-ad9f-415a-af90-526b89b8a9aa",
   "metadata": {},
   "source": [
    "## 1.GTF File Parsing\n",
    "\n",
    "### Informations we need\n",
    "- column 3 : feature type\n",
    "- column 4 : genomic start loc\n",
    "- column 5 : genomic end loc\n",
    "- column 7 : genomic strand(+/-)\n",
    "- column 9 : additional info\n",
    "    - gene_id\n",
    "    - transcript_id\n",
    "    - gene_type\n",
    "    - level\n",
    "    \n",
    "### Filtering\n",
    "- non coding genes\n",
    "- gene level not 1\n",
    "- (+) strand"
   ]
  },
  {
   "cell_type": "code",
   "execution_count": 160,
   "id": "81f70490-c882-4fa2-b392-2920126be4ab",
   "metadata": {},
   "outputs": [],
   "source": [
    "def parse_add(add):\n",
    "    ret_dict = {'transcript_id':''}\n",
    "    valid = ['gene_id','transcript_id','gene_type','gene_name','level']\n",
    "    for row in add.split(';'):\n",
    "        kv_pair = row.split()\n",
    "        if len(kv_pair)<=1 : continue\n",
    "        if kv_pair[0] in valid:\n",
    "            ret_dict[kv_pair[0]]=kv_pair[1]\n",
    "    return list(ret_dict.values())"
   ]
  },
  {
   "cell_type": "code",
   "execution_count": 182,
   "id": "cd3f5ec9-5161-4340-905b-eb22b3f7e180",
   "metadata": {},
   "outputs": [
    {
     "data": {
      "text/html": [
       "<div>\n",
       "<style scoped>\n",
       "    .dataframe tbody tr th:only-of-type {\n",
       "        vertical-align: middle;\n",
       "    }\n",
       "\n",
       "    .dataframe tbody tr th {\n",
       "        vertical-align: top;\n",
       "    }\n",
       "\n",
       "    .dataframe thead th {\n",
       "        text-align: right;\n",
       "    }\n",
       "</style>\n",
       "<table border=\"1\" class=\"dataframe\">\n",
       "  <thead>\n",
       "    <tr style=\"text-align: right;\">\n",
       "      <th></th>\n",
       "      <th>chr</th>\n",
       "      <th>ann</th>\n",
       "      <th>feature</th>\n",
       "      <th>start</th>\n",
       "      <th>end</th>\n",
       "      <th>score</th>\n",
       "      <th>strand</th>\n",
       "      <th>phase</th>\n",
       "      <th>add</th>\n",
       "    </tr>\n",
       "  </thead>\n",
       "  <tbody>\n",
       "    <tr>\n",
       "      <th>0</th>\n",
       "      <td>chr1</td>\n",
       "      <td>HAVANA</td>\n",
       "      <td>transcript</td>\n",
       "      <td>3143476</td>\n",
       "      <td>3144545</td>\n",
       "      <td>.</td>\n",
       "      <td>+</td>\n",
       "      <td>.</td>\n",
       "      <td>gene_id \"ENSMUSG00000102693.2\"; transcript_id ...</td>\n",
       "    </tr>\n",
       "    <tr>\n",
       "      <th>1</th>\n",
       "      <td>chr1</td>\n",
       "      <td>HAVANA</td>\n",
       "      <td>exon</td>\n",
       "      <td>3143476</td>\n",
       "      <td>3144545</td>\n",
       "      <td>.</td>\n",
       "      <td>+</td>\n",
       "      <td>.</td>\n",
       "      <td>gene_id \"ENSMUSG00000102693.2\"; transcript_id ...</td>\n",
       "    </tr>\n",
       "    <tr>\n",
       "      <th>2</th>\n",
       "      <td>chr1</td>\n",
       "      <td>ENSEMBL</td>\n",
       "      <td>gene</td>\n",
       "      <td>3172239</td>\n",
       "      <td>3172348</td>\n",
       "      <td>.</td>\n",
       "      <td>+</td>\n",
       "      <td>.</td>\n",
       "      <td>gene_id \"ENSMUSG00000064842.3\"; gene_type \"snR...</td>\n",
       "    </tr>\n",
       "    <tr>\n",
       "      <th>3</th>\n",
       "      <td>chr1</td>\n",
       "      <td>ENSEMBL</td>\n",
       "      <td>transcript</td>\n",
       "      <td>3172239</td>\n",
       "      <td>3172348</td>\n",
       "      <td>.</td>\n",
       "      <td>+</td>\n",
       "      <td>.</td>\n",
       "      <td>gene_id \"ENSMUSG00000064842.3\"; transcript_id ...</td>\n",
       "    </tr>\n",
       "    <tr>\n",
       "      <th>4</th>\n",
       "      <td>chr1</td>\n",
       "      <td>ENSEMBL</td>\n",
       "      <td>exon</td>\n",
       "      <td>3172239</td>\n",
       "      <td>3172348</td>\n",
       "      <td>.</td>\n",
       "      <td>+</td>\n",
       "      <td>.</td>\n",
       "      <td>gene_id \"ENSMUSG00000064842.3\"; transcript_id ...</td>\n",
       "    </tr>\n",
       "  </tbody>\n",
       "</table>\n",
       "</div>"
      ],
      "text/plain": [
       "    chr      ann     feature    start      end score strand phase  \\\n",
       "0  chr1   HAVANA  transcript  3143476  3144545     .      +     .   \n",
       "1  chr1   HAVANA        exon  3143476  3144545     .      +     .   \n",
       "2  chr1  ENSEMBL        gene  3172239  3172348     .      +     .   \n",
       "3  chr1  ENSEMBL  transcript  3172239  3172348     .      +     .   \n",
       "4  chr1  ENSEMBL        exon  3172239  3172348     .      +     .   \n",
       "\n",
       "                                                 add  \n",
       "0  gene_id \"ENSMUSG00000102693.2\"; transcript_id ...  \n",
       "1  gene_id \"ENSMUSG00000102693.2\"; transcript_id ...  \n",
       "2  gene_id \"ENSMUSG00000064842.3\"; gene_type \"snR...  \n",
       "3  gene_id \"ENSMUSG00000064842.3\"; transcript_id ...  \n",
       "4  gene_id \"ENSMUSG00000064842.3\"; transcript_id ...  "
      ]
     },
     "execution_count": 182,
     "metadata": {},
     "output_type": "execute_result"
    }
   ],
   "source": [
    "GTF_df = pd.read_csv(path, header=5, delimiter='\\t')\n",
    "GTF_df.columns=['chr','ann','feature','start','end','score','strand','phase','add']\n",
    "GTF_df.head()"
   ]
  },
  {
   "cell_type": "code",
   "execution_count": 185,
   "id": "b53922f8-e697-4424-a9b3-d9872fe1b493",
   "metadata": {},
   "outputs": [
    {
     "data": {
      "text/html": [
       "<div>\n",
       "<style scoped>\n",
       "    .dataframe tbody tr th:only-of-type {\n",
       "        vertical-align: middle;\n",
       "    }\n",
       "\n",
       "    .dataframe tbody tr th {\n",
       "        vertical-align: top;\n",
       "    }\n",
       "\n",
       "    .dataframe thead th {\n",
       "        text-align: right;\n",
       "    }\n",
       "</style>\n",
       "<table border=\"1\" class=\"dataframe\">\n",
       "  <thead>\n",
       "    <tr style=\"text-align: right;\">\n",
       "      <th></th>\n",
       "      <th>feature</th>\n",
       "      <th>start</th>\n",
       "      <th>end</th>\n",
       "      <th>strand</th>\n",
       "      <th>add</th>\n",
       "    </tr>\n",
       "  </thead>\n",
       "  <tbody>\n",
       "    <tr>\n",
       "      <th>0</th>\n",
       "      <td>transcript</td>\n",
       "      <td>3143476</td>\n",
       "      <td>3144545</td>\n",
       "      <td>+</td>\n",
       "      <td>gene_id \"ENSMUSG00000102693.2\"; transcript_id ...</td>\n",
       "    </tr>\n",
       "    <tr>\n",
       "      <th>1</th>\n",
       "      <td>exon</td>\n",
       "      <td>3143476</td>\n",
       "      <td>3144545</td>\n",
       "      <td>+</td>\n",
       "      <td>gene_id \"ENSMUSG00000102693.2\"; transcript_id ...</td>\n",
       "    </tr>\n",
       "    <tr>\n",
       "      <th>2</th>\n",
       "      <td>gene</td>\n",
       "      <td>3172239</td>\n",
       "      <td>3172348</td>\n",
       "      <td>+</td>\n",
       "      <td>gene_id \"ENSMUSG00000064842.3\"; gene_type \"snR...</td>\n",
       "    </tr>\n",
       "    <tr>\n",
       "      <th>3</th>\n",
       "      <td>transcript</td>\n",
       "      <td>3172239</td>\n",
       "      <td>3172348</td>\n",
       "      <td>+</td>\n",
       "      <td>gene_id \"ENSMUSG00000064842.3\"; transcript_id ...</td>\n",
       "    </tr>\n",
       "    <tr>\n",
       "      <th>4</th>\n",
       "      <td>exon</td>\n",
       "      <td>3172239</td>\n",
       "      <td>3172348</td>\n",
       "      <td>+</td>\n",
       "      <td>gene_id \"ENSMUSG00000064842.3\"; transcript_id ...</td>\n",
       "    </tr>\n",
       "  </tbody>\n",
       "</table>\n",
       "</div>"
      ],
      "text/plain": [
       "      feature    start      end strand  \\\n",
       "0  transcript  3143476  3144545      +   \n",
       "1        exon  3143476  3144545      +   \n",
       "2        gene  3172239  3172348      +   \n",
       "3  transcript  3172239  3172348      +   \n",
       "4        exon  3172239  3172348      +   \n",
       "\n",
       "                                                 add  \n",
       "0  gene_id \"ENSMUSG00000102693.2\"; transcript_id ...  \n",
       "1  gene_id \"ENSMUSG00000102693.2\"; transcript_id ...  \n",
       "2  gene_id \"ENSMUSG00000064842.3\"; gene_type \"snR...  \n",
       "3  gene_id \"ENSMUSG00000064842.3\"; transcript_id ...  \n",
       "4  gene_id \"ENSMUSG00000064842.3\"; transcript_id ...  "
      ]
     },
     "execution_count": 185,
     "metadata": {},
     "output_type": "execute_result"
    }
   ],
   "source": [
    "GTF_df_compact = GTF_df.drop(columns=['chr','ann','score','phase'])\n",
    "GTF_df_compact.head()"
   ]
  },
  {
   "cell_type": "code",
   "execution_count": null,
   "id": "c15abaf4-ac34-4c36-955b-cc5ae5485de1",
   "metadata": {},
   "outputs": [
    {
     "name": "stdout",
     "output_type": "stream",
     "text": [
      "####20000####\n",
      "time : 0.7919094562530518\n",
      "####40000####\n",
      "time : 1.6100544929504395\n",
      "####60000####\n",
      "time : 2.418590784072876\n",
      "####80000####\n",
      "time : 3.1884045600891113\n"
     ]
    },
    {
     "data": {
      "text/html": [
       "<div>\n",
       "<style scoped>\n",
       "    .dataframe tbody tr th:only-of-type {\n",
       "        vertical-align: middle;\n",
       "    }\n",
       "\n",
       "    .dataframe tbody tr th {\n",
       "        vertical-align: top;\n",
       "    }\n",
       "\n",
       "    .dataframe thead th {\n",
       "        text-align: right;\n",
       "    }\n",
       "</style>\n",
       "<table border=\"1\" class=\"dataframe\">\n",
       "  <thead>\n",
       "    <tr style=\"text-align: right;\">\n",
       "      <th></th>\n",
       "    </tr>\n",
       "  </thead>\n",
       "  <tbody>\n",
       "  </tbody>\n",
       "</table>\n",
       "</div>"
      ],
      "text/plain": [
       "Empty DataFrame\n",
       "Columns: []\n",
       "Index: []"
      ]
     },
     "execution_count": 173,
     "metadata": {},
     "output_type": "execute_result"
    }
   ],
   "source": [
    "import time\n",
    "start = time.time()\n",
    "\n",
    "cnt = 0\n",
    "GTF_df = pd.DataFrame()\n",
    "path = \"/home/qbio1/kangjunseo/tutorials/ref_gene/gencode.vM29.primary_assembly.annotation.gtf\"\n",
    "with open(path) as inpfile:\n",
    "    for line in inpfile:\n",
    "        if cnt>=100000: break\n",
    "        \n",
    "        if cnt%20000==0 and cnt : \n",
    "            print('####'+str(cnt)+'####')\n",
    "            print(\"time :\", time.time() - start)\n",
    "        if line.startswith('#'): continue # header 제거\n",
    "        line_list = line.split('\\t')\n",
    "        parsed_add = parse_add(line_list[8])\n",
    "        if parsed_add[2] != '\"protein_coding\"' or parsed_add[4] == '3' : \n",
    "            cnt+=1\n",
    "            continue\n",
    "        \n",
    "        line_df = pd.DataFrame(line_list[2:5]+[line_list[6]]+parsed_add).transpose()\n",
    "        GTF_df = pd.concat([GTF_df,line_df], ignore_index=True)\n",
    "        cnt+=1\n",
    "\n",
    "GTF_df.columns = ['feature','start','end','strand','transcript_id','gene_id','gene_type','gene_name','level']\n",
    "GTF_df.head()"
   ]
  },
  {
   "cell_type": "code",
   "execution_count": 165,
   "id": "76444965-308c-465e-99fa-d048787ef371",
   "metadata": {},
   "outputs": [
    {
     "name": "stdout",
     "output_type": "stream",
     "text": [
      "33728\n"
     ]
    },
    {
     "data": {
      "text/html": [
       "<div>\n",
       "<style scoped>\n",
       "    .dataframe tbody tr th:only-of-type {\n",
       "        vertical-align: middle;\n",
       "    }\n",
       "\n",
       "    .dataframe tbody tr th {\n",
       "        vertical-align: top;\n",
       "    }\n",
       "\n",
       "    .dataframe thead th {\n",
       "        text-align: right;\n",
       "    }\n",
       "</style>\n",
       "<table border=\"1\" class=\"dataframe\">\n",
       "  <thead>\n",
       "    <tr style=\"text-align: right;\">\n",
       "      <th></th>\n",
       "      <th>feature</th>\n",
       "      <th>start</th>\n",
       "      <th>end</th>\n",
       "      <th>strand</th>\n",
       "      <th>transcript_id</th>\n",
       "      <th>gene_id</th>\n",
       "      <th>gene_type</th>\n",
       "      <th>gene_name</th>\n",
       "      <th>level</th>\n",
       "      <th>length</th>\n",
       "    </tr>\n",
       "  </thead>\n",
       "  <tbody>\n",
       "    <tr>\n",
       "      <th>0</th>\n",
       "      <td>gene</td>\n",
       "      <td>6557455</td>\n",
       "      <td>6931164</td>\n",
       "      <td>+</td>\n",
       "      <td></td>\n",
       "      <td>\"ENSMUSG00000033740.18\"</td>\n",
       "      <td>\"protein_coding\"</td>\n",
       "      <td>\"St18\"</td>\n",
       "      <td>1</td>\n",
       "      <td>373710</td>\n",
       "    </tr>\n",
       "    <tr>\n",
       "      <th>1</th>\n",
       "      <td>transcript</td>\n",
       "      <td>6927565</td>\n",
       "      <td>6929828</td>\n",
       "      <td>+</td>\n",
       "      <td>\"ENSMUST00000130338.2\"</td>\n",
       "      <td>\"ENSMUSG00000033740.18\"</td>\n",
       "      <td>\"protein_coding\"</td>\n",
       "      <td>\"St18\"</td>\n",
       "      <td>1</td>\n",
       "      <td>2264</td>\n",
       "    </tr>\n",
       "    <tr>\n",
       "      <th>2</th>\n",
       "      <td>exon</td>\n",
       "      <td>6927565</td>\n",
       "      <td>6927667</td>\n",
       "      <td>+</td>\n",
       "      <td>\"ENSMUST00000130338.2\"</td>\n",
       "      <td>\"ENSMUSG00000033740.18\"</td>\n",
       "      <td>\"protein_coding\"</td>\n",
       "      <td>\"St18\"</td>\n",
       "      <td>1</td>\n",
       "      <td>103</td>\n",
       "    </tr>\n",
       "    <tr>\n",
       "      <th>3</th>\n",
       "      <td>CDS</td>\n",
       "      <td>6927565</td>\n",
       "      <td>6927667</td>\n",
       "      <td>+</td>\n",
       "      <td>\"ENSMUST00000130338.2\"</td>\n",
       "      <td>\"ENSMUSG00000033740.18\"</td>\n",
       "      <td>\"protein_coding\"</td>\n",
       "      <td>\"St18\"</td>\n",
       "      <td>1</td>\n",
       "      <td>103</td>\n",
       "    </tr>\n",
       "    <tr>\n",
       "      <th>4</th>\n",
       "      <td>exon</td>\n",
       "      <td>6929212</td>\n",
       "      <td>6929828</td>\n",
       "      <td>+</td>\n",
       "      <td>\"ENSMUST00000130338.2\"</td>\n",
       "      <td>\"ENSMUSG00000033740.18\"</td>\n",
       "      <td>\"protein_coding\"</td>\n",
       "      <td>\"St18\"</td>\n",
       "      <td>1</td>\n",
       "      <td>617</td>\n",
       "    </tr>\n",
       "  </tbody>\n",
       "</table>\n",
       "</div>"
      ],
      "text/plain": [
       "      feature    start      end strand           transcript_id  \\\n",
       "0        gene  6557455  6931164      +                           \n",
       "1  transcript  6927565  6929828      +  \"ENSMUST00000130338.2\"   \n",
       "2        exon  6927565  6927667      +  \"ENSMUST00000130338.2\"   \n",
       "3         CDS  6927565  6927667      +  \"ENSMUST00000130338.2\"   \n",
       "4        exon  6929212  6929828      +  \"ENSMUST00000130338.2\"   \n",
       "\n",
       "                   gene_id         gene_type gene_name level  length  \n",
       "0  \"ENSMUSG00000033740.18\"  \"protein_coding\"    \"St18\"     1  373710  \n",
       "1  \"ENSMUSG00000033740.18\"  \"protein_coding\"    \"St18\"     1    2264  \n",
       "2  \"ENSMUSG00000033740.18\"  \"protein_coding\"    \"St18\"     1     103  \n",
       "3  \"ENSMUSG00000033740.18\"  \"protein_coding\"    \"St18\"     1     103  \n",
       "4  \"ENSMUSG00000033740.18\"  \"protein_coding\"    \"St18\"     1     617  "
      ]
     },
     "execution_count": 165,
     "metadata": {},
     "output_type": "execute_result"
    }
   ],
   "source": [
    "print(len(GTF_df))\n",
    "GTF_df['start'] = GTF_df['start'].astype('int')\n",
    "GTF_df['end'] = GTF_df['end'].astype('int')\n",
    "GTF_df['length'] = GTF_df['end']-GTF_df['start']+1\n",
    "GTF_df_plus = GTF_df[GTF_df['strand']=='+']\n",
    "GTF_df_plus.head()"
   ]
  },
  {
   "cell_type": "code",
   "execution_count": 166,
   "id": "fb8fc72f-da00-487a-a0b8-eb4d588c31b6",
   "metadata": {},
   "outputs": [
    {
     "data": {
      "text/html": [
       "<div>\n",
       "<style scoped>\n",
       "    .dataframe tbody tr th:only-of-type {\n",
       "        vertical-align: middle;\n",
       "    }\n",
       "\n",
       "    .dataframe tbody tr th {\n",
       "        vertical-align: top;\n",
       "    }\n",
       "\n",
       "    .dataframe thead th {\n",
       "        text-align: right;\n",
       "    }\n",
       "</style>\n",
       "<table border=\"1\" class=\"dataframe\">\n",
       "  <thead>\n",
       "    <tr style=\"text-align: right;\">\n",
       "      <th></th>\n",
       "      <th>feature</th>\n",
       "      <th>start</th>\n",
       "      <th>end</th>\n",
       "      <th>strand</th>\n",
       "      <th>transcript_id</th>\n",
       "      <th>gene_id</th>\n",
       "      <th>gene_type</th>\n",
       "      <th>gene_name</th>\n",
       "      <th>level</th>\n",
       "      <th>length</th>\n",
       "    </tr>\n",
       "  </thead>\n",
       "  <tbody>\n",
       "    <tr>\n",
       "      <th>3</th>\n",
       "      <td>CDS</td>\n",
       "      <td>6927565</td>\n",
       "      <td>6927667</td>\n",
       "      <td>+</td>\n",
       "      <td>\"ENSMUST00000130338.2\"</td>\n",
       "      <td>\"ENSMUSG00000033740.18\"</td>\n",
       "      <td>\"protein_coding\"</td>\n",
       "      <td>\"St18\"</td>\n",
       "      <td>1</td>\n",
       "      <td>103</td>\n",
       "    </tr>\n",
       "    <tr>\n",
       "      <th>5</th>\n",
       "      <td>CDS</td>\n",
       "      <td>6929212</td>\n",
       "      <td>6929391</td>\n",
       "      <td>+</td>\n",
       "      <td>\"ENSMUST00000130338.2\"</td>\n",
       "      <td>\"ENSMUSG00000033740.18\"</td>\n",
       "      <td>\"protein_coding\"</td>\n",
       "      <td>\"St18\"</td>\n",
       "      <td>1</td>\n",
       "      <td>180</td>\n",
       "    </tr>\n",
       "    <tr>\n",
       "      <th>80</th>\n",
       "      <td>CDS</td>\n",
       "      <td>24717838</td>\n",
       "      <td>24717897</td>\n",
       "      <td>+</td>\n",
       "      <td>\"ENSMUST00000186096.7\"</td>\n",
       "      <td>\"ENSMUSG00000073725.9\"</td>\n",
       "      <td>\"protein_coding\"</td>\n",
       "      <td>\"Lmbrd1\"</td>\n",
       "      <td>1</td>\n",
       "      <td>60</td>\n",
       "    </tr>\n",
       "    <tr>\n",
       "      <th>83</th>\n",
       "      <td>CDS</td>\n",
       "      <td>24724478</td>\n",
       "      <td>24724654</td>\n",
       "      <td>+</td>\n",
       "      <td>\"ENSMUST00000186096.7\"</td>\n",
       "      <td>\"ENSMUSG00000073725.9\"</td>\n",
       "      <td>\"protein_coding\"</td>\n",
       "      <td>\"Lmbrd1\"</td>\n",
       "      <td>1</td>\n",
       "      <td>177</td>\n",
       "    </tr>\n",
       "    <tr>\n",
       "      <th>85</th>\n",
       "      <td>CDS</td>\n",
       "      <td>24732022</td>\n",
       "      <td>24732082</td>\n",
       "      <td>+</td>\n",
       "      <td>\"ENSMUST00000186096.7\"</td>\n",
       "      <td>\"ENSMUSG00000073725.9\"</td>\n",
       "      <td>\"protein_coding\"</td>\n",
       "      <td>\"Lmbrd1\"</td>\n",
       "      <td>1</td>\n",
       "      <td>61</td>\n",
       "    </tr>\n",
       "  </tbody>\n",
       "</table>\n",
       "</div>"
      ],
      "text/plain": [
       "   feature     start       end strand           transcript_id  \\\n",
       "3      CDS   6927565   6927667      +  \"ENSMUST00000130338.2\"   \n",
       "5      CDS   6929212   6929391      +  \"ENSMUST00000130338.2\"   \n",
       "80     CDS  24717838  24717897      +  \"ENSMUST00000186096.7\"   \n",
       "83     CDS  24724478  24724654      +  \"ENSMUST00000186096.7\"   \n",
       "85     CDS  24732022  24732082      +  \"ENSMUST00000186096.7\"   \n",
       "\n",
       "                    gene_id         gene_type gene_name level  length  \n",
       "3   \"ENSMUSG00000033740.18\"  \"protein_coding\"    \"St18\"     1     103  \n",
       "5   \"ENSMUSG00000033740.18\"  \"protein_coding\"    \"St18\"     1     180  \n",
       "80   \"ENSMUSG00000073725.9\"  \"protein_coding\"  \"Lmbrd1\"     1      60  \n",
       "83   \"ENSMUSG00000073725.9\"  \"protein_coding\"  \"Lmbrd1\"     1     177  \n",
       "85   \"ENSMUSG00000073725.9\"  \"protein_coding\"  \"Lmbrd1\"     1      61  "
      ]
     },
     "execution_count": 166,
     "metadata": {},
     "output_type": "execute_result"
    }
   ],
   "source": [
    "GTF_df_plus_CDS = GTF_df_plus[GTF_df_plus['feature']=='CDS']\n",
    "GTF_df_plus_CDS.head()"
   ]
  },
  {
   "cell_type": "code",
   "execution_count": 168,
   "id": "768cc573-62e8-4c31-b9ec-dbbe3bba6c6e",
   "metadata": {},
   "outputs": [
    {
     "data": {
      "text/html": [
       "<div>\n",
       "<style scoped>\n",
       "    .dataframe tbody tr th:only-of-type {\n",
       "        vertical-align: middle;\n",
       "    }\n",
       "\n",
       "    .dataframe tbody tr th {\n",
       "        vertical-align: top;\n",
       "    }\n",
       "\n",
       "    .dataframe thead th {\n",
       "        text-align: right;\n",
       "    }\n",
       "</style>\n",
       "<table border=\"1\" class=\"dataframe\">\n",
       "  <thead>\n",
       "    <tr style=\"text-align: right;\">\n",
       "      <th></th>\n",
       "      <th>length</th>\n",
       "    </tr>\n",
       "    <tr>\n",
       "      <th>transcript_id</th>\n",
       "      <th></th>\n",
       "    </tr>\n",
       "  </thead>\n",
       "  <tbody>\n",
       "    <tr>\n",
       "      <th>\"ENSMUST00000183034.5\"</th>\n",
       "      <td>23151</td>\n",
       "    </tr>\n",
       "    <tr>\n",
       "      <th>\"ENSMUST00000143764.9\"</th>\n",
       "      <td>20985</td>\n",
       "    </tr>\n",
       "    <tr>\n",
       "      <th>\"ENSMUST00000113532.9\"</th>\n",
       "      <td>15300</td>\n",
       "    </tr>\n",
       "    <tr>\n",
       "      <th>\"ENSMUST00000042740.13\"</th>\n",
       "      <td>15102</td>\n",
       "    </tr>\n",
       "    <tr>\n",
       "      <th>\"ENSMUST00000042824.13\"</th>\n",
       "      <td>14577</td>\n",
       "    </tr>\n",
       "    <tr>\n",
       "      <th>...</th>\n",
       "      <td>...</td>\n",
       "    </tr>\n",
       "    <tr>\n",
       "      <th>\"ENSMUST00000185130.2\"</th>\n",
       "      <td>46</td>\n",
       "    </tr>\n",
       "    <tr>\n",
       "      <th>\"ENSMUST00000097855.4\"</th>\n",
       "      <td>43</td>\n",
       "    </tr>\n",
       "    <tr>\n",
       "      <th>\"ENSMUST00000127955.2\"</th>\n",
       "      <td>27</td>\n",
       "    </tr>\n",
       "    <tr>\n",
       "      <th>\"ENSMUST00000162691.2\"</th>\n",
       "      <td>13</td>\n",
       "    </tr>\n",
       "    <tr>\n",
       "      <th>\"ENSMUST00000123047.8\"</th>\n",
       "      <td>10</td>\n",
       "    </tr>\n",
       "  </tbody>\n",
       "</table>\n",
       "<p>690 rows × 1 columns</p>\n",
       "</div>"
      ],
      "text/plain": [
       "                         length\n",
       "transcript_id                  \n",
       "\"ENSMUST00000183034.5\"    23151\n",
       "\"ENSMUST00000143764.9\"    20985\n",
       "\"ENSMUST00000113532.9\"    15300\n",
       "\"ENSMUST00000042740.13\"   15102\n",
       "\"ENSMUST00000042824.13\"   14577\n",
       "...                         ...\n",
       "\"ENSMUST00000185130.2\"       46\n",
       "\"ENSMUST00000097855.4\"       43\n",
       "\"ENSMUST00000127955.2\"       27\n",
       "\"ENSMUST00000162691.2\"       13\n",
       "\"ENSMUST00000123047.8\"       10\n",
       "\n",
       "[690 rows x 1 columns]"
      ]
     },
     "execution_count": 168,
     "metadata": {},
     "output_type": "execute_result"
    }
   ],
   "source": [
    "GTF_df_plus_CDS[['transcript_id','length']].groupby(by=['transcript_id']).sum().sort_values(by=['length'], ascending=False)"
   ]
  },
  {
   "cell_type": "code",
   "execution_count": 169,
   "id": "7907c5f1-776b-4e2e-ad63-a46d83a3e522",
   "metadata": {},
   "outputs": [],
   "source": [
    "for gene in GTF_df_plus_CDS['transcript_id']:\n",
    "    if gene in table.index:\n",
    "        print(gene)\n",
    "        "
   ]
  },
  {
   "cell_type": "code",
   "execution_count": 170,
   "id": "0cf38569-990f-4a64-b184-cbc05eee67bd",
   "metadata": {},
   "outputs": [
    {
     "name": "stdout",
     "output_type": "stream",
     "text": [
      "Index(['ENSMUST00000240377.1', 'ENSMUST00000116560.3', 'ENSMUST00000209469.2',\n",
      "       'ENSMUST00000237122.2', 'ENSMUST00000236645.2', 'ENSMUST00000065243.9',\n",
      "       'ENSMUST00000161009.7', 'ENSMUST00000077271.9', 'ENSMUST00000187481.2',\n",
      "       'ENSMUST00000145607.2',\n",
      "       ...\n",
      "       'ENSMUST00000096101.6', 'ENSMUST00000015124.15', 'ENSMUST00000192802.2',\n",
      "       'ENSMUST00000186043.2', 'ENSMUST00000205355.2', 'ENSMUST00000205321.2',\n",
      "       'ENSMUST00000228970.2', 'ENSMUST00000203416.2', 'ENSMUST00000126256.2',\n",
      "       'ENSMUST00000169308.8'],\n",
      "      dtype='object', length=20000)\n"
     ]
    }
   ],
   "source": [
    "print(table.index)"
   ]
  },
  {
   "cell_type": "code",
   "execution_count": null,
   "id": "81fbbed7-eeb8-4676-bccd-66c85b569cb7",
   "metadata": {},
   "outputs": [],
   "source": []
  }
 ],
 "metadata": {
  "kernelspec": {
   "display_name": "Python 3",
   "language": "python",
   "name": "python3"
  },
  "language_info": {
   "codemirror_mode": {
    "name": "ipython",
    "version": 3
   },
   "file_extension": ".py",
   "mimetype": "text/x-python",
   "name": "python",
   "nbconvert_exporter": "python",
   "pygments_lexer": "ipython3",
   "version": "3.9.13"
  }
 },
 "nbformat": 4,
 "nbformat_minor": 5
}
