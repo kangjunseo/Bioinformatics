{
 "cells": [
  {
   "cell_type": "markdown",
   "id": "a4e01a49",
   "metadata": {},
   "source": [
    "# Consensus and Profile\n",
    "## Problem\n",
    "Problem\n",
    "A matrix is a rectangular table of values divided into rows and columns. An m×n matrix has m rows and n columns. Given a matrix A, we write Ai,j to indicate the value found at the intersection of row i and column j.\n",
    "\n",
    "Say that we have a collection of DNA strings, all having the same length n. Their profile matrix is a 4×n matrix P in which P1,j represents the number of times that 'A' occurs in the jth position of one of the strings, P2,j represents the number of times that C occurs in the jth position, and so on (see below).\n",
    "\n",
    "A consensus string c is a string of length n formed from our collection by taking the most common symbol at each position; the jth symbol of c therefore corresponds to the symbol having the maximum value in the j-th column of the profile matrix. Of course, there may be more than one most common symbol, leading to multiple possible consensus strings.  \n",
    "\n",
    "Given: A collection of at most 10 DNA strings of equal length (at most 1 kbp) in FASTA format.\n",
    "\n",
    "Return: A consensus string and profile matrix for the collection. (If several possible consensus strings exist, then you may return any one of them.)\n",
    "\n"
   ]
  },
  {
   "cell_type": "code",
   "execution_count": 24,
   "id": "31a3d556",
   "metadata": {},
   "outputs": [
    {
     "name": "stdout",
     "output_type": "stream",
     "text": [
      ">Rosalind_1 ATCCAGCT >Rosalind_2 GGGCAACT >Rosalind_3 ATGGATCT >Rosalind_4 AAGCAACC >Rosalind_5 TTGGAACT >Rosalind_6 ATGCCATT >Rosalind_7 ATGGCACT\n",
      "ATGCAACT\n",
      "A: 5 1 0 0 5 5 0 0 \n",
      "C: 0 0 1 4 2 0 6 1 \n",
      "G: 1 1 6 3 0 1 0 0 \n",
      "T: 1 5 0 0 0 1 1 6 \n"
     ]
    }
   ],
   "source": [
    "def printList(any_list) :\n",
    "    for i in any_list:\n",
    "        print(i, end=' ')\n",
    "    print()\n",
    "    \n",
    "I = input().split()\n",
    "FASTA_seq=['']*10\n",
    "itr = -1\n",
    "for i, value in enumerate(I):\n",
    "    if '>' in value: itr += 1\n",
    "    else : FASTA_seq[itr]+=value\n",
    "\n",
    "L = len(FASTA_seq[0])\n",
    "A = [0]*L\n",
    "T = [0]*L\n",
    "G = [0]*L\n",
    "C = [0]*L\n",
    "Consensus = ''\n",
    "\n",
    "for i in FASTA_seq:\n",
    "    for j, code in enumerate(i):\n",
    "        if (code=='A') :\n",
    "            A[j] += 1\n",
    "        elif (code=='T') :\n",
    "            T[j] += 1\n",
    "        elif (code=='G') :\n",
    "            G[j] += 1\n",
    "        elif (code=='C') :        \n",
    "            C[j] += 1\n",
    "\n",
    "for i in range(L):\n",
    "    temp = [A[i],T[i],G[i],C[i]]\n",
    "    max_idx = temp.index(max(temp))\n",
    "    if max_idx == 0 : Consensus+='A'\n",
    "    elif max_idx == 1 : Consensus+='T'\n",
    "    elif max_idx == 2 : Consensus+='G'\n",
    "    elif max_idx == 3 : Consensus+='C'\n",
    "\n",
    "print(Consensus)\n",
    "print(\"A:\", end=' ')\n",
    "printList(A)\n",
    "print(\"C:\", end=' ')\n",
    "printList(C)\n",
    "print(\"G:\", end=' ')\n",
    "printList(G)\n",
    "print(\"T:\", end=' ')\n",
    "printList(T)"
   ]
  },
  {
   "cell_type": "code",
   "execution_count": null,
   "id": "e822adcf",
   "metadata": {},
   "outputs": [],
   "source": []
  }
 ],
 "metadata": {
  "kernelspec": {
   "display_name": "Python 3 (ipykernel)",
   "language": "python",
   "name": "python3"
  },
  "language_info": {
   "codemirror_mode": {
    "name": "ipython",
    "version": 3
   },
   "file_extension": ".py",
   "mimetype": "text/x-python",
   "name": "python",
   "nbconvert_exporter": "python",
   "pygments_lexer": "ipython3",
   "version": "3.8.8"
  }
 },
 "nbformat": 4,
 "nbformat_minor": 5
}
