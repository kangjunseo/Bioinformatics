{
 "cells": [
  {
   "cell_type": "code",
   "execution_count": 40,
   "id": "921d42a6-a786-4fbd-bfbb-dbf78804841e",
   "metadata": {},
   "outputs": [],
   "source": [
    "import pandas as pd\n",
    "import numpy as np\n",
    "import matplotlib.pyplot as plt\n",
    "from collections import defaultdict\n",
    "%matplotlib inline"
   ]
  },
  {
   "cell_type": "code",
   "execution_count": 2,
   "id": "6f3b95cf-98b6-405f-8736-4fd46f4024ef",
   "metadata": {},
   "outputs": [
    {
     "name": "stdout",
     "output_type": "stream",
     "text": [
      "/home/qbio1/kangjunseo/tutorials\n"
     ]
    }
   ],
   "source": [
    "!pwd"
   ]
  },
  {
   "cell_type": "code",
   "execution_count": 247,
   "id": "372386c8-63f7-47e8-ba38-ae69d5a5c560",
   "metadata": {},
   "outputs": [],
   "source": [
    "### functions ###\n",
    "\n",
    "## calculate header length, but in this file, header was 0\n",
    "def cal_header_len(code):\n",
    "    header = 0\n",
    "    with open(f\"alignment/{code}/Aligned.out.sam\") as inpfile:\n",
    "        for line in inpfile:\n",
    "            if line.startswith('@'): header+=1\n",
    "            else: continue\n",
    "    return header\n",
    "    \n",
    "\n",
    "## read sam file using chunk\n",
    "## also this does basic parsing\n",
    "def read_sam_by_chunk(code, header=0, chunksize=10**5):\n",
    "    df = pd.DataFrame()\n",
    "    for cnt, chunk in enumerate(pd.read_csv(f\"alignment/{code}/Aligned.out.sam\", header=header, sep='\\t', chunksize=chunksize)):\n",
    "        chunk.iloc[:,3] = chunk.iloc[:,3].astype(int)\n",
    "        chunk = chunk[(chunk.iloc[:,3]>48689480) & (chunk.iloc[:,3]<48689530)]\n",
    "        if not chunk.empty: df = pd.concat([df,chunk])\n",
    "        if cnt%10==0: print(cnt, end = ' ')\n",
    "    return df\n",
    "\n",
    "\n",
    "## parse dataframe more to analyze\n",
    "def parse_df(df):\n",
    "    df.columns = ['read', 'flag', 'chr', 'pos', 'map_qual', 'cigar', 'rnext', 'pnext', 'tlen', 'seq', 'qual',1,2,3,4]\n",
    "    df_map = df[df['chr']=='chr13'][['pos','cigar','seq']]\n",
    "    df_map = df_map[~df_map['cigar'].str.contains('S|I')]\n",
    "    df_map.index = range(225)\n",
    "    return df_map\n",
    "\n",
    "\n",
    "## modify sequence using cigar string, add deletion as 'D'\n",
    "def add_del(df_map):\n",
    "    add_del_seq = []\n",
    "    for row in df_map.itertuples():\n",
    "        if row.cigar.find('D')==-1:\n",
    "            add_del_seq.append(row.seq)\n",
    "        else:\n",
    "            flag = int(row.cigar[:2])\n",
    "            add_del_seq.append(row.seq[:flag] + 'D' + row.seq[flag:])\n",
    "        \n",
    "    add_del_seq_df = pd.Series(add_del_seq)\n",
    "    df_map = pd.concat([df_map, add_del_seq_df], axis=1)\n",
    "    df_map = df_map.drop(labels='seq',axis=1)\n",
    "    df_map.columns = ['pos', 'cigar', 'seq']\n",
    "    return df_map\n",
    "    \n",
    "    \n",
    "## calculate shannon entropy\n",
    "def shannon(seq, base):\n",
    "    p = seq.count(base)/len(seq) \n",
    "    return 0 if (p==0 or p==1) else (-p*np.log2(p) -(1-p)*np.log2(1-p))"
   ]
  },
  {
   "cell_type": "code",
   "execution_count": 250,
   "id": "2b15c183-cc12-41fa-8716-d5925caa556c",
   "metadata": {},
   "outputs": [
    {
     "name": "stdout",
     "output_type": "stream",
     "text": [
      "0 10 20 30 40 50 60 70 80 90 100 110 120 130 140 150 160 170 180 190 200 210 220 230 240 250 260 270 280 290 300 310 320 330 340 350 360 370 380 390 400 410 420 430 440 450 460 470 480 490 500 510 520 530 540 550 560 570 580 590 600 610 620 630 640 650 660 670 680 690 700 710 720 730 740 750 760 770 780 790 800 810 "
     ]
    },
    {
     "data": {
      "text/html": [
       "<div>\n",
       "<style scoped>\n",
       "    .dataframe tbody tr th:only-of-type {\n",
       "        vertical-align: middle;\n",
       "    }\n",
       "\n",
       "    .dataframe tbody tr th {\n",
       "        vertical-align: top;\n",
       "    }\n",
       "\n",
       "    .dataframe thead th {\n",
       "        text-align: right;\n",
       "    }\n",
       "</style>\n",
       "<table border=\"1\" class=\"dataframe\">\n",
       "  <thead>\n",
       "    <tr style=\"text-align: right;\">\n",
       "      <th></th>\n",
       "      <th>pos</th>\n",
       "      <th>cigar</th>\n",
       "      <th>seq</th>\n",
       "    </tr>\n",
       "  </thead>\n",
       "  <tbody>\n",
       "    <tr>\n",
       "      <th>0</th>\n",
       "      <td>48689514</td>\n",
       "      <td>14M1D64M</td>\n",
       "      <td>TCGTATAGTTAACTDCTTGTGGGCAAAATCTCTGCCCTAAAACTAT...</td>\n",
       "    </tr>\n",
       "    <tr>\n",
       "      <th>1</th>\n",
       "      <td>48689491</td>\n",
       "      <td>37M1D23M</td>\n",
       "      <td>AAGGCCCTAAGAAAGGCAGCAGGTCGTATAGTTAACTDCTTGTGGG...</td>\n",
       "    </tr>\n",
       "    <tr>\n",
       "      <th>2</th>\n",
       "      <td>48689489</td>\n",
       "      <td>39M1D23M</td>\n",
       "      <td>ATAAGGCCCTAAGAAAGGCAGCAGGTCGTATAGTTAACTDCTTGTG...</td>\n",
       "    </tr>\n",
       "    <tr>\n",
       "      <th>3</th>\n",
       "      <td>48689502</td>\n",
       "      <td>30M</td>\n",
       "      <td>AAAGGCAGCAGGTCGTATAGTTAACTCCTT</td>\n",
       "    </tr>\n",
       "    <tr>\n",
       "      <th>4</th>\n",
       "      <td>48689502</td>\n",
       "      <td>30M</td>\n",
       "      <td>AAAGGCAGCAGGTCGTATAGTTAACTCGTT</td>\n",
       "    </tr>\n",
       "    <tr>\n",
       "      <th>...</th>\n",
       "      <td>...</td>\n",
       "      <td>...</td>\n",
       "      <td>...</td>\n",
       "    </tr>\n",
       "    <tr>\n",
       "      <th>220</th>\n",
       "      <td>48689514</td>\n",
       "      <td>14M1D64M</td>\n",
       "      <td>TCGTATAGTTAACTDCTTGTGGGCAAAATCTCTGCCCTAAAACTAT...</td>\n",
       "    </tr>\n",
       "    <tr>\n",
       "      <th>221</th>\n",
       "      <td>48689515</td>\n",
       "      <td>78M</td>\n",
       "      <td>CGTATAGTTAACTCCTTGTGGGCAAAATCTCTGCCCTAAAACTATG...</td>\n",
       "    </tr>\n",
       "    <tr>\n",
       "      <th>222</th>\n",
       "      <td>48689490</td>\n",
       "      <td>62M</td>\n",
       "      <td>TAAGGCCCTAAGAAAGGCAGCAGGTCGTATAGTTAACTCTTTGTGG...</td>\n",
       "    </tr>\n",
       "    <tr>\n",
       "      <th>223</th>\n",
       "      <td>48689491</td>\n",
       "      <td>37M1D23M</td>\n",
       "      <td>AAGGCCCTAAGAAAGGCAGCAGGTCGTATAGTTAACTDCTTGTGGG...</td>\n",
       "    </tr>\n",
       "    <tr>\n",
       "      <th>224</th>\n",
       "      <td>48689488</td>\n",
       "      <td>64M</td>\n",
       "      <td>AATAAGGCCCTAAGAAAGGCAGCAGGTCGTATAGTTAACTCTTTGT...</td>\n",
       "    </tr>\n",
       "  </tbody>\n",
       "</table>\n",
       "<p>225 rows × 3 columns</p>\n",
       "</div>"
      ],
      "text/plain": [
       "          pos     cigar                                                seq\n",
       "0    48689514  14M1D64M  TCGTATAGTTAACTDCTTGTGGGCAAAATCTCTGCCCTAAAACTAT...\n",
       "1    48689491  37M1D23M  AAGGCCCTAAGAAAGGCAGCAGGTCGTATAGTTAACTDCTTGTGGG...\n",
       "2    48689489  39M1D23M  ATAAGGCCCTAAGAAAGGCAGCAGGTCGTATAGTTAACTDCTTGTG...\n",
       "3    48689502       30M                     AAAGGCAGCAGGTCGTATAGTTAACTCCTT\n",
       "4    48689502       30M                     AAAGGCAGCAGGTCGTATAGTTAACTCGTT\n",
       "..        ...       ...                                                ...\n",
       "220  48689514  14M1D64M  TCGTATAGTTAACTDCTTGTGGGCAAAATCTCTGCCCTAAAACTAT...\n",
       "221  48689515       78M  CGTATAGTTAACTCCTTGTGGGCAAAATCTCTGCCCTAAAACTATG...\n",
       "222  48689490       62M  TAAGGCCCTAAGAAAGGCAGCAGGTCGTATAGTTAACTCTTTGTGG...\n",
       "223  48689491  37M1D23M  AAGGCCCTAAGAAAGGCAGCAGGTCGTATAGTTAACTDCTTGTGGG...\n",
       "224  48689488       64M  AATAAGGCCCTAAGAAAGGCAGCAGGTCGTATAGTTAACTCTTTGT...\n",
       "\n",
       "[225 rows x 3 columns]"
      ]
     },
     "execution_count": 250,
     "metadata": {},
     "output_type": "execute_result"
    }
   ],
   "source": [
    "df_map = add_del(parse_df(read_sam_by_chunk(\"CLIP_35L33G\")))\n",
    "df_map"
   ]
  },
  {
   "cell_type": "code",
   "execution_count": 237,
   "id": "f61243d6-5222-43d9-a8b1-b3686e2b33ae",
   "metadata": {},
   "outputs": [],
   "source": [
    "pos_map = defaultdict(str)\n",
    "for row in df_map.itertuples():\n",
    "    for idx, base in enumerate(row.seq):\n",
    "        pos_map[idx+row.pos]+=base"
   ]
  },
  {
   "cell_type": "code",
   "execution_count": 275,
   "id": "efa14eb5-44b3-46a6-9b33-3f553624f1bb",
   "metadata": {},
   "outputs": [],
   "source": [
    "ref_seq = \"TAAGGCCCTAAGAAAGGCAGCAGGTCGTATAGTTAACTCCTTGTGGGCAAAATCTCTGCCC\"\n",
    "x_axis = range(48689490,48689551)\n",
    "y_axis = []\n",
    "for idx, pos in enumerate(x_axis):\n",
    "    y_axis.append(shannon(pos_map[pos],ref_seq[idx]))"
   ]
  },
  {
   "cell_type": "code",
   "execution_count": 276,
   "id": "09156b56-5c05-44b7-adc3-59fd09041d86",
   "metadata": {},
   "outputs": [
    {
     "data": {
      "text/plain": [
       "Text(48689529, 1.1224491812352424, '0.9924')"
      ]
     },
     "execution_count": 276,
     "metadata": {},
     "output_type": "execute_result"
    },
    {
     "data": {
      "image/png": "[encoded data removed]",
      "text/plain": [
       "<Figure size 1440x144 with 1 Axes>"
      ]
     },
     "metadata": {
      "needs_background": "light"
     },
     "output_type": "display_data"
    }
   ],
   "source": [
    "dic = { y:x for x, y in zip(x_axis, y_axis) }\n",
    "plt.figure(figsize=(20,2))\n",
    "plt.bar(x_axis,y_axis)\n",
    "plt.ylim(0,1.2)\n",
    "plt.text(dic[max(y_axis)],0.13+max(y_axis),\n",
    "         str(round(max(y_axis),4)),\n",
    "         color='r',\n",
    "         horizontalalignment='center',\n",
    "         verticalalignment='top')"
   ]
  },
  {
   "cell_type": "code",
   "execution_count": null,
   "id": "58e3b465-03b4-47e6-945d-d934559065aa",
   "metadata": {},
   "outputs": [],
   "source": []
  }
 ],
 "metadata": {
  "kernelspec": {
   "display_name": "Python 3",
   "language": "python",
   "name": "python3"
  },
  "language_info": {
   "codemirror_mode": {
    "name": "ipython",
    "version": 3
   },
   "file_extension": ".py",
   "mimetype": "text/x-python",
   "name": "python",
   "nbconvert_exporter": "python",
   "pygments_lexer": "ipython3",
   "version": "3.9.13"
  }
 },
 "nbformat": 4,
 "nbformat_minor": 5
}
