{
 "cells": [
  {
   "cell_type": "code",
   "execution_count": 199,
   "id": "98aeb420-2cec-4efc-8ca8-531229e22fde",
   "metadata": {},
   "outputs": [],
   "source": [
    "import pandas as pd\n",
    "import numpy as np\n",
    "from collections import defaultdict\n",
    "import matplotlib.pyplot as plt\n",
    "from scipy import stats\n",
    "from scipy.stats import mstats\n",
    "%matplotlib inline"
   ]
  },
  {
   "cell_type": "code",
   "execution_count": 109,
   "id": "21641a89-621f-43a5-b9fb-84250df8c13b",
   "metadata": {},
   "outputs": [],
   "source": [
    "code_list = ['CLIP_35L33G','PolyA_siLin28a','PolyA_siLuc','PolyA_untreat','RPF_siLin28a','RPF_siLuc']"
   ]
  },
  {
   "cell_type": "code",
   "execution_count": 155,
   "id": "a3629973-11a1-43c2-8e19-ccddb47a79a5",
   "metadata": {},
   "outputs": [],
   "source": [
    "def sam_to_table(code):\n",
    "    read_table = defaultdict(int)\n",
    "    with open(f\"alignment/{code}/Aligned.out.sam\") as inpfile:\n",
    "        for line in inpfile:\n",
    "            if line.startswith('@'): continue # header 제거\n",
    "        \n",
    "            line_list = line.split()\n",
    "            if line_list[1]==4: continue # 잘못 read된 data 제거\n",
    "        \n",
    "            if line_list[2].startswith('ENSMUST'):\n",
    "                read_table[line_list[2].split('|')[1]]+=1\n",
    "            \n",
    "    table_df = pd.Series(read_table)\n",
    "    return table_df[table_df>= 30] # 30 read 보다 작은 경우는 filter"
   ]
  },
  {
   "cell_type": "code",
   "execution_count": 156,
   "id": "9f8c6b93-f5e4-4fb3-9c8d-69f21c5582f4",
   "metadata": {},
   "outputs": [
    {
     "name": "stdout",
     "output_type": "stream",
     "text": [
      "CLIP_35L33G fin\n",
      "PolyA_siLin28a fin\n",
      "PolyA_siLuc fin\n",
      "PolyA_untreat fin\n",
      "RPF_siLin28a fin\n",
      "RPF_siLuc fin\n"
     ]
    },
    {
     "data": {
      "text/html": [
       "<div>\n",
       "<style scoped>\n",
       "    .dataframe tbody tr th:only-of-type {\n",
       "        vertical-align: middle;\n",
       "    }\n",
       "\n",
       "    .dataframe tbody tr th {\n",
       "        vertical-align: top;\n",
       "    }\n",
       "\n",
       "    .dataframe thead th {\n",
       "        text-align: right;\n",
       "    }\n",
       "</style>\n",
       "<table border=\"1\" class=\"dataframe\">\n",
       "  <thead>\n",
       "    <tr style=\"text-align: right;\">\n",
       "      <th></th>\n",
       "      <th>CLIP_35L33G</th>\n",
       "      <th>PolyA_siLin28a</th>\n",
       "      <th>PolyA_siLuc</th>\n",
       "      <th>PolyA_untreat</th>\n",
       "      <th>RPF_siLin28a</th>\n",
       "      <th>RPF_siLuc</th>\n",
       "    </tr>\n",
       "  </thead>\n",
       "  <tbody>\n",
       "    <tr>\n",
       "      <th>ENSMUSG00000020706.14</th>\n",
       "      <td>14086.0</td>\n",
       "      <td>9134.0</td>\n",
       "      <td>8368.0</td>\n",
       "      <td>9741.0</td>\n",
       "      <td>354.0</td>\n",
       "      <td>5279.0</td>\n",
       "    </tr>\n",
       "    <tr>\n",
       "      <th>ENSMUSG00000035078.7</th>\n",
       "      <td>1185.0</td>\n",
       "      <td>753.0</td>\n",
       "      <td>586.0</td>\n",
       "      <td>879.0</td>\n",
       "      <td>86.0</td>\n",
       "      <td>610.0</td>\n",
       "    </tr>\n",
       "    <tr>\n",
       "      <th>ENSMUSG00000047126.18</th>\n",
       "      <td>20512.0</td>\n",
       "      <td>38687.0</td>\n",
       "      <td>30964.0</td>\n",
       "      <td>31553.0</td>\n",
       "      <td>1804.0</td>\n",
       "      <td>28129.0</td>\n",
       "    </tr>\n",
       "    <tr>\n",
       "      <th>ENSMUSG00000087166.10</th>\n",
       "      <td>17156.0</td>\n",
       "      <td>14536.0</td>\n",
       "      <td>17107.0</td>\n",
       "      <td>15248.0</td>\n",
       "      <td>397.0</td>\n",
       "      <td>8451.0</td>\n",
       "    </tr>\n",
       "    <tr>\n",
       "      <th>ENSMUSG00000052727.7</th>\n",
       "      <td>5178.0</td>\n",
       "      <td>4306.0</td>\n",
       "      <td>3384.0</td>\n",
       "      <td>4707.0</td>\n",
       "      <td>362.0</td>\n",
       "      <td>4915.0</td>\n",
       "    </tr>\n",
       "  </tbody>\n",
       "</table>\n",
       "</div>"
      ],
      "text/plain": [
       "                       CLIP_35L33G  PolyA_siLin28a  PolyA_siLuc  \\\n",
       "ENSMUSG00000020706.14      14086.0          9134.0       8368.0   \n",
       "ENSMUSG00000035078.7        1185.0           753.0        586.0   \n",
       "ENSMUSG00000047126.18      20512.0         38687.0      30964.0   \n",
       "ENSMUSG00000087166.10      17156.0         14536.0      17107.0   \n",
       "ENSMUSG00000052727.7        5178.0          4306.0       3384.0   \n",
       "\n",
       "                       PolyA_untreat  RPF_siLin28a  RPF_siLuc  \n",
       "ENSMUSG00000020706.14         9741.0         354.0     5279.0  \n",
       "ENSMUSG00000035078.7           879.0          86.0      610.0  \n",
       "ENSMUSG00000047126.18        31553.0        1804.0    28129.0  \n",
       "ENSMUSG00000087166.10        15248.0         397.0     8451.0  \n",
       "ENSMUSG00000052727.7          4707.0         362.0     4915.0  "
      ]
     },
     "execution_count": 156,
     "metadata": {},
     "output_type": "execute_result"
    }
   ],
   "source": [
    "total_table = sam_to_table(code_list[0])\n",
    "print(code_list[0], 'fin')\n",
    "for code in code_list[1:]:\n",
    "    total_table = pd.concat([total_table, sam_to_table(code)], axis=1)\n",
    "    print(code, 'fin')\n",
    "\n",
    "total_table.columns = code_list\n",
    "total_table.head()"
   ]
  },
  {
   "cell_type": "code",
   "execution_count": 175,
   "id": "9cf6357f-021e-4e62-bee6-7cd39b9e1c61",
   "metadata": {},
   "outputs": [],
   "source": [
    "total_table.dropna(inplace=True)\n",
    "backup_table = total_table"
   ]
  },
  {
   "cell_type": "code",
   "execution_count": 179,
   "id": "3ab6d678-0ff3-47af-825c-81faf5ce4106",
   "metadata": {},
   "outputs": [],
   "source": [
    "# EXTENDED EXPERIMENTAL PROCEDURES를 참고하여 RPF에 대해 추가 filtering\n",
    "total_table = total_table[total_table['RPF_siLin28a']>=80]\n",
    "total_table = total_table[total_table['RPF_siLuc']>=80]"
   ]
  },
  {
   "cell_type": "code",
   "execution_count": 193,
   "id": "957e2e09-0b5f-4363-afa4-8f03d1a3de97",
   "metadata": {},
   "outputs": [
    {
     "data": {
      "text/plain": [
       "(ENSMUSG00000020706.14    0.368806\n",
       " ENSMUSG00000035078.7     0.298420\n",
       " ENSMUSG00000047126.18   -0.430642\n",
       " ENSMUSG00000087166.10    0.117892\n",
       " ENSMUSG00000052727.7     0.095349\n",
       "                            ...   \n",
       " ENSMUSG00000002871.15   -1.909074\n",
       " ENSMUSG00000069439.4    -1.666596\n",
       " ENSMUSG00000022756.18   -0.184429\n",
       " ENSMUSG00000109663.2    -1.495028\n",
       " ENSMUSG00000068220.7    -1.994700\n",
       " Length: 6177, dtype: float64,\n",
       " ENSMUSG00000020706.14   -2.787142\n",
       " ENSMUSG00000035078.7    -2.199556\n",
       " ENSMUSG00000047126.18   -2.968948\n",
       " ENSMUSG00000087166.10   -2.892857\n",
       " ENSMUSG00000052727.7    -2.846735\n",
       "                            ...   \n",
       " ENSMUSG00000002871.15   -2.648909\n",
       " ENSMUSG00000069439.4    -2.189264\n",
       " ENSMUSG00000022756.18   -2.776541\n",
       " ENSMUSG00000109663.2    -1.825648\n",
       " ENSMUSG00000068220.7    -1.963590\n",
       " Length: 6177, dtype: float64)"
      ]
     },
     "execution_count": 193,
     "metadata": {},
     "output_type": "execute_result"
    }
   ],
   "source": [
    "x_axis = np.log1p(total_table['CLIP_35L33G']) - np.log1p(total_table['PolyA_untreat'])\n",
    "y_axis = np.log1p(total_table['RPF_siLin28a']) + np.log1p(total_table['PolyA_siLuc']) - np.log1p(total_table['RPF_siLuc']) -np.log1p(total_table['PolyA_siLin28a']) \n",
    "x_axis, y_axis"
   ]
  },
  {
   "cell_type": "code",
   "execution_count": 224,
   "id": "baa8ba60-b317-4314-a3e7-c6fb8785169b",
   "metadata": {},
   "outputs": [
    {
     "data": {
      "text/plain": [
       "(-4.0, 0.0)"
      ]
     },
     "execution_count": 224,
     "metadata": {},
     "output_type": "execute_result"
    },
    {
     "data": {
      "image/png": "[encoded data removed]",
      "text/plain": [
       "<Figure size 432x288 with 1 Axes>"
      ]
     },
     "metadata": {
      "needs_background": "light"
     },
     "output_type": "display_data"
    }
   ],
   "source": [
    "plt.scatter(x_axis,y_axis, s = 1, alpha = .2, color = 'black')\n",
    "plt.title('Figure 4D')\n",
    "plt.grid()\n",
    "plt.xlabel('LIN28A CLIP enrichment(log\\u2082)')\n",
    "plt.ylabel('Ribosome density change\\n upon Lin28a knockdown (log\\u2082)')\n",
    "plt.xlim([-6,4])\n",
    "plt.ylim([-4,0])"
   ]
  },
  {
   "cell_type": "code",
   "execution_count": 200,
   "id": "6135f32b-69ce-46ea-a05a-b6c139d55a37",
   "metadata": {},
   "outputs": [
    {
     "data": {
      "text/plain": [
       "(0.46145955180961873, 2e-323)"
      ]
     },
     "execution_count": 200,
     "metadata": {},
     "output_type": "execute_result"
    }
   ],
   "source": [
    "mstats.pearsonr(x_axis, y_axis)"
   ]
  },
  {
   "cell_type": "code",
   "execution_count": null,
   "id": "779270fd-6c0b-403d-bdcf-554693838acf",
   "metadata": {},
   "outputs": [],
   "source": []
  }
 ],
 "metadata": {
  "kernelspec": {
   "display_name": "Python 3",
   "language": "python",
   "name": "python3"
  },
  "language_info": {
   "codemirror_mode": {
    "name": "ipython",
    "version": 3
   },
   "file_extension": ".py",
   "mimetype": "text/x-python",
   "name": "python",
   "nbconvert_exporter": "python",
   "pygments_lexer": "ipython3",
   "version": "3.9.13"
  }
 },
 "nbformat": 4,
 "nbformat_minor": 5
}
