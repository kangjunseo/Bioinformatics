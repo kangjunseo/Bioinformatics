{
 "cells": [
  {
   "cell_type": "markdown",
   "id": "819ee973",
   "metadata": {},
   "source": [
    "# Counting DNA Nucleotides"
   ]
  },
  {
   "cell_type": "markdown",
   "id": "785a519e",
   "metadata": {},
   "source": [
    "## Problem\n",
    "A string is simply an ordered collection of symbols selected from some alphabet and formed into a word; the length of a string is the number of symbols that it contains.\n",
    "\n",
    "An example of a length 21 DNA string (whose alphabet contains the symbols 'A', 'C', 'G', and 'T') is \"ATGCTTCAGAAAGGTCTTACG.\"\n",
    "\n",
    "**Given**: A DNA string s of length at most 1000 nt.\n",
    "\n",
    "**Return**: Four integers (separated by spaces) counting the respective number of times that the symbols 'A', 'C', 'G', and 'T' occur in s."
   ]
  },
  {
   "cell_type": "code",
   "execution_count": 29,
   "id": "7a18a1bc",
   "metadata": {},
   "outputs": [
    {
     "name": "stdout",
     "output_type": "stream",
     "text": [
      "CACGCGTTTCTGCGCACTATTAACCATTTAGTATGACCATCGGGAAAACGTGTTTCCTAGGGAGTCATTCGCAAATGGGATGATGACGAGGCTGAGCCTTCAGAAAAATAGAGCTGAGGTTGGTGTGGATCTGGGAGCGGTGCCTACTAGCCGTTTGCTCAGTCAGCATCTGCAAGACGGGTAAGATCCTATGTCATGACAATAACTTTCGCAAGGCGTTATTCTAAGTGACATCTACTAAACACTATGTGAGGTACTGGTATGTGGACACTAATTGTCGCAACCGTAACATTTGATCTATGGATTCTTGAGGAGGTTAAGTAGCGACATACTTGGAAAGCGTGCGGAAGTACACCCCACAGTCGGTGGCGGGATCCTCCATAGCGTCCAATGGAGATGGTTTGACTGAAGTACAATAATATACGTCAGGATGGAGGCACATCCGGCTTTTATATAATCTGCGTTGGGCCATGCTCAACGCATCTCGAGAACCATCAACTAACATGGGGGCGAAGTCGGAAACAGAATTTAGTTGGTTTCAAGAAAGCTTTCCGTTATAAGAGCGTCACGCGACGCTCCTCAAATAACTTTCGCCCCAATATATCCAACCAGCCTGATTGACTAGTCCCAGACCGAAGAAATGGAGCTAGCCCAGGTTGTGTTGGGCATCCGAGAACATGGTGTGCGACATCAGTGCTCGTCAGTTGGTAGAGCGTCAACGCCCCGGCGAGGGTAGATGCGGCGTTCTCCGTGCACGACGTGGGTGTTGGCTGATTCGACTTTCCTAGCTTCACCACCTTCCCTCTCACTCAAAAGCCGCACTCAGCCCAAGACATGATGTACAAGTACGCGTGTGAGCTCAAGACCCTCAACACCAATCAGGTTGGCCG\n",
      "232 212 230 216\n"
     ]
    }
   ],
   "source": [
    "I = input()\n",
    "\n",
    "print(I.count('A'),I.count('C'),I.count('G'),I.count('T'))"
   ]
  },
  {
   "cell_type": "code",
   "execution_count": null,
   "id": "c0be71d9",
   "metadata": {},
   "outputs": [],
   "source": []
  },
  {
   "cell_type": "code",
   "execution_count": null,
   "id": "d09d6f8b",
   "metadata": {},
   "outputs": [],
   "source": []
  }
 ],
 "metadata": {
  "kernelspec": {
   "display_name": "Python 3 (ipykernel)",
   "language": "python",
   "name": "python3"
  },
  "language_info": {
   "codemirror_mode": {
    "name": "ipython",
    "version": 3
   },
   "file_extension": ".py",
   "mimetype": "text/x-python",
   "name": "python",
   "nbconvert_exporter": "python",
   "pygments_lexer": "ipython3",
   "version": "3.8.8"
  }
 },
 "nbformat": 4,
 "nbformat_minor": 5
}
