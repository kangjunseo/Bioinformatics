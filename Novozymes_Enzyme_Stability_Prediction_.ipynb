{
  "nbformat": 4,
  "nbformat_minor": 0,
  "metadata": {
    "colab": {
      "provenance": [],
      "include_colab_link": true
    },
    "kernelspec": {
      "name": "python3",
      "display_name": "Python 3"
    },
    "language_info": {
      "name": "python"
    },
    "accelerator": "GPU",
    "gpuClass": "standard"
  },
  "cells": [
    {
      "cell_type": "markdown",
      "metadata": {
        "id": "view-in-github",
        "colab_type": "text"
      },
      "source": [
        "<a href=\"https://colab.research.google.com/github/kangjunseo/Bioinformatics/blob/main/Novozymes_Enzyme_Stability_Prediction_.ipynb\" target=\"_parent\"><img src=\"https://colab.research.google.com/assets/colab-badge.svg\" alt=\"Open In Colab\"/></a>"
      ]
    },
    {
      "cell_type": "code",
      "source": [
        "import os\n",
        "import torch\n",
        "os.environ['TORCH'] = torch.__version__\n",
        "print(torch.__version__)\n",
        "\n",
        "!pip install -q torch-scatter -f https://data.pyg.org/whl/torch-${TORCH}.html\n",
        "!pip install -q torch-sparse -f https://data.pyg.org/whl/torch-${TORCH}.html\n",
        "!pip install -q git+https://github.com/pyg-team/pytorch_geometric.git\n",
        "!pip install pytorch-lightning"
      ],
      "metadata": {
        "colab": {
          "base_uri": "https://localhost:8080/"
        },
        "id": "FCZGtcS3nmxH",
        "outputId": "eea42984-7977-418c-effa-a4fdeca6f4ec"
      },
      "execution_count": null,
      "outputs": [
        {
          "output_type": "stream",
          "name": "stdout",
          "text": [
            "1.13.0+cu116\n",
            "\u001b[K     |████████████████████████████████| 9.4 MB 26.6 MB/s \n",
            "\u001b[K     |████████████████████████████████| 4.5 MB 30.3 MB/s \n",
            "\u001b[K     |████████████████████████████████| 512 kB 11.7 MB/s \n",
            "\u001b[K     |████████████████████████████████| 280 kB 69.9 MB/s \n",
            "\u001b[?25h  Building wheel for torch-geometric (setup.py) ... \u001b[?25l\u001b[?25hdone\n",
            "Looking in indexes: https://pypi.org/simple, https://us-python.pkg.dev/colab-wheels/public/simple/\n",
            "Collecting pytorch-lightning\n",
            "  Downloading pytorch_lightning-1.8.6-py3-none-any.whl (800 kB)\n",
            "\u001b[K     |████████████████████████████████| 800 kB 33.6 MB/s \n",
            "\u001b[?25hCollecting lightning-utilities!=0.4.0,>=0.3.0\n",
            "  Downloading lightning_utilities-0.5.0-py3-none-any.whl (18 kB)\n",
            "Requirement already satisfied: tqdm>=4.57.0 in /usr/local/lib/python3.8/dist-packages (from pytorch-lightning) (4.64.1)\n",
            "Requirement already satisfied: numpy>=1.17.2 in /usr/local/lib/python3.8/dist-packages (from pytorch-lightning) (1.21.6)\n",
            "Collecting tensorboardX>=2.2\n",
            "  Downloading tensorboardX-2.5.1-py2.py3-none-any.whl (125 kB)\n",
            "\u001b[K     |████████████████████████████████| 125 kB 55.4 MB/s \n",
            "\u001b[?25hRequirement already satisfied: fsspec[http]>2021.06.0 in /usr/local/lib/python3.8/dist-packages (from pytorch-lightning) (2022.11.0)\n",
            "Requirement already satisfied: packaging>=17.0 in /usr/local/lib/python3.8/dist-packages (from pytorch-lightning) (21.3)\n",
            "Requirement already satisfied: typing-extensions>=4.0.0 in /usr/local/lib/python3.8/dist-packages (from pytorch-lightning) (4.4.0)\n",
            "Requirement already satisfied: torchmetrics>=0.7.0 in /usr/local/lib/python3.8/dist-packages (from pytorch-lightning) (0.11.0)\n",
            "Requirement already satisfied: PyYAML>=5.4 in /usr/local/lib/python3.8/dist-packages (from pytorch-lightning) (6.0)\n",
            "Requirement already satisfied: torch>=1.9.0 in /usr/local/lib/python3.8/dist-packages (from pytorch-lightning) (1.13.0+cu116)\n",
            "Requirement already satisfied: requests in /usr/local/lib/python3.8/dist-packages (from fsspec[http]>2021.06.0->pytorch-lightning) (2.23.0)\n",
            "Requirement already satisfied: aiohttp!=4.0.0a0,!=4.0.0a1 in /usr/local/lib/python3.8/dist-packages (from fsspec[http]>2021.06.0->pytorch-lightning) (3.8.3)\n",
            "Requirement already satisfied: frozenlist>=1.1.1 in /usr/local/lib/python3.8/dist-packages (from aiohttp!=4.0.0a0,!=4.0.0a1->fsspec[http]>2021.06.0->pytorch-lightning) (1.3.3)\n",
            "Requirement already satisfied: yarl<2.0,>=1.0 in /usr/local/lib/python3.8/dist-packages (from aiohttp!=4.0.0a0,!=4.0.0a1->fsspec[http]>2021.06.0->pytorch-lightning) (1.8.2)\n",
            "Requirement already satisfied: charset-normalizer<3.0,>=2.0 in /usr/local/lib/python3.8/dist-packages (from aiohttp!=4.0.0a0,!=4.0.0a1->fsspec[http]>2021.06.0->pytorch-lightning) (2.1.1)\n",
            "Requirement already satisfied: async-timeout<5.0,>=4.0.0a3 in /usr/local/lib/python3.8/dist-packages (from aiohttp!=4.0.0a0,!=4.0.0a1->fsspec[http]>2021.06.0->pytorch-lightning) (4.0.2)\n",
            "Requirement already satisfied: attrs>=17.3.0 in /usr/local/lib/python3.8/dist-packages (from aiohttp!=4.0.0a0,!=4.0.0a1->fsspec[http]>2021.06.0->pytorch-lightning) (22.1.0)\n",
            "Requirement already satisfied: aiosignal>=1.1.2 in /usr/local/lib/python3.8/dist-packages (from aiohttp!=4.0.0a0,!=4.0.0a1->fsspec[http]>2021.06.0->pytorch-lightning) (1.3.1)\n",
            "Requirement already satisfied: multidict<7.0,>=4.5 in /usr/local/lib/python3.8/dist-packages (from aiohttp!=4.0.0a0,!=4.0.0a1->fsspec[http]>2021.06.0->pytorch-lightning) (6.0.3)\n",
            "Requirement already satisfied: pyparsing!=3.0.5,>=2.0.2 in /usr/local/lib/python3.8/dist-packages (from packaging>=17.0->pytorch-lightning) (3.0.9)\n",
            "Requirement already satisfied: protobuf<=3.20.1,>=3.8.0 in /usr/local/lib/python3.8/dist-packages (from tensorboardX>=2.2->pytorch-lightning) (3.19.6)\n",
            "Requirement already satisfied: idna>=2.0 in /usr/local/lib/python3.8/dist-packages (from yarl<2.0,>=1.0->aiohttp!=4.0.0a0,!=4.0.0a1->fsspec[http]>2021.06.0->pytorch-lightning) (2.10)\n",
            "Requirement already satisfied: chardet<4,>=3.0.2 in /usr/local/lib/python3.8/dist-packages (from requests->fsspec[http]>2021.06.0->pytorch-lightning) (3.0.4)\n",
            "Requirement already satisfied: certifi>=2017.4.17 in /usr/local/lib/python3.8/dist-packages (from requests->fsspec[http]>2021.06.0->pytorch-lightning) (2022.12.7)\n",
            "Requirement already satisfied: urllib3!=1.25.0,!=1.25.1,<1.26,>=1.21.1 in /usr/local/lib/python3.8/dist-packages (from requests->fsspec[http]>2021.06.0->pytorch-lightning) (1.24.3)\n",
            "Installing collected packages: tensorboardX, lightning-utilities, pytorch-lightning\n",
            "Successfully installed lightning-utilities-0.5.0 pytorch-lightning-1.8.6 tensorboardX-2.5.1\n"
          ]
        }
      ]
    },
    {
      "cell_type": "code",
      "source": [
        "import torch_geometric\n",
        "use_cuda_if_available = True"
      ],
      "metadata": {
        "id": "yzVT9kGUsIpI"
      },
      "execution_count": null,
      "outputs": []
    },
    {
      "cell_type": "markdown",
      "source": [
        "# Data preprocessing"
      ],
      "metadata": {
        "id": "WMKdozEqzi3Z"
      }
    },
    {
      "cell_type": "code",
      "source": [
        "from google.colab import drive\n",
        "drive.mount('/content/gdrive')"
      ],
      "metadata": {
        "colab": {
          "base_uri": "https://localhost:8080/"
        },
        "id": "9V4OC05k32Sc",
        "outputId": "475ed6fa-0419-4628-9870-2316765d2fd5"
      },
      "execution_count": null,
      "outputs": [
        {
          "output_type": "stream",
          "name": "stdout",
          "text": [
            "Drive already mounted at /content/gdrive; to attempt to forcibly remount, call drive.mount(\"/content/gdrive\", force_remount=True).\n"
          ]
        }
      ]
    },
    {
      "cell_type": "code",
      "source": [
        "import pandas as pd, numpy as np, nltk\n",
        "WT = \"VPVNPEPDATSVENVALKTGSGDSQSDPIKADLEVKGQSALPFDVDCWAILCKGAPNVLQRVNEKTKNSNRDRSGANKGPFKDPQKWGIKALPPKNPSWSAQDFKSPEEYAFASSLQGGTNAILAPVNLASQNSQGGVLNGFYSANKVAQFDPSKPQQTKGTWFQITKFTGAAGPYCKALGSNDKSVCDKNKNIAGDWGFDPAKWAYQYDEKNNKFNYVGK\"\n",
        "test_df = pd.read_csv(\"gdrive/MyDrive/input/novozymes-enzyme-stability-prediction/test.csv\")\n",
        "test_df_extra = pd.read_csv(\"gdrive/MyDrive/input/novozymes-enzyme-stability-prediction/new_test.csv\")\n",
        "test_df_extra.head()"
      ],
      "metadata": {
        "id": "H394Q7NvziL6",
        "colab": {
          "base_uri": "https://localhost:8080/",
          "height": 444
        },
        "outputId": "02285520-2ca9-4d3b-d0e7-c16a55e42f98"
      },
      "execution_count": null,
      "outputs": [
        {
          "output_type": "execute_result",
          "data": {
            "text/plain": [
              "   seq_id                                    mutant_sequence  pH data_source  \\\n",
              "0   31390  VPVNPEPDATSVENVAEKTGSGDSQSDPIKADLEVKGQSALPFDVD...   8   Novozymes   \n",
              "1   31391  VPVNPEPDATSVENVAKKTGSGDSQSDPIKADLEVKGQSALPFDVD...   8   Novozymes   \n",
              "2   31392  VPVNPEPDATSVENVAKTGSGDSQSDPIKADLEVKGQSALPFDVDC...   8   Novozymes   \n",
              "3   31393  VPVNPEPDATSVENVALCTGSGDSQSDPIKADLEVKGQSALPFDVD...   8   Novozymes   \n",
              "4   31394  VPVNPEPDATSVENVALFTGSGDSQSDPIKADLEVKGQSALPFDVD...   8   Novozymes   \n",
              "\n",
              "   data_source_enum  n_edits     edit_type  edit_idx wildtype_aa mutant_aa  \\\n",
              "0                -1        1  substitution        16           L         E   \n",
              "1                -1        1  substitution        16           L         K   \n",
              "2                -1        1      deletion        16           L       NaN   \n",
              "3                -1        1  substitution        17           K         C   \n",
              "4                -1        1  substitution        17           K         F   \n",
              "\n",
              "                                   wildtype_sequence  \\\n",
              "0  VPVNPEPDATSVENVALKTGSGDSQSDPIKADLEVKGQSALPFDVD...   \n",
              "1  VPVNPEPDATSVENVALKTGSGDSQSDPIKADLEVKGQSALPFDVD...   \n",
              "2  VPVNPEPDATSVENVALKTGSGDSQSDPIKADLEVKGQSALPFDVD...   \n",
              "3  VPVNPEPDATSVENVALKTGSGDSQSDPIKADLEVKGQSALPFDVD...   \n",
              "4  VPVNPEPDATSVENVALKTGSGDSQSDPIKADLEVKGQSALPFDVD...   \n",
              "\n",
              "                                    wildtype_pt_path  \\\n",
              "0  /kaggle/input/esm2-firetraintest-embeddings-pe...   \n",
              "1  /kaggle/input/esm2-firetraintest-embeddings-pe...   \n",
              "2  /kaggle/input/esm2-firetraintest-embeddings-pe...   \n",
              "3  /kaggle/input/esm2-firetraintest-embeddings-pe...   \n",
              "4  /kaggle/input/esm2-firetraintest-embeddings-pe...   \n",
              "\n",
              "                                      mutant_pt_path  \n",
              "0  /kaggle/input/esm2-firetraintest-embeddings-pe...  \n",
              "1  /kaggle/input/esm2-firetraintest-embeddings-pe...  \n",
              "2  /kaggle/input/esm2-firetraintest-embeddings-pe...  \n",
              "3  /kaggle/input/esm2-firetraintest-embeddings-pe...  \n",
              "4  /kaggle/input/esm2-firetraintest-embeddings-pe...  "
            ],
            "text/html": [
              "\n",
              "  <div id=\"df-09310988-3d0d-421e-a539-bfdac34b1139\">\n",
              "    <div class=\"colab-df-container\">\n",
              "      <div>\n",
              "<style scoped>\n",
              "    .dataframe tbody tr th:only-of-type {\n",
              "        vertical-align: middle;\n",
              "    }\n",
              "\n",
              "    .dataframe tbody tr th {\n",
              "        vertical-align: top;\n",
              "    }\n",
              "\n",
              "    .dataframe thead th {\n",
              "        text-align: right;\n",
              "    }\n",
              "</style>\n",
              "<table border=\"1\" class=\"dataframe\">\n",
              "  <thead>\n",
              "    <tr style=\"text-align: right;\">\n",
              "      <th></th>\n",
              "      <th>seq_id</th>\n",
              "      <th>mutant_sequence</th>\n",
              "      <th>pH</th>\n",
              "      <th>data_source</th>\n",
              "      <th>data_source_enum</th>\n",
              "      <th>n_edits</th>\n",
              "      <th>edit_type</th>\n",
              "      <th>edit_idx</th>\n",
              "      <th>wildtype_aa</th>\n",
              "      <th>mutant_aa</th>\n",
              "      <th>wildtype_sequence</th>\n",
              "      <th>wildtype_pt_path</th>\n",
              "      <th>mutant_pt_path</th>\n",
              "    </tr>\n",
              "  </thead>\n",
              "  <tbody>\n",
              "    <tr>\n",
              "      <th>0</th>\n",
              "      <td>31390</td>\n",
              "      <td>VPVNPEPDATSVENVAEKTGSGDSQSDPIKADLEVKGQSALPFDVD...</td>\n",
              "      <td>8</td>\n",
              "      <td>Novozymes</td>\n",
              "      <td>-1</td>\n",
              "      <td>1</td>\n",
              "      <td>substitution</td>\n",
              "      <td>16</td>\n",
              "      <td>L</td>\n",
              "      <td>E</td>\n",
              "      <td>VPVNPEPDATSVENVALKTGSGDSQSDPIKADLEVKGQSALPFDVD...</td>\n",
              "      <td>/kaggle/input/esm2-firetraintest-embeddings-pe...</td>\n",
              "      <td>/kaggle/input/esm2-firetraintest-embeddings-pe...</td>\n",
              "    </tr>\n",
              "    <tr>\n",
              "      <th>1</th>\n",
              "      <td>31391</td>\n",
              "      <td>VPVNPEPDATSVENVAKKTGSGDSQSDPIKADLEVKGQSALPFDVD...</td>\n",
              "      <td>8</td>\n",
              "      <td>Novozymes</td>\n",
              "      <td>-1</td>\n",
              "      <td>1</td>\n",
              "      <td>substitution</td>\n",
              "      <td>16</td>\n",
              "      <td>L</td>\n",
              "      <td>K</td>\n",
              "      <td>VPVNPEPDATSVENVALKTGSGDSQSDPIKADLEVKGQSALPFDVD...</td>\n",
              "      <td>/kaggle/input/esm2-firetraintest-embeddings-pe...</td>\n",
              "      <td>/kaggle/input/esm2-firetraintest-embeddings-pe...</td>\n",
              "    </tr>\n",
              "    <tr>\n",
              "      <th>2</th>\n",
              "      <td>31392</td>\n",
              "      <td>VPVNPEPDATSVENVAKTGSGDSQSDPIKADLEVKGQSALPFDVDC...</td>\n",
              "      <td>8</td>\n",
              "      <td>Novozymes</td>\n",
              "      <td>-1</td>\n",
              "      <td>1</td>\n",
              "      <td>deletion</td>\n",
              "      <td>16</td>\n",
              "      <td>L</td>\n",
              "      <td>NaN</td>\n",
              "      <td>VPVNPEPDATSVENVALKTGSGDSQSDPIKADLEVKGQSALPFDVD...</td>\n",
              "      <td>/kaggle/input/esm2-firetraintest-embeddings-pe...</td>\n",
              "      <td>/kaggle/input/esm2-firetraintest-embeddings-pe...</td>\n",
              "    </tr>\n",
              "    <tr>\n",
              "      <th>3</th>\n",
              "      <td>31393</td>\n",
              "      <td>VPVNPEPDATSVENVALCTGSGDSQSDPIKADLEVKGQSALPFDVD...</td>\n",
              "      <td>8</td>\n",
              "      <td>Novozymes</td>\n",
              "      <td>-1</td>\n",
              "      <td>1</td>\n",
              "      <td>substitution</td>\n",
              "      <td>17</td>\n",
              "      <td>K</td>\n",
              "      <td>C</td>\n",
              "      <td>VPVNPEPDATSVENVALKTGSGDSQSDPIKADLEVKGQSALPFDVD...</td>\n",
              "      <td>/kaggle/input/esm2-firetraintest-embeddings-pe...</td>\n",
              "      <td>/kaggle/input/esm2-firetraintest-embeddings-pe...</td>\n",
              "    </tr>\n",
              "    <tr>\n",
              "      <th>4</th>\n",
              "      <td>31394</td>\n",
              "      <td>VPVNPEPDATSVENVALFTGSGDSQSDPIKADLEVKGQSALPFDVD...</td>\n",
              "      <td>8</td>\n",
              "      <td>Novozymes</td>\n",
              "      <td>-1</td>\n",
              "      <td>1</td>\n",
              "      <td>substitution</td>\n",
              "      <td>17</td>\n",
              "      <td>K</td>\n",
              "      <td>F</td>\n",
              "      <td>VPVNPEPDATSVENVALKTGSGDSQSDPIKADLEVKGQSALPFDVD...</td>\n",
              "      <td>/kaggle/input/esm2-firetraintest-embeddings-pe...</td>\n",
              "      <td>/kaggle/input/esm2-firetraintest-embeddings-pe...</td>\n",
              "    </tr>\n",
              "  </tbody>\n",
              "</table>\n",
              "</div>\n",
              "      <button class=\"colab-df-convert\" onclick=\"convertToInteractive('df-09310988-3d0d-421e-a539-bfdac34b1139')\"\n",
              "              title=\"Convert this dataframe to an interactive table.\"\n",
              "              style=\"display:none;\">\n",
              "        \n",
              "  <svg xmlns=\"http://www.w3.org/2000/svg\" height=\"24px\"viewBox=\"0 0 24 24\"\n",
              "       width=\"24px\">\n",
              "    <path d=\"M0 0h24v24H0V0z\" fill=\"none\"/>\n",
              "    <path d=\"M18.56 5.44l.94 2.06.94-2.06 2.06-.94-2.06-.94-.94-2.06-.94 2.06-2.06.94zm-11 1L8.5 8.5l.94-2.06 2.06-.94-2.06-.94L8.5 2.5l-.94 2.06-2.06.94zm10 10l.94 2.06.94-2.06 2.06-.94-2.06-.94-.94-2.06-.94 2.06-2.06.94z\"/><path d=\"M17.41 7.96l-1.37-1.37c-.4-.4-.92-.59-1.43-.59-.52 0-1.04.2-1.43.59L10.3 9.45l-7.72 7.72c-.78.78-.78 2.05 0 2.83L4 21.41c.39.39.9.59 1.41.59.51 0 1.02-.2 1.41-.59l7.78-7.78 2.81-2.81c.8-.78.8-2.07 0-2.86zM5.41 20L4 18.59l7.72-7.72 1.47 1.35L5.41 20z\"/>\n",
              "  </svg>\n",
              "      </button>\n",
              "      \n",
              "  <style>\n",
              "    .colab-df-container {\n",
              "      display:flex;\n",
              "      flex-wrap:wrap;\n",
              "      gap: 12px;\n",
              "    }\n",
              "\n",
              "    .colab-df-convert {\n",
              "      background-color: #E8F0FE;\n",
              "      border: none;\n",
              "      border-radius: 50%;\n",
              "      cursor: pointer;\n",
              "      display: none;\n",
              "      fill: #1967D2;\n",
              "      height: 32px;\n",
              "      padding: 0 0 0 0;\n",
              "      width: 32px;\n",
              "    }\n",
              "\n",
              "    .colab-df-convert:hover {\n",
              "      background-color: #E2EBFA;\n",
              "      box-shadow: 0px 1px 2px rgba(60, 64, 67, 0.3), 0px 1px 3px 1px rgba(60, 64, 67, 0.15);\n",
              "      fill: #174EA6;\n",
              "    }\n",
              "\n",
              "    [theme=dark] .colab-df-convert {\n",
              "      background-color: #3B4455;\n",
              "      fill: #D2E3FC;\n",
              "    }\n",
              "\n",
              "    [theme=dark] .colab-df-convert:hover {\n",
              "      background-color: #434B5C;\n",
              "      box-shadow: 0px 1px 3px 1px rgba(0, 0, 0, 0.15);\n",
              "      filter: drop-shadow(0px 1px 2px rgba(0, 0, 0, 0.3));\n",
              "      fill: #FFFFFF;\n",
              "    }\n",
              "  </style>\n",
              "\n",
              "      <script>\n",
              "        const buttonEl =\n",
              "          document.querySelector('#df-09310988-3d0d-421e-a539-bfdac34b1139 button.colab-df-convert');\n",
              "        buttonEl.style.display =\n",
              "          google.colab.kernel.accessAllowed ? 'block' : 'none';\n",
              "\n",
              "        async function convertToInteractive(key) {\n",
              "          const element = document.querySelector('#df-09310988-3d0d-421e-a539-bfdac34b1139');\n",
              "          const dataTable =\n",
              "            await google.colab.kernel.invokeFunction('convertToInteractive',\n",
              "                                                     [key], {});\n",
              "          if (!dataTable) return;\n",
              "\n",
              "          const docLinkHtml = 'Like what you see? Visit the ' +\n",
              "            '<a target=\"_blank\" href=https://colab.research.google.com/notebooks/data_table.ipynb>data table notebook</a>'\n",
              "            + ' to learn more about interactive tables.';\n",
              "          element.innerHTML = '';\n",
              "          dataTable['output_type'] = 'display_data';\n",
              "          await google.colab.output.renderOutput(dataTable, element);\n",
              "          const docLink = document.createElement('div');\n",
              "          docLink.innerHTML = docLinkHtml;\n",
              "          element.appendChild(docLink);\n",
              "        }\n",
              "      </script>\n",
              "    </div>\n",
              "  </div>\n",
              "  "
            ]
          },
          "metadata": {},
          "execution_count": 40
        }
      ]
    },
    {
      "cell_type": "code",
      "source": [
        "!pip install biopython"
      ],
      "metadata": {
        "colab": {
          "base_uri": "https://localhost:8080/"
        },
        "id": "4GQx6YAo4LSK",
        "outputId": "306dbb3c-2852-429d-e4ab-01532d2074de"
      },
      "execution_count": null,
      "outputs": [
        {
          "output_type": "stream",
          "name": "stdout",
          "text": [
            "Looking in indexes: https://pypi.org/simple, https://us-python.pkg.dev/colab-wheels/public/simple/\n",
            "Collecting biopython\n",
            "  Downloading biopython-1.80-cp38-cp38-manylinux_2_17_x86_64.manylinux2014_x86_64.whl (3.1 MB)\n",
            "\u001b[K     |████████████████████████████████| 3.1 MB 35.2 MB/s \n",
            "\u001b[?25hRequirement already satisfied: numpy in /usr/local/lib/python3.8/dist-packages (from biopython) (1.21.6)\n",
            "Installing collected packages: biopython\n",
            "Successfully installed biopython-1.80\n"
          ]
        }
      ]
    },
    {
      "cell_type": "code",
      "source": [
        "from Bio import PDB\n",
        "\n",
        "def get_normalized_vector_from_atoms(atoms):  \n",
        "    list_atoms = list(atoms)\n",
        "    _sum = sum([i.get_vector().normalized() for i in list_atoms], start = PDB.vectors.Vector(0,0,0))\n",
        "    return _sum / len(list_atoms)\n",
        "\n",
        "def get_normalized_vectors_from_PDB(pdbPath, pdbcode):\n",
        "    pdbparser = PDB.PDBParser(QUIET=True)   # suppress PDBConstructionWarning\n",
        "    struct = pdbparser.get_structure(pdbcode, pdbPath)\n",
        "    residue = list(next(next(struct.get_models()).get_chains()).get_residues()) #struct -> model -> chain -> residue (only 1 model, 1 chain)\n",
        "    print(residue)\n",
        "    return [get_normalized_vector_from_atoms(i.get_atoms()) for i in residue]"
      ],
      "metadata": {
        "id": "iOoODoSInRGC"
      },
      "execution_count": null,
      "outputs": []
    },
    {
      "cell_type": "code",
      "source": [
        "pdbPath = \"/content/gdrive/MyDrive/input/novozymes-enzyme-stability-prediction/wildtype_structure_prediction_af2.pdb\"\n",
        "pdbcode = 'AF2'\n",
        "vectors = get_normalized_vectors_from_PDB(pdbPath, pdbcode)\n",
        "print(vectors)\n",
        "print(len(vectors))"
      ],
      "metadata": {
        "id": "griAwMRaAdww",
        "colab": {
          "base_uri": "https://localhost:8080/"
        },
        "outputId": "6268fbe5-e4a7-48c4-e88a-374d0aa0cced"
      },
      "execution_count": null,
      "outputs": [
        {
          "output_type": "stream",
          "name": "stdout",
          "text": [
            "[<Residue VAL het=  resseq=1 icode= >, <Residue PRO het=  resseq=2 icode= >, <Residue VAL het=  resseq=3 icode= >, <Residue ASN het=  resseq=4 icode= >, <Residue PRO het=  resseq=5 icode= >, <Residue GLU het=  resseq=6 icode= >, <Residue PRO het=  resseq=7 icode= >, <Residue ASP het=  resseq=8 icode= >, <Residue ALA het=  resseq=9 icode= >, <Residue THR het=  resseq=10 icode= >, <Residue SER het=  resseq=11 icode= >, <Residue VAL het=  resseq=12 icode= >, <Residue GLU het=  resseq=13 icode= >, <Residue ASN het=  resseq=14 icode= >, <Residue VAL het=  resseq=15 icode= >, <Residue ALA het=  resseq=16 icode= >, <Residue LEU het=  resseq=17 icode= >, <Residue LYS het=  resseq=18 icode= >, <Residue THR het=  resseq=19 icode= >, <Residue GLY het=  resseq=20 icode= >, <Residue SER het=  resseq=21 icode= >, <Residue GLY het=  resseq=22 icode= >, <Residue ASP het=  resseq=23 icode= >, <Residue SER het=  resseq=24 icode= >, <Residue GLN het=  resseq=25 icode= >, <Residue SER het=  resseq=26 icode= >, <Residue ASP het=  resseq=27 icode= >, <Residue PRO het=  resseq=28 icode= >, <Residue ILE het=  resseq=29 icode= >, <Residue LYS het=  resseq=30 icode= >, <Residue ALA het=  resseq=31 icode= >, <Residue ASP het=  resseq=32 icode= >, <Residue LEU het=  resseq=33 icode= >, <Residue GLU het=  resseq=34 icode= >, <Residue VAL het=  resseq=35 icode= >, <Residue LYS het=  resseq=36 icode= >, <Residue GLY het=  resseq=37 icode= >, <Residue GLN het=  resseq=38 icode= >, <Residue SER het=  resseq=39 icode= >, <Residue ALA het=  resseq=40 icode= >, <Residue LEU het=  resseq=41 icode= >, <Residue PRO het=  resseq=42 icode= >, <Residue PHE het=  resseq=43 icode= >, <Residue ASP het=  resseq=44 icode= >, <Residue VAL het=  resseq=45 icode= >, <Residue ASP het=  resseq=46 icode= >, <Residue CYS het=  resseq=47 icode= >, <Residue TRP het=  resseq=48 icode= >, <Residue ALA het=  resseq=49 icode= >, <Residue ILE het=  resseq=50 icode= >, <Residue LEU het=  resseq=51 icode= >, <Residue CYS het=  resseq=52 icode= >, <Residue LYS het=  resseq=53 icode= >, <Residue GLY het=  resseq=54 icode= >, <Residue ALA het=  resseq=55 icode= >, <Residue PRO het=  resseq=56 icode= >, <Residue ASN het=  resseq=57 icode= >, <Residue VAL het=  resseq=58 icode= >, <Residue LEU het=  resseq=59 icode= >, <Residue GLN het=  resseq=60 icode= >, <Residue ARG het=  resseq=61 icode= >, <Residue VAL het=  resseq=62 icode= >, <Residue ASN het=  resseq=63 icode= >, <Residue GLU het=  resseq=64 icode= >, <Residue LYS het=  resseq=65 icode= >, <Residue THR het=  resseq=66 icode= >, <Residue LYS het=  resseq=67 icode= >, <Residue ASN het=  resseq=68 icode= >, <Residue SER het=  resseq=69 icode= >, <Residue ASN het=  resseq=70 icode= >, <Residue ARG het=  resseq=71 icode= >, <Residue ASP het=  resseq=72 icode= >, <Residue ARG het=  resseq=73 icode= >, <Residue SER het=  resseq=74 icode= >, <Residue GLY het=  resseq=75 icode= >, <Residue ALA het=  resseq=76 icode= >, <Residue ASN het=  resseq=77 icode= >, <Residue LYS het=  resseq=78 icode= >, <Residue GLY het=  resseq=79 icode= >, <Residue PRO het=  resseq=80 icode= >, <Residue PHE het=  resseq=81 icode= >, <Residue LYS het=  resseq=82 icode= >, <Residue ASP het=  resseq=83 icode= >, <Residue PRO het=  resseq=84 icode= >, <Residue GLN het=  resseq=85 icode= >, <Residue LYS het=  resseq=86 icode= >, <Residue TRP het=  resseq=87 icode= >, <Residue GLY het=  resseq=88 icode= >, <Residue ILE het=  resseq=89 icode= >, <Residue LYS het=  resseq=90 icode= >, <Residue ALA het=  resseq=91 icode= >, <Residue LEU het=  resseq=92 icode= >, <Residue PRO het=  resseq=93 icode= >, <Residue PRO het=  resseq=94 icode= >, <Residue LYS het=  resseq=95 icode= >, <Residue ASN het=  resseq=96 icode= >, <Residue PRO het=  resseq=97 icode= >, <Residue SER het=  resseq=98 icode= >, <Residue TRP het=  resseq=99 icode= >, <Residue SER het=  resseq=100 icode= >, <Residue ALA het=  resseq=101 icode= >, <Residue GLN het=  resseq=102 icode= >, <Residue ASP het=  resseq=103 icode= >, <Residue PHE het=  resseq=104 icode= >, <Residue LYS het=  resseq=105 icode= >, <Residue SER het=  resseq=106 icode= >, <Residue PRO het=  resseq=107 icode= >, <Residue GLU het=  resseq=108 icode= >, <Residue GLU het=  resseq=109 icode= >, <Residue TYR het=  resseq=110 icode= >, <Residue ALA het=  resseq=111 icode= >, <Residue PHE het=  resseq=112 icode= >, <Residue ALA het=  resseq=113 icode= >, <Residue SER het=  resseq=114 icode= >, <Residue SER het=  resseq=115 icode= >, <Residue LEU het=  resseq=116 icode= >, <Residue GLN het=  resseq=117 icode= >, <Residue GLY het=  resseq=118 icode= >, <Residue GLY het=  resseq=119 icode= >, <Residue THR het=  resseq=120 icode= >, <Residue ASN het=  resseq=121 icode= >, <Residue ALA het=  resseq=122 icode= >, <Residue ILE het=  resseq=123 icode= >, <Residue LEU het=  resseq=124 icode= >, <Residue ALA het=  resseq=125 icode= >, <Residue PRO het=  resseq=126 icode= >, <Residue VAL het=  resseq=127 icode= >, <Residue ASN het=  resseq=128 icode= >, <Residue LEU het=  resseq=129 icode= >, <Residue ALA het=  resseq=130 icode= >, <Residue SER het=  resseq=131 icode= >, <Residue GLN het=  resseq=132 icode= >, <Residue ASN het=  resseq=133 icode= >, <Residue SER het=  resseq=134 icode= >, <Residue GLN het=  resseq=135 icode= >, <Residue GLY het=  resseq=136 icode= >, <Residue GLY het=  resseq=137 icode= >, <Residue VAL het=  resseq=138 icode= >, <Residue LEU het=  resseq=139 icode= >, <Residue ASN het=  resseq=140 icode= >, <Residue GLY het=  resseq=141 icode= >, <Residue PHE het=  resseq=142 icode= >, <Residue TYR het=  resseq=143 icode= >, <Residue SER het=  resseq=144 icode= >, <Residue ALA het=  resseq=145 icode= >, <Residue ASN het=  resseq=146 icode= >, <Residue LYS het=  resseq=147 icode= >, <Residue VAL het=  resseq=148 icode= >, <Residue ALA het=  resseq=149 icode= >, <Residue GLN het=  resseq=150 icode= >, <Residue PHE het=  resseq=151 icode= >, <Residue ASP het=  resseq=152 icode= >, <Residue PRO het=  resseq=153 icode= >, <Residue SER het=  resseq=154 icode= >, <Residue LYS het=  resseq=155 icode= >, <Residue PRO het=  resseq=156 icode= >, <Residue GLN het=  resseq=157 icode= >, <Residue GLN het=  resseq=158 icode= >, <Residue THR het=  resseq=159 icode= >, <Residue LYS het=  resseq=160 icode= >, <Residue GLY het=  resseq=161 icode= >, <Residue THR het=  resseq=162 icode= >, <Residue TRP het=  resseq=163 icode= >, <Residue PHE het=  resseq=164 icode= >, <Residue GLN het=  resseq=165 icode= >, <Residue ILE het=  resseq=166 icode= >, <Residue THR het=  resseq=167 icode= >, <Residue LYS het=  resseq=168 icode= >, <Residue PHE het=  resseq=169 icode= >, <Residue THR het=  resseq=170 icode= >, <Residue GLY het=  resseq=171 icode= >, <Residue ALA het=  resseq=172 icode= >, <Residue ALA het=  resseq=173 icode= >, <Residue GLY het=  resseq=174 icode= >, <Residue PRO het=  resseq=175 icode= >, <Residue TYR het=  resseq=176 icode= >, <Residue CYS het=  resseq=177 icode= >, <Residue LYS het=  resseq=178 icode= >, <Residue ALA het=  resseq=179 icode= >, <Residue LEU het=  resseq=180 icode= >, <Residue GLY het=  resseq=181 icode= >, <Residue SER het=  resseq=182 icode= >, <Residue ASN het=  resseq=183 icode= >, <Residue ASP het=  resseq=184 icode= >, <Residue LYS het=  resseq=185 icode= >, <Residue SER het=  resseq=186 icode= >, <Residue VAL het=  resseq=187 icode= >, <Residue CYS het=  resseq=188 icode= >, <Residue ASP het=  resseq=189 icode= >, <Residue LYS het=  resseq=190 icode= >, <Residue ASN het=  resseq=191 icode= >, <Residue LYS het=  resseq=192 icode= >, <Residue ASN het=  resseq=193 icode= >, <Residue ILE het=  resseq=194 icode= >, <Residue ALA het=  resseq=195 icode= >, <Residue GLY het=  resseq=196 icode= >, <Residue ASP het=  resseq=197 icode= >, <Residue TRP het=  resseq=198 icode= >, <Residue GLY het=  resseq=199 icode= >, <Residue PHE het=  resseq=200 icode= >, <Residue ASP het=  resseq=201 icode= >, <Residue PRO het=  resseq=202 icode= >, <Residue ALA het=  resseq=203 icode= >, <Residue LYS het=  resseq=204 icode= >, <Residue TRP het=  resseq=205 icode= >, <Residue ALA het=  resseq=206 icode= >, <Residue TYR het=  resseq=207 icode= >, <Residue GLN het=  resseq=208 icode= >, <Residue TYR het=  resseq=209 icode= >, <Residue ASP het=  resseq=210 icode= >, <Residue GLU het=  resseq=211 icode= >, <Residue LYS het=  resseq=212 icode= >, <Residue ASN het=  resseq=213 icode= >, <Residue ASN het=  resseq=214 icode= >, <Residue LYS het=  resseq=215 icode= >, <Residue PHE het=  resseq=216 icode= >, <Residue ASN het=  resseq=217 icode= >, <Residue TYR het=  resseq=218 icode= >, <Residue VAL het=  resseq=219 icode= >, <Residue GLY het=  resseq=220 icode= >, <Residue LYS het=  resseq=221 icode= >]\n",
            "[<Vector 0.56, -0.08, 0.82>, <Vector 0.59, -0.12, 0.80>, <Vector 0.58, -0.12, 0.81>, <Vector 0.50, -0.09, 0.86>, <Vector 0.49, -0.16, 0.86>, <Vector 0.54, -0.09, 0.84>, <Vector 0.46, -0.08, 0.89>, <Vector 0.46, -0.18, 0.87>, <Vector 0.49, -0.09, 0.87>, <Vector 0.39, -0.16, 0.91>, <Vector 0.46, -0.13, 0.88>, <Vector 0.33, -0.06, 0.94>, <Vector 0.38, -0.14, 0.91>, <Vector 0.32, 0.06, 0.94>, <Vector 0.21, -0.09, 0.97>, <Vector 0.13, 0.10, 0.98>, <Vector -0.00, 0.03, 1.00>, <Vector -0.14, -0.12, 0.98>, <Vector -0.23, 0.14, 0.96>, <Vector -0.39, 0.07, 0.92>, <Vector -0.50, -0.04, 0.86>, <Vector -0.55, -0.09, 0.83>, <Vector -0.63, -0.11, 0.77>, <Vector -0.70, 0.03, 0.71>, <Vector -0.79, 0.16, 0.59>, <Vector -0.68, 0.23, 0.70>, <Vector -0.57, 0.12, 0.81>, <Vector -0.54, 0.13, 0.83>, <Vector -0.37, -0.10, 0.92>, <Vector -0.32, 0.23, 0.91>, <Vector -0.09, 0.04, 0.99>, <Vector 0.14, 0.14, 0.97>, <Vector 0.27, -0.08, 0.95>, <Vector 0.51, -0.09, 0.85>, <Vector 0.69, 0.00, 0.71>, <Vector 0.66, -0.28, 0.68>, <Vector 0.88, -0.24, 0.40>, <Vector 0.92, -0.37, 0.10>, <Vector 0.81, -0.36, 0.45>, <Vector 0.93, 0.01, 0.35>, <Vector 0.96, 0.02, -0.17>, <Vector 0.91, -0.32, 0.11>, <Vector 0.59, -0.08, 0.73>, <Vector 0.77, 0.56, 0.22>, <Vector 0.59, 0.56, -0.41>, <Vector 0.09, 0.54, 0.67>, <Vector 0.23, 0.81, 0.51>, <Vector 0.07, 0.91, -0.26>, <Vector -0.38, 0.90, -0.06>, <Vector -0.37, 0.75, 0.50>, <Vector -0.04, 0.95, 0.29>, <Vector -0.15, 0.98, -0.07>, <Vector -0.41, 0.83, -0.33>, <Vector -0.59, 0.79, 0.09>, <Vector -0.73, 0.66, 0.14>, <Vector -0.86, 0.36, 0.33>, <Vector -0.55, 0.48, 0.67>, <Vector -0.68, 0.23, 0.69>, <Vector -0.73, -0.05, 0.67>, <Vector -0.76, -0.26, 0.59>, <Vector -0.46, -0.60, 0.63>, <Vector -0.73, -0.58, 0.35>, <Vector -0.63, -0.71, 0.30>, <Vector -0.45, -0.87, 0.17>, <Vector -0.66, -0.74, 0.03>, <Vector -0.76, -0.64, 0.10>, <Vector -0.48, -0.85, 0.11>, <Vector -0.51, -0.85, -0.11>, <Vector -0.72, -0.65, -0.20>, <Vector -0.79, -0.59, -0.11>, <Vector -0.40, -0.85, -0.26>, <Vector -0.61, -0.64, -0.47>, <Vector -0.84, -0.40, -0.33>, <Vector -0.68, -0.43, -0.58>, <Vector -0.50, -0.46, -0.73>, <Vector -0.35, -0.65, -0.66>, <Vector -0.35, -0.75, -0.54>, <Vector -0.36, -0.50, -0.77>, <Vector -0.04, -0.58, -0.81>, <Vector -0.07, -0.37, -0.92>, <Vector 0.20, -0.28, -0.93>, <Vector 0.19, -0.61, -0.75>, <Vector 0.14, -0.37, -0.92>, <Vector 0.22, -0.19, -0.95>, <Vector 0.18, -0.13, -0.97>, <Vector -0.07, -0.35, -0.93>, <Vector -0.17, -0.28, -0.93>, <Vector -0.05, 0.01, -1.00>, <Vector 0.05, -0.03, -0.99>, <Vector 0.28, 0.27, -0.91>, <Vector 0.40, 0.07, -0.91>, <Vector 0.49, -0.13, -0.85>, <Vector 0.66, 0.08, -0.74>, <Vector 0.75, 0.14, -0.64>, <Vector 0.81, -0.18, -0.55>, <Vector 0.95, 0.04, -0.30>, <Vector 0.93, -0.11, -0.34>, <Vector 0.99, -0.03, -0.15>, <Vector 0.98, -0.10, -0.09>, <Vector 0.93, -0.27, -0.24>, <Vector 0.87, -0.35, -0.34>, <Vector 0.78, -0.50, -0.35>, <Vector 0.68, -0.39, -0.62>, <Vector 0.76, -0.19, -0.59>, <Vector 0.48, -0.54, -0.68>, <Vector 0.44, -0.64, -0.61>, <Vector 0.08, -0.65, -0.74>, <Vector 0.35, -0.62, -0.59>, <Vector -0.52, -0.67, -0.46>, <Vector -0.81, 0.20, 0.25>, <Vector -0.96, -0.07, 0.17>, <Vector -0.53, -0.49, 0.59>, <Vector -0.66, -0.74, 0.02>, <Vector -0.55, -0.72, 0.41>, <Vector -0.80, -0.43, 0.40>, <Vector -0.90, -0.28, 0.31>, <Vector -0.94, -0.07, 0.31>, <Vector -0.94, -0.33, 0.03>, <Vector -0.88, -0.35, -0.29>, <Vector -0.91, -0.12, -0.39>, <Vector -0.88, 0.15, -0.43>, <Vector -0.86, -0.07, -0.49>, <Vector -0.56, 0.46, -0.63>, <Vector -0.34, -0.17, -0.89>, <Vector 0.28, 0.05, -0.93>, <Vector 0.49, -0.07, -0.86>, <Vector 0.71, -0.40, -0.54>, <Vector 0.79, -0.47, -0.36>, <Vector 0.54, -0.78, -0.29>, <Vector 0.75, -0.65, -0.08>, <Vector 0.83, -0.54, -0.03>, <Vector 0.45, -0.85, -0.15>, <Vector 0.51, -0.84, 0.08>, <Vector 0.67, -0.64, 0.34>, <Vector 0.48, -0.70, 0.50>, <Vector 0.27, -0.84, 0.46>, <Vector 0.36, -0.74, 0.56>, <Vector 0.44, -0.48, 0.74>, <Vector 0.04, -0.60, 0.78>, <Vector 0.07, -0.75, 0.64>, <Vector 0.16, -0.56, 0.81>, <Vector -0.02, -0.30, 0.94>, <Vector -0.22, -0.55, 0.80>, <Vector -0.03, -0.56, 0.83>, <Vector 0.03, -0.39, 0.92>, <Vector -0.12, -0.28, 0.95>, <Vector -0.23, -0.38, 0.89>, <Vector -0.37, -0.40, 0.83>, <Vector -0.49, -0.49, 0.72>, <Vector -0.51, -0.66, 0.54>, <Vector -0.74, -0.46, 0.47>, <Vector -0.74, -0.59, 0.32>, <Vector -0.84, -0.47, 0.26>, <Vector -0.83, -0.53, 0.17>, <Vector -0.76, -0.58, 0.28>, <Vector -0.85, -0.38, 0.36>, <Vector -0.83, -0.37, 0.42>, <Vector -0.74, -0.53, 0.40>, <Vector -0.70, -0.53, 0.48>, <Vector -0.66, -0.32, 0.67>, <Vector -0.68, -0.36, 0.63>, <Vector -0.55, -0.30, 0.78>, <Vector -0.73, -0.07, 0.66>, <Vector -0.49, -0.16, 0.84>, <Vector -0.39, 0.26, 0.87>, <Vector -0.11, 0.11, 0.97>, <Vector -0.09, 0.35, 0.93>, <Vector 0.25, 0.42, 0.86>, <Vector 0.30, 0.33, 0.88>, <Vector 0.48, 0.22, 0.85>, <Vector 0.68, 0.15, 0.71>, <Vector 0.83, 0.08, 0.54>, <Vector 0.72, 0.34, 0.60>, <Vector 0.79, 0.47, 0.37>, <Vector 0.72, 0.66, 0.17>, <Vector 0.47, 0.85, 0.05>, <Vector 0.51, 0.63, 0.57>, <Vector 0.63, 0.58, 0.49>, <Vector 0.35, 0.85, 0.39>, <Vector 0.06, 0.78, 0.61>, <Vector 0.21, 0.69, 0.69>, <Vector 0.24, 0.79, 0.55>, <Vector -0.01, 0.87, 0.49>, <Vector 0.22, 0.92, 0.32>, <Vector -0.07, 0.96, 0.22>, <Vector 0.23, 0.97, 0.08>, <Vector 0.33, 0.94, 0.06>, <Vector 0.08, 0.99, -0.11>, <Vector 0.18, 0.95, -0.24>, <Vector 0.08, 0.87, -0.48>, <Vector 0.25, 0.88, -0.41>, <Vector 0.37, 0.90, -0.18>, <Vector 0.60, 0.70, -0.37>, <Vector 0.57, 0.80, -0.14>, <Vector 0.79, 0.56, -0.22>, <Vector 0.90, 0.43, -0.08>, <Vector 0.97, 0.21, 0.03>, <Vector 0.94, 0.24, -0.16>, <Vector 0.90, 0.29, -0.33>, <Vector 0.79, 0.28, -0.52>, <Vector 0.61, 0.63, -0.46>, <Vector 0.67, 0.54, -0.47>, <Vector 0.32, 0.76, -0.55>, <Vector 0.42, 0.62, -0.65>, <Vector 0.44, 0.31, -0.82>, <Vector -0.00, 0.50, -0.85>, <Vector -0.12, 0.21, -0.96>, <Vector -0.61, 0.27, -0.72>, <Vector -0.59, -0.19, -0.78>, <Vector -0.63, 0.01, -0.78>, <Vector -0.73, -0.22, -0.64>, <Vector -0.73, -0.02, -0.67>, <Vector -0.60, -0.00, -0.80>, <Vector -0.49, -0.24, -0.84>, <Vector -0.45, 0.05, -0.88>, <Vector -0.32, -0.11, -0.93>, <Vector -0.45, 0.24, -0.85>, <Vector -0.08, 0.48, -0.85>, <Vector -0.35, 0.55, -0.75>, <Vector -0.05, 0.68, -0.73>, <Vector 0.19, 0.84, -0.48>]\n",
            "221\n"
          ]
        }
      ]
    },
    {
      "cell_type": "markdown",
      "source": [
        "# Preparing Input data"
      ],
      "metadata": {
        "id": "ZH-TjzH5EgMo"
      }
    },
    {
      "cell_type": "code",
      "source": [
        "from torch.utils.data import dataloader\n",
        "from pytorch_lightning import LightningDataModule\n",
        "from torch_geometric.data import Data, Batch\n",
        "from torch.nn.functional import pad"
      ],
      "metadata": {
        "id": "vtC2I1Y43kQx"
      },
      "execution_count": null,
      "outputs": []
    },
    {
      "cell_type": "code",
      "source": [
        "class CustomData(LightningDataModule):\n",
        "    def __init__(self, training_set, validation_set, test_set, batch_size=128, num_workers=1):\n",
        "        super().__init__()\n",
        "        self.training_set = training_set\n",
        "        self.validation_set = validation_set\n",
        "        self.test_set = test_set\n",
        "        self.batch_size = batch_size\n",
        "        self.num_workers = num_workers\n",
        "\n",
        "    def collate_function(self, batch):\n",
        "        return Batch.from_data_list([Data(edge_index=data.edge_index,\n",
        "                                          x=pad(data.x, (0,3), 'constant', 0.)[:,:53],\n",
        "                                          edge_attr=data.edge_attr,\n",
        "                                          y=data.y.unsqueeze(0).float()) for data in batch])\n",
        "        \n",
        "    def train_dataloader(self): \n",
        "        return dataloader(self.training_set, batch_size=self.batch_size, num_workers=self.num_workers, collate_fn=self.collate_function)\n",
        "        \n",
        "    def val_dataloader(self): \n",
        "        return dataloader(self.validation_set, batch_size=self.batch_size, num_workers=self.num_workers, collate_fn=self.collate_function)\n",
        "    \n",
        "    def test_dataloader(self): \n",
        "        return dataloader(self.test_set, batch_size=self.batch_size, num_workers=self.num_workers, collate_fn=self.collate_function)\n",
        "        "
      ],
      "metadata": {
        "id": "YlX7W2X_HJFL"
      },
      "execution_count": null,
      "outputs": []
    },
    {
      "cell_type": "code",
      "source": [
        "class DistogramAttention(nn.Module):\n",
        "    def __init__(self, input_dim, output_dim):\n",
        "        super().__init__()\n",
        "        self.input_dim = input_dim\n",
        "        self.output_dim = output_dim\n",
        "        self.linear = nn.Linear(input_dim, output_dim):\n",
        "  \n",
        "    def forward(self, distogram, features):\n",
        "        features = self.linear(features) # dimension of features is (n_of_seq * embedding_size)\n",
        "        features = distogram.matmul(features) # dimension of distogram is (n_of_seq * n_of_seq)\n",
        "        return features"
      ],
      "metadata": {
        "id": "NlFM1KSf8jZm"
      },
      "execution_count": null,
      "outputs": []
    },
    {
      "cell_type": "code",
      "source": [
        "from torch.nn import Module, Linear\n",
        "from torch_geometric.nn import GCNConv, global_mean_pool\n",
        "\n",
        "### 여기서 GCNConv 대신 직접 짠 모델로 바꾸는 방향\n",
        "\n",
        "class CustomGCN(Module):\n",
        "    def __init__(self, input_size, label_size, layer_size=64, dropout=0.1, heads=2):\n",
        "        super().__init__()\n",
        "        self.input_size = input_size\n",
        "        self.label_size = label_size\n",
        "        self.layer_size = layer_size\n",
        "        self.dropout = dropout\n",
        "        self.heads = heads\n",
        "        self.setup()\n",
        "\n",
        "    def setup(self):\n",
        "        self.first_layer = GCNConv(self.input_size, self.layer_size, dropout=self.dropout, heads=self.heads, concat=False)\n",
        "        self.last_layer = GCNConv(self.layer_size, self.layer_size, dropout=self.dropout, heads=self.heads, concat=False)\n",
        "        self.ffnn = Linear(self.layer_size, self.label_size)\n",
        "\n",
        "    def convert_graph_into_single_vector(self, graph_hidden, batch_index):\n",
        "        return global_mean_pool(graph_hidden, batch_index)\n",
        "\n",
        "    def forward(self, batch):\n",
        "        z = self.first_layer(batch.x, batch.edge_index)\n",
        "        z = self.last_layer(z, batch.edge_index)\n",
        "        z = self.convert_graph_into_single_vector(z, batch.batch)\n",
        "        z = self.ffnn(z)\n",
        "        return z"
      ],
      "metadata": {
        "id": "AGNWjYbcyHJS"
      },
      "execution_count": null,
      "outputs": []
    },
    {
      "cell_type": "code",
      "source": [
        "from pytorch_lightning import LightningModule\n",
        "from torch.nn import BCEWithLogitsLoss\n",
        "from torch.optim import Adam\n",
        "\n",
        "class CustomModel(LightningModule):\n",
        "    def __init__(self, model, learning_rate=1e-3):\n",
        "        super().__init__()\n",
        "        self.model = model\n",
        "        self.lr = learning_rate\n",
        "\n",
        "    def forward(self, batch, mode):\n",
        "        z = self.model(batch)\n",
        "        loss = self.loss_function(z, batch.y)\n",
        "        self.log(f\"{mode}_loss\", loss, batch_size=batch.y.size(0), prog_bar=True, on_step=False, on_epoch=True)\n",
        "        return loss, z, batch.y\n",
        "\n",
        "    def training_step(self, batch, batch_idx):\n",
        "        loss, predict, answer = self(batch, 'train')\n",
        "        return {'loss':loss, 'predict':predict, 'answer':answer}\n",
        "\n",
        "    def validation_step(self, batch, batch_idx):\n",
        "        loss, predict, answer = self(batch, 'val')\n",
        "        return {'loss':loss, 'predict':predict, 'answer':answer}\n",
        "\n",
        "    def test_step(self, batch, batch_idx):\n",
        "        loss, predict, answer = self(batch, 'test')\n",
        "        return {'loss':loss, 'predict':predict, 'answer':answer}\n",
        "\n",
        "    def predict_step(self, batch, batch_idx):\n",
        "        predict = self.model(batch)\n",
        "        return predict\n",
        "\n",
        "    def loss_function(self, output, target):\n",
        "        return BCEWithLogitsLoss(reduction='mean')(output, target)\n",
        "\n",
        "    def configure_optimizers(self):\n",
        "        optimizer = Adam(self.parameters(), lr=self.lr)\n",
        "        return optimizer\n",
        "     "
      ],
      "metadata": {
        "id": "diSsnSwjvdJ1"
      },
      "execution_count": null,
      "outputs": []
    },
    {
      "cell_type": "code",
      "source": [
        "from pytorch_lightning import Trainer\n",
        "\n",
        "import warnings\n",
        "warnings.filterwarnings(action='ignore')\n",
        "\n",
        "# training_dataset = \n",
        "# validation_dataset = \n",
        "# test_dataset = \n",
        "\n",
        "data_module = CustomData(training_dataset, validation_dataset, test_dataset)\n",
        "\n",
        "gat = CustomGCN(53, 1)\n",
        "model = CustomModel(gat)\n",
        "\n",
        "trainer = Trainer(max_epochs=1, accelerator='gpu', devices=[0])\n",
        "trainer.fit(model, datamodule=data_module)"
      ],
      "metadata": {
        "id": "jsVwY5gFyHmz",
        "colab": {
          "base_uri": "https://localhost:8080/",
          "height": 232
        },
        "outputId": "8c970fc0-5f2c-4017-9fb2-bd4ed9a99ce7"
      },
      "execution_count": null,
      "outputs": [
        {
          "output_type": "error",
          "ename": "NameError",
          "evalue": "ignored",
          "traceback": [
            "\u001b[0;31m---------------------------------------------------------------------------\u001b[0m",
            "\u001b[0;31mNameError\u001b[0m                                 Traceback (most recent call last)",
            "\u001b[0;32m<ipython-input-15-b4ac21b72c0a>\u001b[0m in \u001b[0;36m<module>\u001b[0;34m\u001b[0m\n\u001b[1;32m      8\u001b[0m \u001b[0;31m# test_dataset =\u001b[0m\u001b[0;34m\u001b[0m\u001b[0;34m\u001b[0m\u001b[0;34m\u001b[0m\u001b[0m\n\u001b[1;32m      9\u001b[0m \u001b[0;34m\u001b[0m\u001b[0m\n\u001b[0;32m---> 10\u001b[0;31m \u001b[0mdata_module\u001b[0m \u001b[0;34m=\u001b[0m \u001b[0mCustomData\u001b[0m\u001b[0;34m(\u001b[0m\u001b[0mtraining_dataset\u001b[0m\u001b[0;34m,\u001b[0m \u001b[0mvalidation_dataset\u001b[0m\u001b[0;34m,\u001b[0m \u001b[0mtest_dataset\u001b[0m\u001b[0;34m)\u001b[0m\u001b[0;34m\u001b[0m\u001b[0;34m\u001b[0m\u001b[0m\n\u001b[0m\u001b[1;32m     11\u001b[0m \u001b[0;34m\u001b[0m\u001b[0m\n\u001b[1;32m     12\u001b[0m \u001b[0mgat\u001b[0m \u001b[0;34m=\u001b[0m \u001b[0mCustomGCN\u001b[0m\u001b[0;34m(\u001b[0m\u001b[0;36m53\u001b[0m\u001b[0;34m,\u001b[0m \u001b[0;36m1\u001b[0m\u001b[0;34m)\u001b[0m\u001b[0;34m\u001b[0m\u001b[0;34m\u001b[0m\u001b[0m\n",
            "\u001b[0;31mNameError\u001b[0m: name 'training_dataset' is not defined"
          ]
        }
      ]
    },
    {
      "cell_type": "code",
      "source": [
        "from torchmetrics.functional import auroc\n",
        "\n",
        "outputs = trainer.predict(model, dataloaders=data_module.test_dataloader())\n",
        "y = torch.concat(outputs)\n",
        "x = torch.concat([batch.y for batch in data_module.test_dataloader()]).int()\n",
        "\n",
        "evaluation = auroc(y, x)\n",
        "print(f\"auc-roc: {evaluation}\")"
      ],
      "metadata": {
        "id": "nmXQ-sfuyqtD"
      },
      "execution_count": null,
      "outputs": []
    }
  ]
}