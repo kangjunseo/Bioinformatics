{
 "cells": [
  {
   "cell_type": "markdown",
   "id": "afa8af22",
   "metadata": {},
   "source": [
    "# Inferring mRNA from Protein\n",
    "## Problem\n",
    "For positive integers a and n, a modulo n (written amodn in shorthand) is the remainder when a is divided by n. For example, 29mod11=7 because 29=11×2+7.\n",
    "\n",
    "Modular arithmetic is the study of addition, subtraction, multiplication, and division with respect to the modulo operation. We say that a and b are congruent modulo n if amodn=bmodn; in this case, we use the notation a≡bmodn.\n",
    "\n",
    "Two useful facts in modular arithmetic are that if a≡bmodn and c≡dmodn, then a+c≡b+dmodn and a×c≡b×dmodn. To check your understanding of these rules, you may wish to verify these relationships for a=29, b=73, c=10, d=32, and n=11.\n",
    "\n",
    "As you will see in this exercise, some Rosalind problems will ask for a (very large) integer solution modulo a smaller number to avoid the computational pitfalls that arise with storing such large numbers.\n",
    "\n",
    "Given: A protein string of length at most 1000 aa.\n",
    "\n",
    "Return: The total number of different RNA strings from which the protein could have been translated, modulo 1,000,000. (Don't neglect the importance of the stop codon in protein translation.)"
   ]
  },
  {
   "cell_type": "code",
   "execution_count": 3,
   "id": "cb430568",
   "metadata": {},
   "outputs": [
    {
     "name": "stdout",
     "output_type": "stream",
     "text": [
      "MIENVRKYQYSVISFNTFISNPDPQFISKILHSARYMECFAGMGECDVCVAPPWTCNISYPSCHNEPITTAVSYCCMQEETAYQFAGDSRCNTLFKAQNVFRHDALMTVWESMRAWVCINGPDANYTWQYLHVKSSLTHCVYSRNFMMQNKKTMCPRPTWSTHTIRCVNNSYKLICEVIVISKFCQDFYLGMCQQVSHRIVHERLVRQWMMMPTNCWVETPIQITLCALEEGSASAKYQARADRVCATHYQERHNRLKYGIGTTCINAFVHYWNKECAGCADKHVDTLITDQCDKIVTACHIDLRMWKTDLKAVLWTNDPFARKKFCGCHKPVQYMMSTCLVQKQKNCKVDYSLHHTEVKMRPYRWKITITSSVVHHMARDWTECNREYCWNFRLWALTCVTFAALQAYIGVLEIPYEGYDWIECYVHEWGIQQGHGHFEQPMTQFVPFFVIKDHYSCQILNNFNSTVCNDKKSYTMHTQYPRNKPCPQHQVSCGYGMVMSMDRRALAIMYWSWDYQPWFFATTGRRGFWSYDYTPSRQQLYYCVFALRWECCMMCKEQEHRCMFEDWRWSLHAMKKRTYHMSQYCTQTTCGYMKVIERIAYICWKVFHKKHREGQQFLGRPPTIHPYPMNQNQQPPQHWLFCVHAFGLKQFWDQTPERLNSYCFIEVMWCRVATLDFMSWYYWALAQYVAAILYFLCLCCFYFHLGRQQSKQQPGGHVCVQPHDWNWSRFQWRDWWALPGRMVPEAQDSYNKGLNCWNSQIGFNNKTICTCRWIEKAITFTHPRNASSWPNCIKDWDSRTGELYFPCAIKNINLEHKMEAPHSPLSPSNDNAIKMECELCKQIRTVQSQTSNPDMIMNQGWCPAALSQQNGCTYCRCLNYVDSMRQTELNTKLIMCKMNCYGTVDIVILLKPTEYKMYSVATSLPVTCLQGPWGKMFYPSQFQWFMVCRQYAIKIMHIPGLRVVQHGDTPDQTNFQWVKVCWFMGTWGKRAPDCADSKL\n",
      "54464\n"
     ]
    }
   ],
   "source": [
    "factor = 1000000\n",
    "codons = {'L':6,'S':6,'R':6,\n",
    "          'V':4,'P':4,'T':4,'A':4,'G':4,\n",
    "          'F':2,'Y':2,'H':2,'Q':2,'N':2,'K':2,'D':2,'E':2,'C':2,\n",
    "          'I':3,'W':1,'M':1}\n",
    "I = input()\n",
    "O = 3;\n",
    "for i in I :\n",
    "    O *= codons[i]\n",
    "    O %= factor\n",
    "print(O)"
   ]
  },
  {
   "cell_type": "code",
   "execution_count": null,
   "id": "c9dfab3c",
   "metadata": {},
   "outputs": [],
   "source": []
  }
 ],
 "metadata": {
  "kernelspec": {
   "display_name": "Python 3 (ipykernel)",
   "language": "python",
   "name": "python3"
  },
  "language_info": {
   "codemirror_mode": {
    "name": "ipython",
    "version": 3
   },
   "file_extension": ".py",
   "mimetype": "text/x-python",
   "name": "python",
   "nbconvert_exporter": "python",
   "pygments_lexer": "ipython3",
   "version": "3.8.8"
  }
 },
 "nbformat": 4,
 "nbformat_minor": 5
}
