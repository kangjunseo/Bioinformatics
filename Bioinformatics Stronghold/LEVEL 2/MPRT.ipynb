{
 "cells": [
  {
   "cell_type": "markdown",
   "id": "289a3e91",
   "metadata": {},
   "source": [
    "# Finding a Protein Motif\n",
    "## Problem\n",
    "Problem\n",
    "To allow for the presence of its varying forms, a protein motif is represented by a shorthand as follows: [XY] means \"either X or Y\" and {X} means \"any amino acid except X.\" For example, the N-glycosylation motif is written as N{P}[ST]{P}.\n",
    "\n",
    "You can see the complete description and features of a particular protein by its access ID \"uniprot_id\" in the UniProt database, by inserting the ID number into\n",
    "\n",
    "http://www.uniprot.org/uniprot/uniprot_id\n",
    "Alternatively, you can obtain a protein sequence in FASTA format by following\n",
    "\n",
    "http://www.uniprot.org/uniprot/uniprot_id.fasta\n",
    "For example, the data for protein B5ZC00 can be found at http://www.uniprot.org/uniprot/B5ZC00.\n",
    "\n",
    "Given: At most 15 UniProt Protein Database access IDs.\n",
    "\n",
    "Return: For each protein possessing the N-glycosylation motif, output its given access ID followed by a list of locations in the protein string where the motif can be found."
   ]
  },
  {
   "cell_type": "code",
   "execution_count": 67,
   "id": "2da934fe",
   "metadata": {},
   "outputs": [
    {
     "name": "stdout",
     "output_type": "stream",
     "text": [
      "Q8WW18 Q90X23 P01045_KNH2_BOVIN P11279_LMP1_HUMAN P01190_COLI_BOVIN C0QUK8 P10646_TFPI_HUMAN P07204_TRBM_HUMAN P81331 A9N9G8 Q9LHF1 B3ET80 P33515 P00750_UROT_HUMAN\n",
      "P01045_KNH2_BOVIN\n",
      "47 87 168 169 197 204 280 \n",
      "P11279_LMP1_HUMAN\n",
      "37 45 62 76 84 103 107 121 130 165 181 223 228 241 249 261 293 322 \n",
      "P01190_COLI_BOVIN\n",
      "91 \n",
      "P10646_TFPI_HUMAN\n",
      "145 195 256 \n",
      "P07204_TRBM_HUMAN\n",
      "47 115 116 382 409 \n",
      "Q9LHF1\n",
      "3 4 60 94 106 289 340 \n",
      "B3ET80\n",
      "6 \n",
      "P33515\n",
      "157 243 339 399 411 575 611 794 896 993 1027 1351 1450 1683 1692 1830 1886 2172 2266 2488 2656 2716 2817 \n",
      "P00750_UROT_HUMAN\n",
      "152 219 483 \n"
     ]
    }
   ],
   "source": [
    "import requests, re\n",
    "def get_FASTA(uid) :\n",
    "    r = requests.get('http://www.uniprot.org/uniprot/'+uid+'.fasta')\n",
    "    r_list = r.text.split('\\n')\n",
    "    r_code = '' \n",
    "    for code in r_list[1:] :\n",
    "        r_code += code\n",
    "    \n",
    "    return r_code\n",
    "\n",
    "I = input().split()\n",
    "motif = re.compile(\"(?=N[^P][ST][^P])\")\n",
    "\n",
    "for i in I:\n",
    "    target_code = get_FASTA(i)\n",
    "    if(motif.search(target_code)!=None):\n",
    "        print(i)\n",
    "        m = motif.finditer(target_code)\n",
    "        for j in m:\n",
    "            print(j.start()+1,end=' ')\n",
    "        print()"
   ]
  },
  {
   "cell_type": "code",
   "execution_count": null,
   "id": "c947a193",
   "metadata": {},
   "outputs": [],
   "source": []
  }
 ],
 "metadata": {
  "kernelspec": {
   "display_name": "Python 3 (ipykernel)",
   "language": "python",
   "name": "python3"
  },
  "language_info": {
   "codemirror_mode": {
    "name": "ipython",
    "version": 3
   },
   "file_extension": ".py",
   "mimetype": "text/x-python",
   "name": "python",
   "nbconvert_exporter": "python",
   "pygments_lexer": "ipython3",
   "version": "3.8.8"
  }
 },
 "nbformat": 4,
 "nbformat_minor": 5
}
