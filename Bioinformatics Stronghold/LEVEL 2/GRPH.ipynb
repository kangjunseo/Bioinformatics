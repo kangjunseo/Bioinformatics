{
 "cells": [
  {
   "cell_type": "markdown",
   "id": "ab9f0dc7",
   "metadata": {},
   "source": [
    "# Overlap Graphs\n",
    "## Problem\n",
    "A graph whose nodes have all been labeled can be represented by an adjacency list, in which each row of the list contains the two node labels corresponding to a unique edge.\n",
    "\n",
    "A directed graph (or digraph) is a graph containing directed edges, each of which has an orientation. That is, a directed edge is represented by an arrow instead of a line segment; the starting and ending nodes of an edge form its tail and head, respectively. The directed edge with tail v and head w is represented by (v,w) (but not by (w,v)). A directed loop is a directed edge of the form (v,v).\n",
    "\n",
    "For a collection of strings and a positive integer k, the overlap graph for the strings is a directed graph Ok in which each string is represented by a node, and string s is connected to string t with a directed edge when there is a length k suffix of s that matches a length k prefix of t, as long as s≠t; we demand s≠t to prevent directed loops in the overlap graph (although directed cycles may be present).\n",
    "\n",
    "Given: A collection of DNA strings in FASTA format having total length at most 10 kbp.\n",
    "\n",
    "Return: The adjacency list corresponding to O3. You may return edges in any order."
   ]
  },
  {
   "cell_type": "code",
   "execution_count": 53,
   "id": "ae95bb24",
   "metadata": {},
   "outputs": [
    {
     "name": "stdout",
     "output_type": "stream",
     "text": [
      ">Rosalind_0498 AAATAAA >Rosalind_2391 AAATTTT >Rosalind_2323 TTTTCCC >Rosalind_0442 AAATCCC >Rosalind_5013 GGGTGGG\n",
      "Rosalind_0498 Rosalind_2391\n",
      "Rosalind_0498 Rosalind_0442\n",
      "Rosalind_2391 Rosalind_2323\n"
     ]
    }
   ],
   "source": [
    "I = input().split()\n",
    "FASTA_ID=[]*100\n",
    "FASTA_seq=['']*100\n",
    "itr = -1\n",
    "for i, value in enumerate(I):\n",
    "    if '>' in value:\n",
    "        I[i]=value.strip('>')\n",
    "        FASTA_ID.append(I[i])\n",
    "        itr += 1\n",
    "    else :\n",
    "        FASTA_seq[itr]+=value\n",
    "\n",
    "FASTA_dict = dict(zip(FASTA_ID,FASTA_seq))\n",
    "G = []\n",
    "for v in FASTA_dict :\n",
    "    for w in FASTA_dict:\n",
    "        if v == w : continue\n",
    "        elif FASTA_dict[v][-3:] == FASTA_dict[w][:3] :\n",
    "            G.append((v,w))\n",
    "\n",
    "for v, w in G :\n",
    "    print(v,w)"
   ]
  },
  {
   "cell_type": "code",
   "execution_count": null,
   "id": "3a69eaed",
   "metadata": {},
   "outputs": [],
   "source": [
    "\n",
    "        "
   ]
  }
 ],
 "metadata": {
  "kernelspec": {
   "display_name": "Python 3 (ipykernel)",
   "language": "python",
   "name": "python3"
  },
  "language_info": {
   "codemirror_mode": {
    "name": "ipython",
    "version": 3
   },
   "file_extension": ".py",
   "mimetype": "text/x-python",
   "name": "python",
   "nbconvert_exporter": "python",
   "pygments_lexer": "ipython3",
   "version": "3.8.8"
  }
 },
 "nbformat": 4,
 "nbformat_minor": 5
}
